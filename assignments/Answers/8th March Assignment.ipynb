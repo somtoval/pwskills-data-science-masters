{
 "cells": [
  {
   "cell_type": "markdown",
   "id": "9d7f8f2c",
   "metadata": {},
   "source": [
    "#### Q1. What is the Probability density function?"
   ]
  },
  {
   "cell_type": "markdown",
   "id": "d5629ddd",
   "metadata": {},
   "source": [
    "Ans - The probability density function (PDF) is a mathematical function that describes the probability distribution of a continuous random variable. The PDF represents the relative likelihood of a random variable taking on a particular value within a given range.\n",
    "\n",
    "For a continuous random variable X, the PDF is typically denoted by f(x), and it satisfies the following conditions:\n",
    "\n",
    "f(x) is non-negative for all x.\n",
    "The area under the curve of f(x) over the entire range of X is equal to 1.\n",
    "The probability of X taking on a value in any interval [a,b] is given by the integral of f(x) over that interval, i.e., P(a ≤ X ≤ b) = ∫[a,b] f(x)dx."
   ]
  },
  {
   "cell_type": "markdown",
   "id": "564c0f66",
   "metadata": {},
   "source": [
    "#### Q2. What are the types of Probability distribution?"
   ]
  },
  {
   "cell_type": "markdown",
   "id": "29d37804",
   "metadata": {},
   "source": [
    "Ans - There are several types of probability distributions, but the most common ones are:\n",
    "\n",
    "Normal distribution: The normal distribution is also known as the Gaussian distribution. It is a continuous probability distribution that is symmetric and bell-shaped. Many natural phenomena follow this distribution, and it is often used in statistical inference.\n",
    "\n",
    "Binomial distribution: The binomial distribution is a discrete probability distribution that describes the number of successes in a fixed number of independent trials, each with a fixed probability of success.\n",
    "\n",
    "Poisson distribution: The Poisson distribution is a discrete probability distribution that is often used to model the number of occurrences of an event in a fixed interval of time or space."
   ]
  },
  {
   "cell_type": "markdown",
   "id": "14ba195b",
   "metadata": {},
   "source": [
    "#### Q3. Write a Python function to calculate the probability density function of a normal distribution with given mean and standard deviation at a given point."
   ]
  },
  {
   "cell_type": "code",
   "execution_count": 1,
   "id": "8fd2bbaf",
   "metadata": {},
   "outputs": [],
   "source": [
    "from scipy.stats import norm\n",
    "\n",
    "def normal_pdf(x, mean, std_dev):\n",
    "    return norm.pdf(x, loc=mean, scale=std_dev)\n"
   ]
  },
  {
   "cell_type": "code",
   "execution_count": 2,
   "id": "2a8cd165",
   "metadata": {},
   "outputs": [
    {
     "name": "stdout",
     "output_type": "stream",
     "text": [
      "0.48394144903828673\n"
     ]
    }
   ],
   "source": [
    "pdf_value = normal_pdf(2.5, 3, 0.5)\n",
    "print(pdf_value)\n"
   ]
  },
  {
   "cell_type": "markdown",
   "id": "a8fbd85e",
   "metadata": {},
   "source": [
    "#### Q4. What are the properties of Binomial distribution? Give two examples of events where binomial distribution can be applied."
   ]
  },
  {
   "cell_type": "markdown",
   "id": "8a2cf483",
   "metadata": {},
   "source": [
    "The Binomial distribution has the following properties:\n",
    "\n",
    "1. The experiment consists of a fixed number of trials, denoted by n.\n",
    "2. Each trial can result in one of two possible outcomes, success or failure.\n",
    "3. The trials are independent of each other.\n",
    "4. The probability of success on any individual trial remains constant and is denoted by p.\n",
    "\n",
    "Two examples of events where the Binomial distribution can be applied are:\n",
    "\n",
    "1. Tossing a coin: In this example, we consider tossing a fair coin n times and counting the number of heads. Each toss can either result in a head or a tail, so there are two possible outcomes for each trial. The probability of getting a head on any given toss is 0.5, and this probability remains constant across all tosses. Therefore, the number of heads obtained after n tosses follows a Binomial distribution with parameters n and p = 0.5.\n",
    "\n",
    "2. Manufacturing defect rates: In this example, we consider a manufacturing process that produces items with a certain probability of defects. Suppose that we are interested in the number of defective items produced in a batch of n items. Each item in the batch can either be defective or non-defective, so there are two possible outcomes for each trial. The probability of an item being defective is denoted by p, and this probability remains constant across all items produced in the batch. Therefore, the number of defective items produced in a batch of n items follows a Binomial distribution with parameters n and p."
   ]
  },
  {
   "cell_type": "markdown",
   "id": "46f4483b",
   "metadata": {},
   "source": [
    "#### Q5. Generate a random sample of size 1000 from a binomial distribution with probability of success 0.4 and plot a histogram of the results using matplotlib."
   ]
  },
  {
   "cell_type": "code",
   "execution_count": 3,
   "id": "2f62d434",
   "metadata": {},
   "outputs": [
    {
     "data": {
      "image/png": "[encoded data removed]",
      "text/plain": [
       "<Figure size 640x480 with 1 Axes>"
      ]
     },
     "metadata": {},
     "output_type": "display_data"
    }
   ],
   "source": [
    "import numpy as np\n",
    "import matplotlib.pyplot as plt\n",
    "\n",
    "# Generate a random sample of size 1000 from a binomial distribution with p=0.4\n",
    "n = 1000\n",
    "p = 0.4\n",
    "sample = np.random.binomial(n, p, size=1000)\n",
    "\n",
    "# Plot a histogram of the sample\n",
    "plt.hist(sample, bins=20, density=True, alpha=0.7)\n",
    "plt.xlabel('Number of successes')\n",
    "plt.ylabel('Probability density')\n",
    "plt.title('Histogram of Binomial Distribution')\n",
    "plt.show()\n"
   ]
  },
  {
   "cell_type": "markdown",
   "id": "7a188a5c",
   "metadata": {},
   "source": [
    "#### Q6. Write a Python function to calculate the cumulative distribution function of a Poisson distribution with given mean at a given point."
   ]
  },
  {
   "cell_type": "code",
   "execution_count": 4,
   "id": "812d7260",
   "metadata": {},
   "outputs": [],
   "source": [
    "from scipy.stats import poisson\n",
    "\n",
    "def poisson_cdf(x, mean):\n",
    "    return poisson.cdf(x, mu=mean)\n"
   ]
  },
  {
   "cell_type": "code",
   "execution_count": 5,
   "id": "b9dd2fab",
   "metadata": {},
   "outputs": [
    {
     "name": "stdout",
     "output_type": "stream",
     "text": [
      "0.42319008112684364\n"
     ]
    }
   ],
   "source": [
    "cdf_value = poisson_cdf(2, 3)\n",
    "print(cdf_value)"
   ]
  },
  {
   "cell_type": "markdown",
   "id": "3ad87550",
   "metadata": {},
   "source": [
    "#### Q7. How Binomial distribution different from Poisson distribution?"
   ]
  },
  {
   "cell_type": "markdown",
   "id": "46102353",
   "metadata": {},
   "source": [
    "The Binomial distribution and Poisson distribution are both probability distributions that are used to model the number of occurrences of an event. However, they differ in their assumptions about the underlying process that generates the events.\n",
    "\n",
    "The main differences between Binomial and Poisson distributions are:\n",
    "\n",
    "1. Assumptions: The Binomial distribution assumes that there is a fixed number of independent trials, each with a constant probability of success, whereas the Poisson distribution assumes that the events occur randomly and independently in time or space, and the rate of occurrence is constant.\n",
    "\n",
    "2. Number of trials: The Binomial distribution models the number of successes in a fixed number of independent trials, while the Poisson distribution models the number of events that occur in a fixed interval of time or space.\n",
    "\n",
    "3. Probability of success: In the Binomial distribution, the probability of success is constant for each trial, whereas in the Poisson distribution, the probability of an event occurring is assumed to be small and is proportional to the length of the interval.\n",
    "\n",
    "4. Parameters: The Binomial distribution has two parameters, n and p, where n is the number of trials and p is the probability of success, while the Poisson distribution has one parameter, λ, which represents the rate of occurrence of events."
   ]
  },
  {
   "cell_type": "markdown",
   "id": "35955570",
   "metadata": {},
   "source": [
    "#### Q8. Generate a random sample of size 1000 from a Poisson distribution with mean 5 and calculate the sample mean and variance."
   ]
  },
  {
   "cell_type": "code",
   "execution_count": 6,
   "id": "d545abe7",
   "metadata": {},
   "outputs": [],
   "source": [
    "import numpy as np\n",
    "\n",
    "np.random.seed(42)  # Setting a seed for reproducibility\n",
    "sample = np.random.poisson(5, size=1000)\n"
   ]
  },
  {
   "cell_type": "code",
   "execution_count": 7,
   "id": "ded31669",
   "metadata": {},
   "outputs": [
    {
     "name": "stdout",
     "output_type": "stream",
     "text": [
      "Sample mean:  4.985\n",
      "Sample variance:  4.9967749999999995\n"
     ]
    }
   ],
   "source": [
    "sample_mean = np.mean(sample)\n",
    "sample_var = np.var(sample)\n",
    "\n",
    "print(\"Sample mean: \", sample_mean)\n",
    "print(\"Sample variance: \", sample_var)\n"
   ]
  },
  {
   "cell_type": "markdown",
   "id": "a734cdcc",
   "metadata": {},
   "source": [
    "#### Q9. How mean and variance are related in Binomial distribution and Poisson distribution?"
   ]
  },
  {
   "cell_type": "markdown",
   "id": "735a8cc7",
   "metadata": {},
   "source": [
    "In the binomial distribution, the mean and variance are related as follows:\n",
    "\n",
    "Mean: μ = np, where n is the number of trials and p is the probability of success in each trial.\n",
    "Variance: σ^2 = np(1-p)\n",
    "So, in the binomial distribution, the variance is dependent on both the probability of success in each trial and the number of trials.\n",
    "\n",
    "In the Poisson distribution, the mean and variance are also related, but slightly differently:\n",
    "\n",
    "Mean: μ = λ, where λ is the rate parameter or the expected number of events in a given interval.\n",
    "Variance: σ^2 = λ\n",
    "So, in the Poisson distribution, the variance is equal to the mean, and is only dependent on the rate parameter λ."
   ]
  },
  {
   "cell_type": "markdown",
   "id": "b1334f4a",
   "metadata": {},
   "source": [
    "#### Q10. In normal distribution with respect to mean position, where does the least frequent data appear?"
   ]
  },
  {
   "cell_type": "markdown",
   "id": "60e3be6e",
   "metadata": {},
   "source": [
    "In a normal distribution, the least frequent data appears in the tails of the distribution, which are the regions furthest away from the mean.\n",
    "\n",
    "A normal distribution is symmetric around its mean, which means that half of the data falls on either side of the mean. The highest frequency of data occurs at the mean, and the frequency of data decreases as we move away from the mean towards the tails.\n",
    "\n",
    "The tails of a normal distribution represent the extreme values or outliers. These values are rare in a normal distribution and occur with a very low probability. As we move further away from the mean towards the tails, the frequency of data decreases rapidly.\n",
    "\n",
    "Therefore, the least frequent data in a normal distribution appears in the tails, which are the regions furthest away from the mean."
   ]
  },
  {
   "cell_type": "code",
   "execution_count": null,
   "id": "06b46987",
   "metadata": {},
   "outputs": [],
   "source": []
  }
 ],
 "metadata": {
  "kernelspec": {
   "display_name": "Python 3 (ipykernel)",
   "language": "python",
   "name": "python3"
  },
  "language_info": {
   "codemirror_mode": {
    "name": "ipython",
    "version": 3
   },
   "file_extension": ".py",
   "mimetype": "text/x-python",
   "name": "python",
   "nbconvert_exporter": "python",
   "pygments_lexer": "ipython3",
   "version": "3.9.13"
  }
 },
 "nbformat": 4,
 "nbformat_minor": 5
}
