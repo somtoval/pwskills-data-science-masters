{
 "cells": [
  {
   "cell_type": "markdown",
   "id": "dd5ff1b4",
   "metadata": {},
   "source": [
    "                                5  t  h    F  E  B  R  U  A  R  Y    2  0  2  3"
   ]
  },
  {
   "cell_type": "markdown",
   "id": "22878918",
   "metadata": {},
   "source": [
    "### Q1. Explain Class and Object with respect to Object-Oriented Programming. Give a suitable example."
   ]
  },
  {
   "cell_type": "markdown",
   "id": "512f59b5",
   "metadata": {},
   "source": [
    "A Class is any real world entity that has characteristics and actions. In Object Oriented Programming a class is a blueprint or prototype that defines attributes and the methods which are specific to an object, having these attributes as their characteristics and the method as their actions. An Object is an instance of a class. \n",
    "\n",
    "For Example: A class to represent a bank customer. Now the customer has a name, an account number and an age, these are the customer's attributes and a customer can be able to see his or her profile, this is an action which a method. Then a customer like rohan or sohan is an object which is an instance of the bank customer."
   ]
  },
  {
   "cell_type": "code",
   "execution_count": 68,
   "id": "63de1c1a",
   "metadata": {},
   "outputs": [],
   "source": [
    "class bankCustomer:\n",
    "    def __init__(self,name,age,acctNo):\n",
    "        self.name = name\n",
    "        self.age = age\n",
    "        self.acctNo = acctNo\n",
    "        \n",
    "    def profile(self):\n",
    "        return 'Name: ', self.name, 'Age: ', self.age, 'Acct. No: ', self.acctNo"
   ]
  },
  {
   "cell_type": "code",
   "execution_count": 69,
   "id": "fb7b6742",
   "metadata": {},
   "outputs": [],
   "source": [
    "rohan = bankCustomer('rohan', 25, 1234567890)"
   ]
  },
  {
   "cell_type": "code",
   "execution_count": 70,
   "id": "bfc05179",
   "metadata": {},
   "outputs": [
    {
     "data": {
      "text/plain": [
       "('Name: ', 'rohan', 'Age: ', 25, 'Acct. No: ', 1234567890)"
      ]
     },
     "execution_count": 70,
     "metadata": {},
     "output_type": "execute_result"
    }
   ],
   "source": [
    "rohan.profile()"
   ]
  },
  {
   "cell_type": "markdown",
   "id": "b768f3c4",
   "metadata": {},
   "source": [
    "### Q2. Name the four pillars of OOPs."
   ]
  },
  {
   "cell_type": "markdown",
   "id": "7866c991",
   "metadata": {},
   "source": [
    "- Inheritance\n",
    "- Abstraction\n",
    "- Encapsulation\n",
    "- Polymorphism"
   ]
  },
  {
   "cell_type": "markdown",
   "id": "b1c6cd28",
   "metadata": {},
   "source": [
    "### Q3. Explain why the __ init__() function is used. Give a suitable example."
   ]
  },
  {
   "cell_type": "markdown",
   "id": "378c4193",
   "metadata": {},
   "source": [
    "The __ init__() function is a constructor and it used to pass arguments from the instance of the class (object) to the class."
   ]
  },
  {
   "cell_type": "code",
   "execution_count": 71,
   "id": "cec660b7",
   "metadata": {},
   "outputs": [],
   "source": [
    "class msg:\n",
    "    def __init__(self, msg):\n",
    "        self.msg = msg\n",
    "        \n",
    "    def message(self):\n",
    "        return self.msg"
   ]
  },
  {
   "cell_type": "code",
   "execution_count": 72,
   "id": "b7c0e5dd",
   "metadata": {},
   "outputs": [],
   "source": [
    "sohan = msg('Hello, I am so happy')"
   ]
  },
  {
   "cell_type": "code",
   "execution_count": 73,
   "id": "88b22414",
   "metadata": {},
   "outputs": [
    {
     "data": {
      "text/plain": [
       "'Hello, I am so happy'"
      ]
     },
     "execution_count": 73,
     "metadata": {},
     "output_type": "execute_result"
    }
   ],
   "source": [
    "sohan.message()"
   ]
  },
  {
   "cell_type": "markdown",
   "id": "e19a1ef1",
   "metadata": {},
   "source": [
    "### Q4. Why self is used in OOPs?"
   ]
  },
  {
   "cell_type": "markdown",
   "id": "791a9d32",
   "metadata": {},
   "source": [
    "\"self\"  serves as a pointer to the class, directing methods and arguments to the class. It represents the object the class and should be passed as the first argument."
   ]
  },
  {
   "cell_type": "markdown",
   "id": "f233218b",
   "metadata": {},
   "source": [
    "### Q5. What is inheritance? Give an example for each type of inheritance"
   ]
  },
  {
   "cell_type": "markdown",
   "id": "b6f4fb2d",
   "metadata": {},
   "source": [
    "Inheritance is a concept of object-oriented programming where by the a certain class inherits from another class, the class inheriting is known as the child class and the other the parent class. "
   ]
  },
  {
   "cell_type": "markdown",
   "id": "1659502e",
   "metadata": {},
   "source": [
    "##### Singe Inheritance"
   ]
  },
  {
   "cell_type": "code",
   "execution_count": 74,
   "id": "a3ae9fd4",
   "metadata": {},
   "outputs": [],
   "source": [
    "class classone:\n",
    "        \n",
    "    def msg(self):\n",
    "        return 'This is from Class one'"
   ]
  },
  {
   "cell_type": "code",
   "execution_count": 75,
   "id": "4923e070",
   "metadata": {},
   "outputs": [],
   "source": [
    "class classtwo(classone):\n",
    "    pass"
   ]
  },
  {
   "cell_type": "code",
   "execution_count": 76,
   "id": "41bfd192",
   "metadata": {},
   "outputs": [],
   "source": [
    "instanceTwo = classtwo()"
   ]
  },
  {
   "cell_type": "code",
   "execution_count": 77,
   "id": "be6bb9a2",
   "metadata": {},
   "outputs": [
    {
     "data": {
      "text/plain": [
       "'This is from Class one'"
      ]
     },
     "execution_count": 77,
     "metadata": {},
     "output_type": "execute_result"
    }
   ],
   "source": [
    "instanceTwo.msg()"
   ]
  },
  {
   "cell_type": "markdown",
   "id": "5032e3ae",
   "metadata": {},
   "source": [
    "##### Multi-level inheritance"
   ]
  },
  {
   "cell_type": "code",
   "execution_count": 78,
   "id": "cb054a05",
   "metadata": {},
   "outputs": [],
   "source": [
    "class classone:\n",
    "        \n",
    "    def msg1(self):\n",
    "        return 'This is from Class one'"
   ]
  },
  {
   "cell_type": "code",
   "execution_count": 79,
   "id": "2f146b01",
   "metadata": {},
   "outputs": [],
   "source": [
    "class classtwo(classone):\n",
    "        \n",
    "    def msg2(self):\n",
    "        return 'This is from Class two'"
   ]
  },
  {
   "cell_type": "code",
   "execution_count": 80,
   "id": "26ee3b97",
   "metadata": {},
   "outputs": [],
   "source": [
    "class classthree(classtwo):\n",
    "        \n",
    "    def msg3(self):\n",
    "        return 'This is from Class three'"
   ]
  },
  {
   "cell_type": "code",
   "execution_count": 81,
   "id": "44a8ccfa",
   "metadata": {},
   "outputs": [],
   "source": [
    "instanceThree = classthree()"
   ]
  },
  {
   "cell_type": "code",
   "execution_count": 82,
   "id": "fddde1f5",
   "metadata": {},
   "outputs": [
    {
     "data": {
      "text/plain": [
       "'This is from Class one'"
      ]
     },
     "execution_count": 82,
     "metadata": {},
     "output_type": "execute_result"
    }
   ],
   "source": [
    "instanceThree.msg1()"
   ]
  },
  {
   "cell_type": "code",
   "execution_count": 83,
   "id": "4517135b",
   "metadata": {},
   "outputs": [
    {
     "data": {
      "text/plain": [
       "'This is from Class two'"
      ]
     },
     "execution_count": 83,
     "metadata": {},
     "output_type": "execute_result"
    }
   ],
   "source": [
    "instanceThree.msg2()"
   ]
  },
  {
   "cell_type": "code",
   "execution_count": 84,
   "id": "684ad76a",
   "metadata": {},
   "outputs": [
    {
     "data": {
      "text/plain": [
       "'This is from Class three'"
      ]
     },
     "execution_count": 84,
     "metadata": {},
     "output_type": "execute_result"
    }
   ],
   "source": [
    "instanceThree.msg3()"
   ]
  },
  {
   "cell_type": "markdown",
   "id": "869a3389",
   "metadata": {},
   "source": [
    "##### Multiple Inheritance"
   ]
  },
  {
   "cell_type": "code",
   "execution_count": 85,
   "id": "2dadaf59",
   "metadata": {},
   "outputs": [],
   "source": [
    "class classone:\n",
    "        \n",
    "    def msg1(self):\n",
    "        return 'This is from Class one'"
   ]
  },
  {
   "cell_type": "code",
   "execution_count": 86,
   "id": "c94b4f37",
   "metadata": {},
   "outputs": [],
   "source": [
    "class classtwo:\n",
    "        \n",
    "    def msg2(self):\n",
    "        return 'This is from Class two'"
   ]
  },
  {
   "cell_type": "code",
   "execution_count": 87,
   "id": "ba736bc1",
   "metadata": {},
   "outputs": [],
   "source": [
    "class classthree(classone, classtwo):\n",
    "        \n",
    "    pass"
   ]
  },
  {
   "cell_type": "code",
   "execution_count": 88,
   "id": "c479b00f",
   "metadata": {},
   "outputs": [],
   "source": [
    "instanceThree = classthree()"
   ]
  },
  {
   "cell_type": "code",
   "execution_count": 89,
   "id": "d0e77ac3",
   "metadata": {},
   "outputs": [
    {
     "data": {
      "text/plain": [
       "'This is from Class one'"
      ]
     },
     "execution_count": 89,
     "metadata": {},
     "output_type": "execute_result"
    }
   ],
   "source": [
    "instanceThree.msg1()"
   ]
  },
  {
   "cell_type": "code",
   "execution_count": 90,
   "id": "929f1ff4",
   "metadata": {},
   "outputs": [
    {
     "data": {
      "text/plain": [
       "'This is from Class two'"
      ]
     },
     "execution_count": 90,
     "metadata": {},
     "output_type": "execute_result"
    }
   ],
   "source": [
    "instanceThree.msg2()"
   ]
  },
  {
   "cell_type": "code",
   "execution_count": null,
   "id": "8809581d",
   "metadata": {},
   "outputs": [],
   "source": []
  },
  {
   "cell_type": "code",
   "execution_count": null,
   "id": "073632ae",
   "metadata": {},
   "outputs": [],
   "source": []
  },
  {
   "cell_type": "code",
   "execution_count": null,
   "id": "2e284755",
   "metadata": {},
   "outputs": [],
   "source": []
  }
 ],
 "metadata": {
  "kernelspec": {
   "display_name": "Python 3 (ipykernel)",
   "language": "python",
   "name": "python3"
  },
  "language_info": {
   "codemirror_mode": {
    "name": "ipython",
    "version": 3
   },
   "file_extension": ".py",
   "mimetype": "text/x-python",
   "name": "python",
   "nbconvert_exporter": "python",
   "pygments_lexer": "ipython3",
   "version": "3.10.8"
  }
 },
 "nbformat": 4,
 "nbformat_minor": 5
}
