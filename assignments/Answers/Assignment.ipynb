{
 "cells": [
  {
   "cell_type": "markdown",
   "id": "77f5bf4b",
   "metadata": {},
   "source": [
    "#### Q1. Create a Pandas Series that contains the following data: 4, 8, 15, 16, 23, and 42. Then, print the series."
   ]
  },
  {
   "cell_type": "markdown",
   "id": "15267224",
   "metadata": {},
   "source": [
    "Ans -\n"
   ]
  },
  {
   "cell_type": "code",
   "execution_count": 1,
   "id": "6a3580f2",
   "metadata": {},
   "outputs": [
    {
     "name": "stdout",
     "output_type": "stream",
     "text": [
      "0     4\n",
      "1     8\n",
      "2    15\n",
      "3    16\n",
      "4    23\n",
      "5    42\n",
      "dtype: int64\n"
     ]
    }
   ],
   "source": [
    "import pandas as pd\n",
    "\n",
    "# Creating a Pandas Series\n",
    "my_series = pd.Series([4, 8, 15, 16, 23, 42])\n",
    "\n",
    "# Printing the Series\n",
    "print(my_series)\n"
   ]
  },
  {
   "cell_type": "markdown",
   "id": "ed118c2f",
   "metadata": {},
   "source": [
    "#### Q2. Create a variable of list type containing 10 elements in it, and apply pandas.Series function on the variable print it."
   ]
  },
  {
   "cell_type": "code",
   "execution_count": 2,
   "id": "3cf45d74",
   "metadata": {},
   "outputs": [
    {
     "name": "stdout",
     "output_type": "stream",
     "text": [
      "0     10\n",
      "1     20\n",
      "2     30\n",
      "3     40\n",
      "4     50\n",
      "5     60\n",
      "6     70\n",
      "7     80\n",
      "8     90\n",
      "9    100\n",
      "dtype: int64\n"
     ]
    }
   ],
   "source": [
    "import pandas as pd\n",
    "\n",
    "# Creating a list variable\n",
    "my_list = [10, 20, 30, 40, 50, 60, 70, 80, 90, 100]\n",
    "\n",
    "# Converting the list to a Pandas Series\n",
    "my_series = pd.Series(my_list)\n",
    "\n",
    "# Printing the Series\n",
    "print(my_series)\n"
   ]
  },
  {
   "cell_type": "markdown",
   "id": "5d4dc70b",
   "metadata": {},
   "source": [
    "#### Q3. Create a Pandas DataFrame that contains the following data:\n",
    "#### Name     Age     Gender\n",
    "#### Alice        25       Female\n",
    "#### Bob         30       Male\n",
    "#### Claire      27       Female\n",
    "#### Then, print the DataFrame."
   ]
  },
  {
   "cell_type": "code",
   "execution_count": 3,
   "id": "d337c5e5",
   "metadata": {},
   "outputs": [
    {
     "name": "stdout",
     "output_type": "stream",
     "text": [
      "     Name  Age  Gender\n",
      "0   Alice   25  Female\n",
      "1     Bob   30    Male\n",
      "2  Claire   27  Female\n"
     ]
    }
   ],
   "source": [
    "import pandas as pd\n",
    "\n",
    "# Creating a dictionary with the given data\n",
    "data = {'Name': ['Alice', 'Bob', 'Claire'], 'Age': [25, 30, 27], 'Gender': ['Female', 'Male', 'Female']}\n",
    "\n",
    "# Converting the dictionary to a Pandas DataFrame\n",
    "df = pd.DataFrame(data)\n",
    "\n",
    "# Printing the DataFrame\n",
    "print(df)\n"
   ]
  },
  {
   "cell_type": "markdown",
   "id": "15a28237",
   "metadata": {},
   "source": [
    "#### Q4. What is ‘DataFrame’ in pandas and how is it different from pandas.series? Explain with an example."
   ]
  },
  {
   "cell_type": "markdown",
   "id": "db92b358",
   "metadata": {},
   "source": [
    "Ans -\n",
    "In Pandas, a DataFrame is a two-dimensional labeled data structure that is used to store and manipulate tabular data. It is similar to a spreadsheet or SQL table, where the data is organized in rows and columns. Each column in a DataFrame can have a different data type, such as numeric, string, or boolean, and can have a label or name associated with it.\n",
    "\n",
    "A Pandas Series, on the other hand, is a one-dimensional labeled array that can hold data of any type, such as integers, strings, or floats. A Series can be thought of as a single column of a DataFrame, where the values are indexed by a unique label."
   ]
  },
  {
   "cell_type": "code",
   "execution_count": 5,
   "id": "65b433c1",
   "metadata": {},
   "outputs": [
    {
     "name": "stdout",
     "output_type": "stream",
     "text": [
      "0    10\n",
      "1    20\n",
      "2    30\n",
      "3    40\n",
      "4    50\n",
      "dtype: int64\n",
      "     Name  Age  Gender\n",
      "0   Alice   25  Female\n",
      "1     Bob   30    Male\n",
      "2  Claire   27  Female\n"
     ]
    }
   ],
   "source": [
    "import pandas as pd\n",
    "\n",
    "# Creating a Series\n",
    "my_series = pd.Series([10, 20, 30, 40, 50])\n",
    "\n",
    "# Creating a DataFrame\n",
    "my_dataframe = pd.DataFrame({'Name': ['Alice', 'Bob', 'Claire'], 'Age': [25, 30, 27], 'Gender': ['Female', 'Male', 'Female']})\n",
    "\n",
    "# Printing the Series\n",
    "print(my_series)\n",
    "\n",
    "# Printing the DataFrame\n",
    "print(my_dataframe)\n"
   ]
  },
  {
   "cell_type": "markdown",
   "id": "0a41ea03",
   "metadata": {},
   "source": [
    "#### Q5. What are some common functions you can use to manipulate data in a Pandas DataFrame? Can you give an example of when you might use one of these functions?"
   ]
  },
  {
   "cell_type": "markdown",
   "id": "2729bbcc",
   "metadata": {},
   "source": [
    "Ans -\n",
    "1. head() and tail() - These functions are used to view the top or bottom rows of a DataFrame."
   ]
  },
  {
   "cell_type": "code",
   "execution_count": 6,
   "id": "b3793fd0",
   "metadata": {},
   "outputs": [
    {
     "name": "stdout",
     "output_type": "stream",
     "text": [
      "     Name  Age  Gender\n",
      "0   Alice   25  Female\n",
      "1     Bob   30    Male\n",
      "2  Claire   27  Female\n"
     ]
    }
   ],
   "source": [
    "import pandas as pd\n",
    "\n",
    "# Creating a DataFrame\n",
    "data = {'Name': ['Alice', 'Bob', 'Claire'], 'Age': [25, 30, 27], 'Gender': ['Female', 'Male', 'Female']}\n",
    "df = pd.DataFrame(data)\n",
    "\n",
    "# Using head()\n",
    "print(df.head())\n"
   ]
  },
  {
   "cell_type": "markdown",
   "id": "1cf1e9a2",
   "metadata": {},
   "source": [
    "2. describe() - This function is used to view some basic statistical information about a DataFrame, such as mean, standard deviation, minimum, and maximum values."
   ]
  },
  {
   "cell_type": "code",
   "execution_count": 7,
   "id": "74ebd66e",
   "metadata": {},
   "outputs": [
    {
     "name": "stdout",
     "output_type": "stream",
     "text": [
      "             Age\n",
      "count   3.000000\n",
      "mean   27.333333\n",
      "std     2.516611\n",
      "min    25.000000\n",
      "25%    26.000000\n",
      "50%    27.000000\n",
      "75%    28.500000\n",
      "max    30.000000\n"
     ]
    }
   ],
   "source": [
    "import pandas as pd\n",
    "\n",
    "# Creating a DataFrame\n",
    "data = {'Name': ['Alice', 'Bob', 'Claire'], 'Age': [25, 30, 27], 'Gender': ['Female', 'Male', 'Female']}\n",
    "df = pd.DataFrame(data)\n",
    "\n",
    "# Using describe()\n",
    "print(df.describe())\n"
   ]
  },
  {
   "cell_type": "markdown",
   "id": "84cb125f",
   "metadata": {},
   "source": [
    "3. sort_values() - This function is used to sort a DataFrame by one or more columns."
   ]
  },
  {
   "cell_type": "code",
   "execution_count": 8,
   "id": "4fba4b27",
   "metadata": {},
   "outputs": [
    {
     "name": "stdout",
     "output_type": "stream",
     "text": [
      "     Name  Age  Gender\n",
      "0   Alice   25  Female\n",
      "2  Claire   27  Female\n",
      "1     Bob   30    Male\n"
     ]
    }
   ],
   "source": [
    "import pandas as pd\n",
    "\n",
    "# Creating a DataFrame\n",
    "data = {'Name': ['Alice', 'Bob', 'Claire'], 'Age': [25, 30, 27], 'Gender': ['Female', 'Male', 'Female']}\n",
    "df = pd.DataFrame(data)\n",
    "\n",
    "# Sorting by age in ascending order\n",
    "df_sorted = df.sort_values(by='Age')\n",
    "\n",
    "# Printing the sorted DataFrame\n",
    "print(df_sorted)\n"
   ]
  },
  {
   "cell_type": "markdown",
   "id": "f478c249",
   "metadata": {},
   "source": [
    "#### Q6. Which of the following is mutable in nature Series, DataFrame, Panel?"
   ]
  },
  {
   "cell_type": "markdown",
   "id": "a4b3fd4b",
   "metadata": {},
   "source": [
    "Ans - In Pandas, both Series and DataFrame are mutable in nature, which means their contents can be modified after they are created. However, Panel is no longer recommended for use as it has been deprecated since version 0.25.0 and replaced with MultiIndex or xarray."
   ]
  },
  {
   "cell_type": "markdown",
   "id": "af08c6a8",
   "metadata": {},
   "source": [
    "#### Q7. Create a DataFrame using multiple Series. Explain with an example."
   ]
  },
  {
   "cell_type": "markdown",
   "id": "8705ac65",
   "metadata": {},
   "source": [
    "Ans -\n"
   ]
  },
  {
   "cell_type": "code",
   "execution_count": 10,
   "id": "078e3883",
   "metadata": {},
   "outputs": [
    {
     "name": "stdout",
     "output_type": "stream",
     "text": [
      "     Name  Age  Gender\n",
      "0   Alice   25  Female\n",
      "1     Bob   30    Male\n",
      "2  Claire   27  Female\n"
     ]
    }
   ],
   "source": [
    "import pandas as pd\n",
    "\n",
    "# Creating multiple Series\n",
    "name = pd.Series(['Alice', 'Bob', 'Claire'])\n",
    "age = pd.Series([25, 30, 27])\n",
    "gender = pd.Series(['Female', 'Male', 'Female'])\n",
    "\n",
    "# Creating a DataFrame using the Series\n",
    "data = {'Name': name, 'Age': age, 'Gender': gender}\n",
    "df = pd.DataFrame(data)\n",
    "\n",
    "# Printing the DataFrame\n",
    "print(df)\n"
   ]
  },
  {
   "cell_type": "markdown",
   "id": "35ca8a2c",
   "metadata": {},
   "source": [
    "In this example, we created three Series for name, age, and gender, each containing three elements. Then, we passed these Series as a dictionary to the pd.DataFrame() constructor to create a DataFrame with the same data. Finally, we printed the DataFrame to verify that it was created correctly."
   ]
  },
  {
   "cell_type": "code",
   "execution_count": null,
   "id": "159c941c",
   "metadata": {},
   "outputs": [],
   "source": []
  }
 ],
 "metadata": {
  "kernelspec": {
   "display_name": "Python 3 (ipykernel)",
   "language": "python",
   "name": "python3"
  },
  "language_info": {
   "codemirror_mode": {
    "name": "ipython",
    "version": 3
   },
   "file_extension": ".py",
   "mimetype": "text/x-python",
   "name": "python",
   "nbconvert_exporter": "python",
   "pygments_lexer": "ipython3",
   "version": "3.10.8"
  }
 },
 "nbformat": 4,
 "nbformat_minor": 5
}
