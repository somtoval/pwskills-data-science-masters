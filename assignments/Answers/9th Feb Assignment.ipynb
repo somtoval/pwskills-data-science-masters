{
 "cells": [
  {
   "cell_type": "markdown",
   "id": "db7a04ac",
   "metadata": {},
   "source": [
    "                                   9  t  h    F  E  B  R  U  A  R  Y    2  0  2  3"
   ]
  },
  {
   "cell_type": "markdown",
   "id": "2707a208",
   "metadata": {},
   "source": [
    "### Q1. Create a vehicle class with an init method having instance variables as name_of_vehicle, max_speed and average_of_vehicle. "
   ]
  },
  {
   "cell_type": "code",
   "execution_count": 26,
   "id": "680c14bf",
   "metadata": {},
   "outputs": [],
   "source": [
    "class vehicle:\n",
    "    def __init__(self, name_of_vehicle, max_speed, average_of_vehicle):\n",
    "        self.name_of_vehicle = name_of_vehicle\n",
    "        self.max_speed = max_speed\n",
    "        self.average_of_vehicle = average_of_vehicle"
   ]
  },
  {
   "cell_type": "code",
   "execution_count": 27,
   "id": "b765a837",
   "metadata": {},
   "outputs": [],
   "source": [
    "vehicle_obj = vehicle('accord',26, 25)"
   ]
  },
  {
   "cell_type": "code",
   "execution_count": 30,
   "id": "5693bc81",
   "metadata": {},
   "outputs": [
    {
     "data": {
      "text/plain": [
       "'accord'"
      ]
     },
     "execution_count": 30,
     "metadata": {},
     "output_type": "execute_result"
    }
   ],
   "source": [
    "vehicle_obj.name_of_vehicle"
   ]
  },
  {
   "cell_type": "code",
   "execution_count": 31,
   "id": "4c3ef79c",
   "metadata": {},
   "outputs": [
    {
     "data": {
      "text/plain": [
       "26"
      ]
     },
     "execution_count": 31,
     "metadata": {},
     "output_type": "execute_result"
    }
   ],
   "source": [
    "vehicle_obj.max_speed"
   ]
  },
  {
   "cell_type": "code",
   "execution_count": 32,
   "id": "93172799",
   "metadata": {},
   "outputs": [
    {
     "data": {
      "text/plain": [
       "25"
      ]
     },
     "execution_count": 32,
     "metadata": {},
     "output_type": "execute_result"
    }
   ],
   "source": [
    "vehicle_obj.average_of_vehicle"
   ]
  },
  {
   "cell_type": "markdown",
   "id": "9d8536fc",
   "metadata": {},
   "source": [
    "### Q2.  Create a child class car from the vehicle class created in Que 1, which will inherit the vehicle class.Create a method named seating_capacity which takes capacity as an argument and returns the name of the vehicle and its seating capacity."
   ]
  },
  {
   "cell_type": "code",
   "execution_count": 45,
   "id": "9f73eac9",
   "metadata": {},
   "outputs": [],
   "source": [
    "class car(vehicle):\n",
    "    def seating_capacity(self, seating_capacity = 6):\n",
    "        return seating_capacity, self.name_of_vehicle"
   ]
  },
  {
   "cell_type": "code",
   "execution_count": 46,
   "id": "ebbd1c9d",
   "metadata": {},
   "outputs": [],
   "source": [
    "car_obj = car('accord',26, 25)"
   ]
  },
  {
   "cell_type": "code",
   "execution_count": 47,
   "id": "bfbf5604",
   "metadata": {},
   "outputs": [
    {
     "data": {
      "text/plain": [
       "'accord'"
      ]
     },
     "execution_count": 47,
     "metadata": {},
     "output_type": "execute_result"
    }
   ],
   "source": [
    "car_obj.name_of_vehicle"
   ]
  },
  {
   "cell_type": "code",
   "execution_count": 48,
   "id": "4599ad51",
   "metadata": {},
   "outputs": [
    {
     "data": {
      "text/plain": [
       "26"
      ]
     },
     "execution_count": 48,
     "metadata": {},
     "output_type": "execute_result"
    }
   ],
   "source": [
    "car_obj.max_speed"
   ]
  },
  {
   "cell_type": "code",
   "execution_count": 49,
   "id": "bc211a65",
   "metadata": {},
   "outputs": [
    {
     "data": {
      "text/plain": [
       "25"
      ]
     },
     "execution_count": 49,
     "metadata": {},
     "output_type": "execute_result"
    }
   ],
   "source": [
    "car_obj.average_of_vehicle"
   ]
  },
  {
   "cell_type": "code",
   "execution_count": 50,
   "id": "9a3f67d0",
   "metadata": {},
   "outputs": [
    {
     "data": {
      "text/plain": [
       "(6, 'accord')"
      ]
     },
     "execution_count": 50,
     "metadata": {},
     "output_type": "execute_result"
    }
   ],
   "source": [
    "car_obj.seating_capacity()"
   ]
  },
  {
   "cell_type": "markdown",
   "id": "18cea8a0",
   "metadata": {},
   "source": [
    "### Q3. What is multiple inheritance? Write a python code to demonstrate multiple inheritance."
   ]
  },
  {
   "cell_type": "markdown",
   "id": "bb2983ba",
   "metadata": {},
   "source": [
    "Multiple inheritance occurs when a class inherits more than one class."
   ]
  },
  {
   "cell_type": "code",
   "execution_count": 54,
   "id": "459f651a",
   "metadata": {},
   "outputs": [],
   "source": [
    "class classone:\n",
    "    def output1(self):\n",
    "        print('this is output1')"
   ]
  },
  {
   "cell_type": "code",
   "execution_count": 55,
   "id": "7fdde179",
   "metadata": {},
   "outputs": [],
   "source": [
    "class classtwo:\n",
    "    def output2(self):\n",
    "        print('this is output2')"
   ]
  },
  {
   "cell_type": "code",
   "execution_count": 56,
   "id": "44d889ea",
   "metadata": {},
   "outputs": [],
   "source": [
    "class classthree(classone, classtwo):\n",
    "    def output3(self):\n",
    "        print('this is output3')"
   ]
  },
  {
   "cell_type": "code",
   "execution_count": 57,
   "id": "385b4af3",
   "metadata": {},
   "outputs": [],
   "source": [
    "obj_3 = classthree()"
   ]
  },
  {
   "cell_type": "code",
   "execution_count": 58,
   "id": "9eadcc8d",
   "metadata": {},
   "outputs": [
    {
     "name": "stdout",
     "output_type": "stream",
     "text": [
      "this is output1\n"
     ]
    }
   ],
   "source": [
    "obj_3.output1()"
   ]
  },
  {
   "cell_type": "code",
   "execution_count": 59,
   "id": "c5190e87",
   "metadata": {},
   "outputs": [
    {
     "name": "stdout",
     "output_type": "stream",
     "text": [
      "this is output2\n"
     ]
    }
   ],
   "source": [
    "obj_3.output2()"
   ]
  },
  {
   "cell_type": "code",
   "execution_count": 60,
   "id": "c9466051",
   "metadata": {},
   "outputs": [
    {
     "name": "stdout",
     "output_type": "stream",
     "text": [
      "this is output3\n"
     ]
    }
   ],
   "source": [
    "obj_3.output3()"
   ]
  },
  {
   "cell_type": "markdown",
   "id": "18309c86",
   "metadata": {},
   "source": [
    "### Q4. What are getter and setter in python? Create a class and create a getter and a setter method in this class."
   ]
  },
  {
   "cell_type": "markdown",
   "id": "22ca91b9",
   "metadata": {},
   "source": [
    "This are methods in python that helps us to restrict access in our code, the getters return a certain value and the setters update or modify them"
   ]
  },
  {
   "cell_type": "code",
   "execution_count": 71,
   "id": "a5a21920",
   "metadata": {},
   "outputs": [],
   "source": [
    "class getandset:\n",
    "    def __init__(self, name, age):\n",
    "        self.name = name\n",
    "        self.age = age\n",
    "        \n",
    "    def getName(self):\n",
    "        return self.name\n",
    "    \n",
    "    def setName(self, name):\n",
    "        self.name = name\n",
    "    \n",
    "    def getAge(self):\n",
    "        return self.age\n",
    "    \n",
    "    def setAge(self, age):\n",
    "        self.age = age"
   ]
  },
  {
   "cell_type": "code",
   "execution_count": 72,
   "id": "c0651e69",
   "metadata": {},
   "outputs": [],
   "source": [
    "obj_getandset = getandset('somto', 18)"
   ]
  },
  {
   "cell_type": "code",
   "execution_count": 73,
   "id": "372e3c78",
   "metadata": {},
   "outputs": [
    {
     "data": {
      "text/plain": [
       "'somto'"
      ]
     },
     "execution_count": 73,
     "metadata": {},
     "output_type": "execute_result"
    }
   ],
   "source": [
    "obj_getandset.getName()"
   ]
  },
  {
   "cell_type": "code",
   "execution_count": 74,
   "id": "738e5ef4",
   "metadata": {},
   "outputs": [],
   "source": [
    "obj_getandset.setName('mathew')"
   ]
  },
  {
   "cell_type": "code",
   "execution_count": 75,
   "id": "7650131b",
   "metadata": {},
   "outputs": [
    {
     "data": {
      "text/plain": [
       "'mathew'"
      ]
     },
     "execution_count": 75,
     "metadata": {},
     "output_type": "execute_result"
    }
   ],
   "source": [
    "obj_getandset.getName()"
   ]
  },
  {
   "cell_type": "code",
   "execution_count": 76,
   "id": "a61b4c0b",
   "metadata": {
    "scrolled": true
   },
   "outputs": [
    {
     "data": {
      "text/plain": [
       "18"
      ]
     },
     "execution_count": 76,
     "metadata": {},
     "output_type": "execute_result"
    }
   ],
   "source": [
    "obj_getandset.getAge()"
   ]
  },
  {
   "cell_type": "code",
   "execution_count": 77,
   "id": "fc87f079",
   "metadata": {},
   "outputs": [],
   "source": [
    "obj_getandset.setAge(17)"
   ]
  },
  {
   "cell_type": "code",
   "execution_count": 78,
   "id": "d283388f",
   "metadata": {},
   "outputs": [
    {
     "data": {
      "text/plain": [
       "17"
      ]
     },
     "execution_count": 78,
     "metadata": {},
     "output_type": "execute_result"
    }
   ],
   "source": [
    "obj_getandset.getAge()"
   ]
  },
  {
   "cell_type": "markdown",
   "id": "a576c7fa",
   "metadata": {},
   "source": [
    "### Q5.What is method overriding in python? Write a python code to demonstrate method overriding."
   ]
  },
  {
   "cell_type": "markdown",
   "id": "ed81f480",
   "metadata": {},
   "source": [
    "Method Overiding is a concept in Object-oriented programming whereby a child class has method which has the same name as a method in the parent class which it inherited so when the method is called from the child class it overides the implementation of the method in the parent class method inherited."
   ]
  },
  {
   "cell_type": "code",
   "execution_count": 107,
   "id": "46146377",
   "metadata": {},
   "outputs": [],
   "source": [
    "class parent:\n",
    "    def intro(self):\n",
    "        print('This is an intro from the parent')"
   ]
  },
  {
   "cell_type": "code",
   "execution_count": 108,
   "id": "7e7559ce",
   "metadata": {},
   "outputs": [],
   "source": [
    "class child(parent):\n",
    "    def intro(self):\n",
    "        print('This is an intro from the child')"
   ]
  },
  {
   "cell_type": "code",
   "execution_count": 109,
   "id": "25ff3fc6",
   "metadata": {},
   "outputs": [],
   "source": [
    "child_obj = child()"
   ]
  },
  {
   "cell_type": "code",
   "execution_count": 110,
   "id": "8107cab5",
   "metadata": {},
   "outputs": [],
   "source": [
    "parent_obj = parent()"
   ]
  },
  {
   "cell_type": "code",
   "execution_count": 114,
   "id": "1973aaf0",
   "metadata": {
    "scrolled": true
   },
   "outputs": [
    {
     "name": "stdout",
     "output_type": "stream",
     "text": [
      "This is an intro from the child\n"
     ]
    }
   ],
   "source": [
    "child_obj.intro()"
   ]
  },
  {
   "cell_type": "code",
   "execution_count": 115,
   "id": "ad0c837d",
   "metadata": {},
   "outputs": [
    {
     "name": "stdout",
     "output_type": "stream",
     "text": [
      "This is an intro from the parent\n"
     ]
    }
   ],
   "source": [
    "parent_obj.intro()"
   ]
  },
  {
   "cell_type": "code",
   "execution_count": null,
   "id": "52153e06",
   "metadata": {},
   "outputs": [],
   "source": []
  }
 ],
 "metadata": {
  "kernelspec": {
   "display_name": "Python 3 (ipykernel)",
   "language": "python",
   "name": "python3"
  },
  "language_info": {
   "codemirror_mode": {
    "name": "ipython",
    "version": 3
   },
   "file_extension": ".py",
   "mimetype": "text/x-python",
   "name": "python",
   "nbconvert_exporter": "python",
   "pygments_lexer": "ipython3",
   "version": "3.10.8"
  }
 },
 "nbformat": 4,
 "nbformat_minor": 5
}
