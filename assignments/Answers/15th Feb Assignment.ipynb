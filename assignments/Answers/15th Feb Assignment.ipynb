{
 "cells": [
  {
   "cell_type": "markdown",
   "id": "bcb6b986",
   "metadata": {},
   "source": [
    "### Q1. What is multiprocessing in python? Why is it useful?"
   ]
  },
  {
   "cell_type": "markdown",
   "id": "45a9978b",
   "metadata": {},
   "source": [
    "Multiprocessing in Python is a way to utilize multiple CPU cores or processors in a computer to run Python code concurrently, which can significantly improve the performance of computationally intensive tasks.\n",
    "\n",
    "Multiprocessing is useful because it allows developers to take advantage of the full processing power of modern computers, which often have multiple CPU cores or processors. By splitting a task into smaller sub-tasks and running them concurrently, multiprocessing can reduce the time required to complete a task and improve the overall performance of an application."
   ]
  },
  {
   "cell_type": "markdown",
   "id": "548864d6",
   "metadata": {},
   "source": [
    "### Q2. What are the differences between multiprocessing and multithreading?"
   ]
  },
  {
   "cell_type": "markdown",
   "id": "d5435e26",
   "metadata": {},
   "source": [
    "1. Global Interpreter Lock (GIL): Multiprocessing allows multiple Python processes to run in parallel, each with its own interpreter and memory space. In contrast, multithreading shares a single interpreter and memory space across multiple threads, which can be limited by the GIL in Python.\n",
    "\n",
    "2. Memory usage: Each process in multiprocessing has its own memory space, which can lead to higher memory usage compared to multithreading, where all threads share the same memory space.\n",
    "\n",
    "3. Communication: Communication between processes in multiprocessing requires serialization and deserialization of data, which can be slower than communication between threads in multithreading.\n",
    "\n",
    "4. Synchronization: Synchronization between processes in multiprocessing requires the use of inter-process communication (IPC) mechanisms such as pipes, queues, and shared memory, while synchronization between threads in multithreading can be done using simpler mechanisms such as locks, semaphores, and condition variables.\n",
    "\n",
    "5. Parallelism: Multiprocessing allows for true parallelism, where multiple processes can run simultaneously on different CPU cores or processors. In contrast, multithreading can only achieve concurrency, where multiple threads are executed in an interleaved manner on a single CPU core."
   ]
  },
  {
   "cell_type": "markdown",
   "id": "9e94b220",
   "metadata": {},
   "source": [
    "### Q3. Write a python code to create a process using the multiprocessing module."
   ]
  },
  {
   "cell_type": "code",
   "execution_count": 1,
   "id": "28a1d811",
   "metadata": {},
   "outputs": [],
   "source": [
    "import multiprocessing\n",
    "\n",
    "def square(number):\n",
    "    result = number ** 2\n",
    "    print(f\"The square of {number} is {result}\")\n",
    "\n",
    "if __name__ == '__main__':\n",
    "    # Create a process\n",
    "    process = multiprocessing.Process(target=square, args=(5,))\n",
    "    \n",
    "    # Start the process\n",
    "    process.start()\n",
    "\n",
    "    # Wait for the process to complete\n",
    "    process.join()"
   ]
  },
  {
   "cell_type": "markdown",
   "id": "46bdb6eb",
   "metadata": {},
   "source": [
    "Note that we check if name == 'main' to ensure that the code is being run as the main program, as opposed to being imported as a module. This is important for ensuring that the child processes are created correctly."
   ]
  },
  {
   "cell_type": "markdown",
   "id": "d49e0a71",
   "metadata": {},
   "source": [
    "### Q4. What is a multiprocessing pool in python? Why is it used?"
   ]
  },
  {
   "cell_type": "markdown",
   "id": "1dbd4062",
   "metadata": {},
   "source": [
    "A multiprocessing pool in Python is a way of creating a group of worker processes that can be used to execute tasks in parallel. The multiprocessing module provides a Pool class that can be used to create a pool of worker processes.\n",
    "\n",
    "The Pool class provides several methods for submitting tasks to the pool, including apply(), which executes a single function call and blocks until the result is ready, and map(), which takes an iterable of arguments and applies a function to each argument in parallel. The Pool class also provides methods for asynchronously submitting tasks and retrieving their results.\n",
    "\n",
    "The main advantage of using a multiprocessing pool is that it allows for parallel execution of tasks, which can significantly speed up certain types of computations. By dividing the work across multiple processes, each running on a separate CPU core, the total time required to complete the work can be reduced."
   ]
  },
  {
   "cell_type": "markdown",
   "id": "7307cada",
   "metadata": {},
   "source": [
    "### Q5. How can we create a pool of worker processes in python using the multiprocessing module?"
   ]
  },
  {
   "cell_type": "code",
   "execution_count": null,
   "id": "75ff85ff",
   "metadata": {},
   "outputs": [],
   "source": [
    "#import multiprocessing\n",
    "\n",
    "#def worker_function(argument):\n",
    "    # do some work here\n",
    "#    return result\n",
    "\n",
    "#if __name__ == '__main__':\n",
    "    # create a pool of 4 worker processes\n",
    "#    with multiprocessing.Pool(processes=4) as pool:\n",
    "        # create a list of arguments\n",
    "#        arguments = [arg1, arg2, arg3, ...]\n",
    "        # apply the worker function to the arguments in parallel\n",
    "#        results = pool.map(worker_function, arguments)"
   ]
  },
  {
   "cell_type": "markdown",
   "id": "f4938746",
   "metadata": {},
   "source": [
    "In this example, we first define a function worker_function that takes an argument and performs some work on it, returning a result. We then create a Pool object with 4 worker processes using a context manager (with statement). We create a list of arguments to be passed to the worker function and use the map() method of the Pool object to apply the worker function to each argument in parallel. The results are returned as a list and stored in the results variable"
   ]
  },
  {
   "cell_type": "markdown",
   "id": "300b38bb",
   "metadata": {},
   "source": [
    "### Q6. Write a python program to create 4 processes, each process should print a different number using the multiprocessing module in python."
   ]
  },
  {
   "cell_type": "code",
   "execution_count": 2,
   "id": "589a29c9",
   "metadata": {},
   "outputs": [],
   "source": [
    "import multiprocessing\n",
    "\n",
    "def print_number(num):\n",
    "    print(f\"Process {multiprocessing.current_process().name} prints {num}\")\n",
    "\n",
    "if __name__ == '__main__':\n",
    "    processes = []\n",
    "    for i in range(4):\n",
    "        process = multiprocessing.Process(target=print_number, args=(i,))\n",
    "        processes.append(process)\n",
    "        process.start()\n",
    "    \n",
    "    for process in processes:\n",
    "        process.join()"
   ]
  },
  {
   "cell_type": "markdown",
   "id": "86bd1c21",
   "metadata": {},
   "source": [
    "In this program, we define a print_number function that takes a number as an argument and prints the process name and the number. We then create a list of processes and use a for loop to create 4 processes, each running the print_number function with a different number argument. We append each process to the processes list and start the process using the start() method. Finally, we use another for loop to wait for each process to complete using the join() method. When each process completes, it prints its output to the console."
   ]
  },
  {
   "cell_type": "code",
   "execution_count": null,
   "id": "1ab62788",
   "metadata": {},
   "outputs": [],
   "source": []
  },
  {
   "cell_type": "code",
   "execution_count": null,
   "id": "f70fc455",
   "metadata": {},
   "outputs": [],
   "source": []
  }
 ],
 "metadata": {
  "kernelspec": {
   "display_name": "Python 3 (ipykernel)",
   "language": "python",
   "name": "python3"
  },
  "language_info": {
   "codemirror_mode": {
    "name": "ipython",
    "version": 3
   },
   "file_extension": ".py",
   "mimetype": "text/x-python",
   "name": "python",
   "nbconvert_exporter": "python",
   "pygments_lexer": "ipython3",
   "version": "3.10.8"
  }
 },
 "nbformat": 4,
 "nbformat_minor": 5
}
