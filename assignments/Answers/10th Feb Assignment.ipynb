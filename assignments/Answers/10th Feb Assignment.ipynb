{
 "cells": [
  {
   "cell_type": "markdown",
   "id": "2d2dbf0f",
   "metadata": {},
   "source": [
    "### Q1. Which function is used to open a file? What are the different modes of opening a file? Explain each mode of file opening."
   ]
  },
  {
   "cell_type": "markdown",
   "id": "2b92ed16",
   "metadata": {},
   "source": [
    "The function used to open a file in python is \"open()\" and the different modes of opening a file are;\n",
    "- 'r' (Read Only): This is the default mode in which a file is opened. If the file does not exit, an error is raised.\n",
    "- 'w' (Write Only): This mode opens the file for writing. If the file already exists, it contents are truncated(i.e, deleted), and if it does not exist, a new file is created.\n",
    "- 'a' (Append Only): This mode opens the file for writing, but the file is not truncated Instead any data written to the file is appended to the end of the file and if the file does not exist, it is created.\n",
    "- 'b' (Binary): This mode is used while working with binary files, such as images or executables. When this mode is used, the file is opened in binary mode and the data is read and written as a sequence of bytes.\n",
    "\n",
    "The different modes can be combined to created new modes, for example 'rb' which will open a file for reading in binary mode."
   ]
  },
  {
   "cell_type": "markdown",
   "id": "a9ba36e2",
   "metadata": {},
   "source": [
    "### Q2. Why close() function is used? Why is it important to close a file?"
   ]
  },
  {
   "cell_type": "markdown",
   "id": "a486834b",
   "metadata": {},
   "source": [
    "The close() function is used to close a file which has been opened.\n",
    "\n",
    "When changes are made to a file, they are stored in the memory and not written to a file till the file is closed. If a file isn't closed, changes made will be lost."
   ]
  },
  {
   "cell_type": "markdown",
   "id": "d1f1dff3",
   "metadata": {},
   "source": [
    "### Q3. Write a python program to create a text file. Write ‘I want to become a Data Scientist’ in that file. Then close the file. Open this file and read the content of the file"
   ]
  },
  {
   "cell_type": "code",
   "execution_count": 1,
   "id": "1cf538f4",
   "metadata": {},
   "outputs": [],
   "source": [
    "# Writing to a file\n",
    "with open('text.txt', 'w') as f:\n",
    "    f.write('I want to become a Data Scientist')    "
   ]
  },
  {
   "cell_type": "code",
   "execution_count": 8,
   "id": "3103f54a",
   "metadata": {},
   "outputs": [
    {
     "name": "stdout",
     "output_type": "stream",
     "text": [
      "I want to become a Data Scientist\n",
      "\n"
     ]
    }
   ],
   "source": [
    "# Reading contents of a file\n",
    "with open('text.txt', 'r') as f:\n",
    "    contents = f.read()\n",
    "    print(contents)"
   ]
  },
  {
   "cell_type": "markdown",
   "id": "010ad42a",
   "metadata": {},
   "source": [
    "### Q4. Explain the following with python code: read(), readline() and readlines()."
   ]
  },
  {
   "cell_type": "markdown",
   "id": "9fda993a",
   "metadata": {},
   "source": [
    "read(): This method reads the entire content of the file and returns it as a single string."
   ]
  },
  {
   "cell_type": "markdown",
   "id": "6f5b4583",
   "metadata": {},
   "source": [
    "readline(): This method reads the contents of the file till it encounters a newline or End of File (EOF)."
   ]
  },
  {
   "cell_type": "markdown",
   "id": "762815e9",
   "metadata": {},
   "source": [
    "readlines(): This method reads the entire content of the file and returns a list of strings, where each string is a single line in the file."
   ]
  },
  {
   "cell_type": "markdown",
   "id": "ad31b92d",
   "metadata": {},
   "source": [
    "### Q5. Explain why with statement is used with open(). What is the advantage of using with statement and open() together?"
   ]
  },
  {
   "cell_type": "markdown",
   "id": "489aa022",
   "metadata": {},
   "source": [
    "The with statement is used with the open() method in Python to ensure that a the file is properly closed after it has been opened even if it encounters an error.\n",
    "\n",
    "The advantage of using the with statement together with the open() method is that is eliminates the need of explicitly closing a file after it has been accessed, thereby making the code not prone to error if the programmer forgets to close the file."
   ]
  },
  {
   "cell_type": "markdown",
   "id": "c7c601d0",
   "metadata": {},
   "source": [
    "### Q6. Explain the write() and writelines() functions. Give a suitable example."
   ]
  },
  {
   "cell_type": "markdown",
   "id": "0c894069",
   "metadata": {},
   "source": [
    "write(): This method writes a string to a file. If the file has been created with contents, the write() truncates the contents and writes to the file and if the file does not exist, it will be created."
   ]
  },
  {
   "cell_type": "code",
   "execution_count": 12,
   "id": "ef5ce9b6",
   "metadata": {},
   "outputs": [],
   "source": [
    "with open(\"text.txt\", 'w') as f:\n",
    "    f.write('This is my file')"
   ]
  },
  {
   "cell_type": "markdown",
   "id": "924258e9",
   "metadata": {},
   "source": [
    "writelines(): The writelines() method writes the items of a list to the file."
   ]
  },
  {
   "cell_type": "code",
   "execution_count": 10,
   "id": "3f82e6cc",
   "metadata": {},
   "outputs": [],
   "source": [
    "with open(\"textfile.txt\", \"w\") as file:\n",
    "    lines = [\"I want to become a Data Scientist\", \"Data Science is my field\"]\n",
    "    file.writelines(lines)"
   ]
  },
  {
   "cell_type": "code",
   "execution_count": null,
   "id": "4b32aca2",
   "metadata": {},
   "outputs": [],
   "source": []
  }
 ],
 "metadata": {
  "kernelspec": {
   "display_name": "Python 3 (ipykernel)",
   "language": "python",
   "name": "python3"
  },
  "language_info": {
   "codemirror_mode": {
    "name": "ipython",
    "version": 3
   },
   "file_extension": ".py",
   "mimetype": "text/x-python",
   "name": "python",
   "nbconvert_exporter": "python",
   "pygments_lexer": "ipython3",
   "version": "3.10.8"
  }
 },
 "nbformat": 4,
 "nbformat_minor": 5
}
