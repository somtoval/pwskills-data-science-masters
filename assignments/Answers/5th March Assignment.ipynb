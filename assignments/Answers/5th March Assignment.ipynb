{
 "cells": [
  {
   "attachments": {},
   "cell_type": "markdown",
   "metadata": {},
   "source": [
    "#### Q1. How can you create a Bokeh plot using Python code?"
   ]
  },
  {
   "cell_type": "code",
   "execution_count": 2,
   "metadata": {},
   "outputs": [],
   "source": [
    "from bokeh.plotting import figure, output_file, show\n",
    "\n",
    "# Create a blank figure with labels\n",
    "p = figure(title=\"My Bokeh Plot\", x_axis_label='X Axis', y_axis_label='Y Axis')\n",
    "\n",
    "# Add a line plot with some data\n",
    "x = [1, 2, 3, 4, 5]\n",
    "y = [6, 7, 2, 4, 5]\n",
    "p.line(x, y, legend_label=\"Line 1\", line_width=2)\n",
    "\n",
    "# Add a scatter plot with some data\n",
    "x2 = [3, 8, 5, 1, 10]\n",
    "y2 = [9, 4, 6, 2, 7]\n",
    "p.circle(x2, y2, legend_label=\"Circles\", fill_color=\"white\", size=8)\n",
    "\n",
    "# Set output file and show the plot\n",
    "output_file(\"myplot.html\")\n",
    "show(p)\n"
   ]
  },
  {
   "attachments": {},
   "cell_type": "markdown",
   "metadata": {},
   "source": [
    "#### Q2. What are glyphs in Bokeh, and how can you add them to a Bokeh plot? Explain with an example."
   ]
  },
  {
   "attachments": {},
   "cell_type": "markdown",
   "metadata": {},
   "source": [
    "Ans - In Bokeh, glyphs are visual markers that can be used to represent data points on a plot. Glyphs can be used to create scatter plots, line plots, bar charts, and many other types of visualizations."
   ]
  },
  {
   "cell_type": "code",
   "execution_count": 3,
   "metadata": {},
   "outputs": [],
   "source": [
    "from bokeh.plotting import figure, output_file, show\n",
    "\n",
    "# Create a blank figure with labels\n",
    "p = figure(title=\"My Bokeh Glyphs\", x_axis_label='X Axis', y_axis_label='Y Axis')\n",
    "\n",
    "# Add a circle glyph with some data\n",
    "x = [1, 2, 3, 4, 5]\n",
    "y = [6, 7, 2, 4, 5]\n",
    "p.circle(x, y, legend_label=\"Circles\", fill_color=\"white\", size=12)\n",
    "\n",
    "# Add a line glyph with some data\n",
    "x2 = [1, 2, 3, 4, 5]\n",
    "y2 = [2, 5, 4, 8, 6]\n",
    "p.line(x2, y2, legend_label=\"Line 1\", line_width=2)\n",
    "\n",
    "# Add a triangle glyph with some data\n",
    "x3 = [3, 4, 2, 5, 1]\n",
    "y3 = [9, 7, 8, 6, 10]\n",
    "p.triangle(x3, y3, legend_label=\"Triangles\", fill_color=\"blue\", size=10)\n",
    "\n",
    "# Set output file and show the plot\n",
    "output_file(\"myglyphs.html\")\n",
    "show(p)\n"
   ]
  },
  {
   "attachments": {},
   "cell_type": "markdown",
   "metadata": {},
   "source": [
    "#### Q3. How can you customize the appearance of a Bokeh plot, including the axes, title, and legend?"
   ]
  },
  {
   "attachments": {},
   "cell_type": "markdown",
   "metadata": {},
   "source": [
    "Ans - Bokeh provides many options for customizing the appearance of a plot, including the axes, title, and legend. Here are some examples of how to customize these elements:"
   ]
  },
  {
   "cell_type": "code",
   "execution_count": 4,
   "metadata": {},
   "outputs": [],
   "source": [
    "# Axes\n",
    "p.xaxis.axis_label = \"X Axis Label\"\n",
    "p.xaxis.axis_label_text_color = \"blue\"\n",
    "p.xaxis.axis_label_standoff = 20\n",
    "\n",
    "p.yaxis.axis_label = \"Y Axis Label\"\n",
    "p.yaxis.axis_label_text_color = \"red\"\n",
    "p.yaxis.axis_label_standoff = 20\n",
    "\n",
    "p.xaxis.major_label_text_color = \"green\"\n",
    "p.yaxis.major_label_text_color = \"purple\"\n",
    "p.xaxis.axis_line_color = \"gray\"\n",
    "p.yaxis.axis_line_color = \"gray\"\n",
    "p.xaxis.major_tick_line_color = \"blue\"\n",
    "p.yaxis.major_tick_line_color = \"red\"\n",
    "p.xaxis.minor_tick_line_color = \"green\"\n",
    "p.yaxis.minor_tick_line_color = \"purple\"\n",
    "p.xaxis.major_tick_out = 10\n",
    "p.yaxis.major_tick_out = 10\n"
   ]
  },
  {
   "cell_type": "code",
   "execution_count": 5,
   "metadata": {},
   "outputs": [],
   "source": [
    "#Legend\n",
    "p.legend.title = \"Legend Title\"\n",
    "p.legend.title_text_color = \"green\"\n",
    "p.legend.title_text_font_size = \"12pt\"\n",
    "p.legend.label_text_font_size = \"10pt\"\n",
    "p.legend.location = \"top_left\"\n",
    "p.legend.background_fill_alpha = 0.5\n",
    "p.legend.border_line_color = \"black\"\n",
    "p.legend.border_line_width = 2\n",
    "\n"
   ]
  },
  {
   "attachments": {},
   "cell_type": "markdown",
   "metadata": {},
   "source": [
    "#### Q4. What is a Bokeh server, and how can you use it to create interactive plots that can be updated in real time?"
   ]
  },
  {
   "attachments": {},
   "cell_type": "markdown",
   "metadata": {},
   "source": [
    "Ans - A Bokeh server is a Python application that allows you to create and serve interactive Bokeh plots that can be updated in real-time based on user input or external data sources. The Bokeh server works by maintaining a WebSocket connection between the client (i.e., web browser) and the server, which allows for bi-directional communication and dynamic updates to the plot."
   ]
  },
  {
   "cell_type": "code",
   "execution_count": null,
   "metadata": {},
   "outputs": [],
   "source": [
    "from bokeh.plotting import figure\n",
    "from bokeh.layouts import column\n",
    "from bokeh.models import ColumnDataSource, Slider\n",
    "from bokeh.server.server import Server\n",
    "from bokeh.application import Application\n",
    "from bokeh.application.handlers.function import FunctionHandler\n",
    "from numpy.random import random\n",
    "\n",
    "# Define the layout and behavior of the plot\n",
    "def make_plot(doc):\n",
    "    source = ColumnDataSource(data=dict(x=random(100), y=random(100)))\n",
    "    plot = figure()\n",
    "    plot.scatter('x', 'y', source=source)\n",
    "\n",
    "    # Define a callback function to update the plot based on slider input\n",
    "    def callback(attr, old, new):\n",
    "        source.data = dict(x=random(new), y=random(new))\n",
    "\n",
    "    # Create a slider and add the callback function\n",
    "    slider = Slider(start=10, end=100, value=50, step=10, title=\"Number of points\")\n",
    "    slider.on_change('value', callback)\n",
    "\n",
    "    # Add the plot and slider to a layout\n",
    "    layout = column(plot, slider)\n",
    "    doc.add_root(layout)\n",
    "\n",
    "# Define the Bokeh server application\n",
    "handler = FunctionHandler(make_plot)\n",
    "app = Application(handler)\n",
    "\n",
    "# Start the Bokeh server and display the plot\n",
    "server = Server(app)\n",
    "server.start()\n",
    "server.io_loop.add_callback(server.show, \"/\")\n",
    "server.io_loop.start()\n"
   ]
  },
  {
   "attachments": {},
   "cell_type": "markdown",
   "metadata": {},
   "source": [
    "#### Q5. How can you embed a Bokeh plot into a web page or dashboard using Flask or Django?"
   ]
  },
  {
   "cell_type": "code",
   "execution_count": null,
   "metadata": {},
   "outputs": [],
   "source": [
    "from flask import Flask, render_template\n",
    "from bokeh.plotting import figure\n",
    "from bokeh.embed import components\n",
    "from numpy.random import random\n",
    "\n",
    "app = Flask(__name__)\n",
    "\n",
    "# Define the route for the web page that will display the plot\n",
    "@app.route('/')\n",
    "def index():\n",
    "    # Create the plot\n",
    "    plot = figure()\n",
    "    plot.scatter(random(100), random(100))\n",
    "\n",
    "    # Generate the HTML and JavaScript code for the plot\n",
    "    script, div = components(plot)\n",
    "\n",
    "    # Pass the code to the Flask template\n",
    "    return render_template('index.html', script=script, div=div)\n",
    "\n",
    "if __name__ == '__main__':\n",
    "    app.run(debug=True)\n"
   ]
  }
 ],
 "metadata": {
  "kernelspec": {
   "display_name": "data_env",
   "language": "python",
   "name": "python3"
  },
  "language_info": {
   "codemirror_mode": {
    "name": "ipython",
    "version": 3
   },
   "file_extension": ".py",
   "mimetype": "text/x-python",
   "name": "python",
   "nbconvert_exporter": "python",
   "pygments_lexer": "ipython3",
   "version": "3.9.16"
  },
  "orig_nbformat": 4,
  "vscode": {
   "interpreter": {
    "hash": "341442420f203dbbb0393d7e6f4edba277328d8b5c364d7398825446842f75cf"
   }
  }
 },
 "nbformat": 4,
 "nbformat_minor": 2
}
