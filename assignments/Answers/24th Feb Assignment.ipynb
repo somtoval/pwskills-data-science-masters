{
 "cells": [
  {
   "cell_type": "markdown",
   "id": "54429a5d",
   "metadata": {},
   "source": [
    "#### Q1. List any five functions of the pandas library with execution."
   ]
  },
  {
   "cell_type": "markdown",
   "id": "71b3daec",
   "metadata": {},
   "source": [
    "##### 1. read_csv() - used to read CSV files into a DataFrame"
   ]
  },
  {
   "cell_type": "code",
   "execution_count": 4,
   "id": "971c644e",
   "metadata": {},
   "outputs": [
    {
     "name": "stdout",
     "output_type": "stream",
     "text": [
      "                                   Youtube Urls  \\\n",
      "0  https://www.youtube.com//watch?v=nX5ONgCdLcc   \n",
      "1  https://www.youtube.com//watch?v=AM2Dt7cNebw   \n",
      "2  https://www.youtube.com//watch?v=7nMJVhey9TM   \n",
      "3  https://www.youtube.com//watch?v=FSVVlcFUCMk   \n",
      "4  https://www.youtube.com//watch?v=vKxdTuOirnI   \n",
      "\n",
      "                                          Thumbnails  \\\n",
      "0  https://i.ytimg.com/vi/nX5ONgCdLcc/maxresdefau...   \n",
      "1  https://i.ytimg.com/vi/AM2Dt7cNebw/maxresdefau...   \n",
      "2  https://i.ytimg.com/vi/7nMJVhey9TM/maxresdefau...   \n",
      "3  https://i.ytimg.com/vi/FSVVlcFUCMk/maxresdefau...   \n",
      "4  https://i.ytimg.com/vi/vKxdTuOirnI/maxresdefau...   \n",
      "\n",
      "                                              Titles       Views Upload Time  \n",
      "0             How to Attempt English Board Exam ????  122K views   1 day ago  \n",
      "1  Best technique to attempt SST paper in Board e...   54K views  2 days ago  \n",
      "2  Last Minute Strategy To Score More Than 98% ||...   22K views  3 days ago  \n",
      "3  Why You Should Choose Commerce After 10th? || ...   28K views  4 days ago  \n",
      "4  Follow This Plan To Score More Than 95% in Boa...  313K views  9 days ago  \n"
     ]
    }
   ],
   "source": [
    "import pandas as pd\n",
    "\n",
    "# Reading a CSV file into a DataFrame\n",
    "df = pd.read_csv('data.csv')\n",
    "\n",
    "# Displaying the DataFrame\n",
    "print(df.head())\n"
   ]
  },
  {
   "cell_type": "markdown",
   "id": "adfcb818",
   "metadata": {},
   "source": [
    "##### 2. dropna() - used to remove rows with missing values from a DataFrame"
   ]
  },
  {
   "cell_type": "code",
   "execution_count": 5,
   "id": "accdb8a4",
   "metadata": {},
   "outputs": [
    {
     "name": "stdout",
     "output_type": "stream",
     "text": [
      "     A    B\n",
      "0  1.0  5.0\n",
      "3  4.0  8.0\n"
     ]
    }
   ],
   "source": [
    "import pandas as pd\n",
    "\n",
    "# Creating a DataFrame with missing values\n",
    "df = pd.DataFrame({'A': [1, 2, None, 4], 'B': [5, None, None, 8]})\n",
    "\n",
    "# Dropping rows with missing values\n",
    "df = df.dropna()\n",
    "\n",
    "# Displaying the DataFrame\n",
    "print(df)\n"
   ]
  },
  {
   "cell_type": "markdown",
   "id": "23329fd5",
   "metadata": {},
   "source": [
    "##### 3. groupby() - used to group data in a DataFrame by one or more columns"
   ]
  },
  {
   "cell_type": "code",
   "execution_count": 6,
   "id": "0020f3ba",
   "metadata": {},
   "outputs": [
    {
     "name": "stdout",
     "output_type": "stream",
     "text": [
      "Gender\n",
      "Female    25.000000\n",
      "Male      28.333333\n",
      "Name: Age, dtype: float64\n"
     ]
    }
   ],
   "source": [
    "import pandas as pd\n",
    "\n",
    "# Creating a DataFrame\n",
    "df = pd.DataFrame({'Name': ['Alice', 'Bob', 'Charlie', 'David'],\n",
    "                   'Age': [25, 30, 27, 28],\n",
    "                   'Gender': ['Female', 'Male', 'Male', 'Male']})\n",
    "\n",
    "# Grouping the data by gender and computing the mean age\n",
    "grouped = df.groupby('Gender')['Age'].mean()\n",
    "\n",
    "# Displaying the grouped data\n",
    "print(grouped)\n"
   ]
  },
  {
   "cell_type": "markdown",
   "id": "408e8730",
   "metadata": {},
   "source": [
    "##### 4. merge() - used to merge two or more DataFrames based on a common column"
   ]
  },
  {
   "cell_type": "code",
   "execution_count": 7,
   "id": "bb8cc4bb",
   "metadata": {},
   "outputs": [
    {
     "name": "stdout",
     "output_type": "stream",
     "text": [
      "   ID   Name  Age\n",
      "0   1  Alice   25\n",
      "1   2    Bob   30\n"
     ]
    }
   ],
   "source": [
    "import pandas as pd\n",
    "\n",
    "# Creating two DataFrames to merge\n",
    "df1 = pd.DataFrame({'ID': [1, 2, 3], 'Name': ['Alice', 'Bob', 'Charlie']})\n",
    "df2 = pd.DataFrame({'ID': [1, 2, 4], 'Age': [25, 30, 27]})\n",
    "\n",
    "# Merging the two DataFrames based on the 'ID' column\n",
    "merged = pd.merge(df1, df2, on='ID')\n",
    "\n",
    "# Displaying the merged DataFrame\n",
    "print(merged)\n"
   ]
  },
  {
   "cell_type": "markdown",
   "id": "e7785210",
   "metadata": {},
   "source": [
    "##### 5. value_counts() - used to count the number of occurrences of unique values in a Series"
   ]
  },
  {
   "cell_type": "code",
   "execution_count": 8,
   "id": "00651df7",
   "metadata": {},
   "outputs": [
    {
     "name": "stdout",
     "output_type": "stream",
     "text": [
      "A    3\n",
      "B    2\n",
      "C    1\n",
      "dtype: int64\n"
     ]
    }
   ],
   "source": [
    "import pandas as pd\n",
    "\n",
    "# Creating a Series\n",
    "s = pd.Series(['A', 'B', 'C', 'A', 'A', 'B'])\n",
    "\n",
    "# Counting the number of occurrences of each unique value\n",
    "counts = s.value_counts()\n",
    "\n",
    "# Displaying the counts\n",
    "print(counts)\n"
   ]
  },
  {
   "cell_type": "markdown",
   "id": "ef8d66a8",
   "metadata": {},
   "source": [
    "#### Q2. Given a Pandas DataFrame df with columns 'A', 'B', and 'C', write a Python function to re-index the DataFrame with a new index that starts from 1 and increments by 2 for each row."
   ]
  },
  {
   "cell_type": "code",
   "execution_count": 10,
   "id": "857e4e6d",
   "metadata": {},
   "outputs": [],
   "source": [
    "import pandas as pd\n",
    "\n",
    "def reindex_df(df):\n",
    "    # Creating a custom index array\n",
    "    new_index = pd.RangeIndex(start=1, stop=len(df)*2, step=2)\n",
    "\n",
    "    # Re-indexing the DataFrame with the custom index\n",
    "    df = df.set_index(new_index)\n",
    "\n",
    "    return df\n"
   ]
  },
  {
   "cell_type": "code",
   "execution_count": 11,
   "id": "74be01b3",
   "metadata": {},
   "outputs": [
    {
     "name": "stdout",
     "output_type": "stream",
     "text": [
      "   A  B  C\n",
      "1  1  4  7\n",
      "3  2  5  8\n",
      "5  3  6  9\n"
     ]
    }
   ],
   "source": [
    "# Creating a sample DataFrame\n",
    "df = pd.DataFrame({'A': [1, 2, 3], 'B': [4, 5, 6], 'C': [7, 8, 9]})\n",
    "\n",
    "# Re-indexing the DataFrame with a custom index\n",
    "new_df = reindex_df(df)\n",
    "\n",
    "# Displaying the new DataFrame\n",
    "print(new_df)\n"
   ]
  },
  {
   "cell_type": "markdown",
   "id": "5d0da886",
   "metadata": {},
   "source": [
    "#### Q3. You have a Pandas DataFrame df with a column named 'Values'. Write a Python function that iterates over the DataFrame and calculates the sum of the first three values in the 'Values' column. The function should print the sum to the console.\n",
    "\n",
    "#### For example, if the 'Values' column of df contains the values [10, 20, 30, 40, 50], your function should calculate and print the sum of the first three values, which is 60."
   ]
  },
  {
   "cell_type": "code",
   "execution_count": 12,
   "id": "d0c83a23",
   "metadata": {},
   "outputs": [],
   "source": [
    "import pandas as pd\n",
    "\n",
    "def sum_first_three_values(df):\n",
    "    # Selecting the first three values in the 'Values' column\n",
    "    first_three_values = df['Values'].iloc[:3]\n",
    "\n",
    "    # Calculating the sum of the first three values\n",
    "    sum_first_three = first_three_values.sum()\n",
    "\n",
    "    # Printing the sum to the console\n",
    "    print(\"The sum of the first three values in the 'Values' column is:\", sum_first_three)\n"
   ]
  },
  {
   "cell_type": "code",
   "execution_count": 14,
   "id": "13ff73d7",
   "metadata": {},
   "outputs": [
    {
     "name": "stdout",
     "output_type": "stream",
     "text": [
      "The sum of the first three values in the 'Values' column is: 60\n"
     ]
    }
   ],
   "source": [
    "# Creating a sample DataFrame\n",
    "df = pd.DataFrame({'Values': [10, 20, 30, 40, 50]})\n",
    "\n",
    "# Calculating the sum of the first three values in the 'Values' column\n",
    "sum_first_three_values(df)\n"
   ]
  },
  {
   "cell_type": "markdown",
   "id": "e1b72a92",
   "metadata": {},
   "source": [
    "#### Q4. Given a Pandas DataFrame df with a column 'Text', write a Python function to create a new column 'Word_Count' that contains the number of words in each row of the 'Text' column."
   ]
  },
  {
   "cell_type": "code",
   "execution_count": 16,
   "id": "2b6efe11",
   "metadata": {},
   "outputs": [],
   "source": [
    "import pandas as pd\n",
    "\n",
    "def add_word_count(df):\n",
    "    # Splitting each row of the 'Text' column into words and counting their length\n",
    "    word_count = df['Text'].apply(lambda x: len(x.split()))\n",
    "\n",
    "    # Adding the 'Word_Count' column to the DataFrame\n",
    "    df['Word_Count'] = word_count\n",
    "\n",
    "    # Returning the updated DataFrame\n",
    "    return df\n"
   ]
  },
  {
   "cell_type": "code",
   "execution_count": 17,
   "id": "cba2a48c",
   "metadata": {},
   "outputs": [
    {
     "name": "stdout",
     "output_type": "stream",
     "text": [
      "                               Text  Word_Count\n",
      "0         This is a sample sentence           5\n",
      "1                  Another sentence           2\n",
      "2  A third sentence with more words           6\n"
     ]
    }
   ],
   "source": [
    "# Creating a sample DataFrame\n",
    "df = pd.DataFrame({'Text': ['This is a sample sentence', 'Another sentence', 'A third sentence with more words']})\n",
    "\n",
    "# Adding the 'Word_Count' column to the DataFrame\n",
    "df = add_word_count(df)\n",
    "\n",
    "# Printing the updated DataFrame\n",
    "print(df)\n"
   ]
  },
  {
   "cell_type": "markdown",
   "id": "b4773142",
   "metadata": {},
   "source": [
    "#### Q5. How are DataFrame.size() and DataFrame.shape() different?"
   ]
  },
  {
   "cell_type": "markdown",
   "id": "8fa65c1b",
   "metadata": {},
   "source": [
    "Ans -\n",
    "DataFrame.size() returns the total number of elements in a DataFrame, i.e., the product of the number of rows and columns. It returns a scalar value that represents the size of the DataFrame.\n",
    "\n",
    "DataFrame.shape() returns a tuple of two elements that represent the dimensions of the DataFrame, i.e., the number of rows and columns. The first element of the tuple represents the number of rows, and the second element represents the number of columns."
   ]
  },
  {
   "cell_type": "code",
   "execution_count": 18,
   "id": "cb7af629",
   "metadata": {},
   "outputs": [
    {
     "name": "stdout",
     "output_type": "stream",
     "text": [
      "9\n",
      "(3, 3)\n"
     ]
    }
   ],
   "source": [
    "# Creating a sample DataFrame\n",
    "df = pd.DataFrame({'A': [1, 2, 3], 'B': [4, 5, 6], 'C': [7, 8, 9]})\n",
    "\n",
    "# Printing the size of the DataFrame\n",
    "print(df.size)\n",
    "\n",
    "# Printing the shape of the DataFrame\n",
    "print(df.shape)\n"
   ]
  },
  {
   "cell_type": "markdown",
   "id": "22ef0dc7",
   "metadata": {},
   "source": [
    "#### Q6. Which function of pandas do we use to read an excel file?"
   ]
  },
  {
   "cell_type": "code",
   "execution_count": null,
   "id": "362b20c5",
   "metadata": {},
   "outputs": [],
   "source": [
    "# Reading data from an Excel file into a DataFrame\n",
    "df = pd.read_excel('file.xlsx')\n",
    "\n",
    "# Displaying the DataFrame\n",
    "print(df)\n"
   ]
  },
  {
   "cell_type": "markdown",
   "id": "bde17572",
   "metadata": {},
   "source": [
    "#### Q7. You have a Pandas DataFrame df that contains a column named 'Email' that contains email addresses in the format 'username@domain.com'. Write a Python function that creates a new column 'Username' in df that contains only the username part of each email address."
   ]
  },
  {
   "cell_type": "code",
   "execution_count": 19,
   "id": "622fb3b2",
   "metadata": {},
   "outputs": [],
   "source": [
    "def extract_username(df):\n",
    "    # Splitting the 'Email' column into separate columns at the '@' symbol\n",
    "    split_df = df['Email'].str.split('@', expand=True)\n",
    "    \n",
    "    # Selecting the first column (the username) and renaming it to 'Username'\n",
    "    df['Username'] = split_df[0]\n",
    "    \n",
    "    return df\n"
   ]
  },
  {
   "cell_type": "code",
   "execution_count": 22,
   "id": "8361dd00",
   "metadata": {},
   "outputs": [
    {
     "data": {
      "text/html": [
       "<div>\n",
       "<style scoped>\n",
       "    .dataframe tbody tr th:only-of-type {\n",
       "        vertical-align: middle;\n",
       "    }\n",
       "\n",
       "    .dataframe tbody tr th {\n",
       "        vertical-align: top;\n",
       "    }\n",
       "\n",
       "    .dataframe thead th {\n",
       "        text-align: right;\n",
       "    }\n",
       "</style>\n",
       "<table border=\"1\" class=\"dataframe\">\n",
       "  <thead>\n",
       "    <tr style=\"text-align: right;\">\n",
       "      <th></th>\n",
       "      <th>Email</th>\n",
       "      <th>Username</th>\n",
       "    </tr>\n",
       "  </thead>\n",
       "  <tbody>\n",
       "    <tr>\n",
       "      <th>0</th>\n",
       "      <td>john.doe@example.com</td>\n",
       "      <td>john.doe</td>\n",
       "    </tr>\n",
       "    <tr>\n",
       "      <th>1</th>\n",
       "      <td>bob@example.com</td>\n",
       "      <td>bob</td>\n",
       "    </tr>\n",
       "    <tr>\n",
       "      <th>2</th>\n",
       "      <td>claire@example.com</td>\n",
       "      <td>claire</td>\n",
       "    </tr>\n",
       "  </tbody>\n",
       "</table>\n",
       "</div>"
      ],
      "text/plain": [
       "                  Email  Username\n",
       "0  john.doe@example.com  john.doe\n",
       "1       bob@example.com       bob\n",
       "2    claire@example.com    claire"
      ]
     },
     "execution_count": 22,
     "metadata": {},
     "output_type": "execute_result"
    }
   ],
   "source": [
    "# Creating a sample DataFrame\n",
    "df = pd.DataFrame({\n",
    "    'Email': ['john.doe@example.com', 'bob@example.com', 'claire@example.com']\n",
    "})\n",
    "\n",
    "extract_username(df)\n"
   ]
  },
  {
   "cell_type": "markdown",
   "id": "46b9c072",
   "metadata": {},
   "source": [
    "#### Q8. You have a Pandas DataFrame df with columns 'A', 'B', and 'C'. Write a Python function that selects all rows where the value in column 'A' is greater than 5 and the value in column 'B' is less than 10. The function should return a new DataFrame that contains only the selected rows. For example, if df contains the following values:\n",
    "####    A B C\n",
    "#### 0 3 5 1\n",
    "#### 1 8 2 7\n",
    "#### 2 6 9 4\n",
    "#### 3 2 3 5\n",
    "#### 4 9 1 2"
   ]
  },
  {
   "cell_type": "code",
   "execution_count": 23,
   "id": "d8daff82",
   "metadata": {},
   "outputs": [
    {
     "name": "stdout",
     "output_type": "stream",
     "text": [
      "   A  B  C\n",
      "1  8  2  7\n",
      "2  6  9  4\n",
      "4  9  1  2\n"
     ]
    }
   ],
   "source": [
    "import pandas as pd\n",
    "\n",
    "# Creating a sample DataFrame\n",
    "df = pd.DataFrame({\n",
    "    'A': [3, 8, 6, 2, 9],\n",
    "    'B': [5, 2, 9, 3, 1],\n",
    "    'C': [1, 7, 4, 5, 2]\n",
    "})\n",
    "\n",
    "def select_rows(df):\n",
    "    # Selecting rows where A > 5 and B < 10\n",
    "    selected_rows = df[(df['A'] > 5) & (df['B'] < 10)]\n",
    "    \n",
    "    # Returning the selected rows\n",
    "    return selected_rows\n",
    "\n",
    "# Testing the function\n",
    "selected_df = select_rows(df)\n",
    "print(selected_df)\n"
   ]
  },
  {
   "cell_type": "markdown",
   "id": "c170961b",
   "metadata": {},
   "source": [
    "#### Q9. Given a Pandas DataFrame df with a column 'Values', write a Python function to calculate the mean, median, and standard deviation of the values in the 'Values' column."
   ]
  },
  {
   "cell_type": "code",
   "execution_count": 24,
   "id": "d1f94df9",
   "metadata": {},
   "outputs": [],
   "source": [
    "import pandas as pd\n",
    "\n",
    "def calculate_stats(df):\n",
    "    mean_value = df['Values'].mean()\n",
    "    median_value = df['Values'].median()\n",
    "    std_value = df['Values'].std()\n",
    "    print('Mean:', mean_value)\n",
    "    print('Median:', median_value)\n",
    "    print('Standard Deviation:', std_value)\n"
   ]
  },
  {
   "cell_type": "code",
   "execution_count": 25,
   "id": "49688092",
   "metadata": {},
   "outputs": [
    {
     "name": "stdout",
     "output_type": "stream",
     "text": [
      "Mean: 3.0\n",
      "Median: 3.0\n",
      "Standard Deviation: 1.5811388300841898\n"
     ]
    }
   ],
   "source": [
    "# create example DataFrame\n",
    "df = pd.DataFrame({'Values': [1, 2, 3, 4, 5]})\n",
    "calculate_stats(df)\n"
   ]
  },
  {
   "cell_type": "markdown",
   "id": "98400e20",
   "metadata": {},
   "source": [
    "#### Q10. Given a Pandas DataFrame df with a column 'Sales' and a column 'Date', write a Python function to create a new column 'MovingAverage' that contains the moving average of the sales for the past 7 days B for each row in the DataFrame. The moving average should be calculated using a window of size 7 and should include the current day."
   ]
  },
  {
   "cell_type": "code",
   "execution_count": 26,
   "id": "20321a7e",
   "metadata": {},
   "outputs": [],
   "source": [
    "import pandas as pd\n",
    "\n",
    "def calculate_moving_average(df):\n",
    "    # sort DataFrame by date\n",
    "    df = df.sort_values('Date')\n",
    "    # create a new column with the rolling mean of the sales for the past 7 days\n",
    "    df['MovingAverage'] = df['Sales'].rolling(window=7, min_periods=1).mean()\n",
    "    return df\n"
   ]
  },
  {
   "cell_type": "code",
   "execution_count": 27,
   "id": "250077d4",
   "metadata": {},
   "outputs": [
    {
     "name": "stdout",
     "output_type": "stream",
     "text": [
      "   Sales       Date  MovingAverage\n",
      "0     10 2022-01-01           10.0\n",
      "1     15 2022-01-02           12.5\n",
      "2     20 2022-01-03           15.0\n",
      "3     25 2022-01-04           17.5\n",
      "4     30 2022-01-05           20.0\n",
      "5     35 2022-01-06           22.5\n",
      "6     40 2022-01-07           25.0\n",
      "7     45 2022-01-08           30.0\n",
      "8     50 2022-01-09           35.0\n",
      "9     55 2022-01-10           40.0\n"
     ]
    }
   ],
   "source": [
    "# create example DataFrame\n",
    "df = pd.DataFrame({'Sales': [10, 15, 20, 25, 30, 35, 40, 45, 50, 55],\n",
    "                   'Date': pd.date_range(start='2022-01-01', periods=10)})\n",
    "# calculate moving average\n",
    "df = calculate_moving_average(df)\n",
    "print(df)\n"
   ]
  },
  {
   "cell_type": "markdown",
   "id": "49796b85",
   "metadata": {},
   "source": [
    "#### Q11. You have a Pandas DataFrame df with a column 'Date'. Write a Python function that creates a new column 'Weekday' in the DataFrame. The 'Weekday' column should contain the weekday name (e.g. Monday, Tuesday) corresponding to each date in the 'Date' column. For example, if df contains the following values: Date\n",
    "#### 0 2023-01-01\n",
    "#### 1 2023-01-02\n",
    "#### 2 2023-01-03\n",
    "#### 3 2023-01-04\n",
    "#### 4 2023-01-05"
   ]
  },
  {
   "cell_type": "code",
   "execution_count": 33,
   "id": "00b9178e",
   "metadata": {},
   "outputs": [],
   "source": [
    "import pandas as pd\n",
    "\n",
    "def add_weekday_column(df):\n",
    "    # Convert 'Date' column to datetime type\n",
    "    df['Date'] = pd.to_datetime(df['Date'])\n",
    "\n",
    "    # Extract weekday name from 'Date' column\n",
    "    df['Weekday'] = df['Date'].dt.day_name()\n",
    "\n",
    "    # Return modified DataFrame\n",
    "    return df\n"
   ]
  },
  {
   "cell_type": "code",
   "execution_count": 35,
   "id": "52e8dde5",
   "metadata": {},
   "outputs": [
    {
     "name": "stdout",
     "output_type": "stream",
     "text": [
      "        Date    Weekday\n",
      "0 2023-01-01     Sunday\n",
      "1 2023-01-02     Monday\n",
      "2 2023-01-03    Tuesday\n",
      "3 2023-01-04  Wednesday\n",
      "4 2023-01-05   Thursday\n"
     ]
    }
   ],
   "source": [
    "# create DataFrame\n",
    "df = pd.DataFrame({'Date':[\" 2023-01-01\",\"2023-01-02\",\"2023-01-03\",\"2023-01-04\",\"2023-01-05\"]})\n",
    "# calculate moving average\n",
    "df = add_weekday_column(df)\n",
    "print(df)"
   ]
  },
  {
   "cell_type": "markdown",
   "id": "766440ca",
   "metadata": {},
   "source": [
    "#### Q12. Given a Pandas DataFrame df with a column 'Date' that contains timestamps, write a Python function to select all rows where the date is between '2023-01-01' and '2023-01-31'."
   ]
  },
  {
   "cell_type": "code",
   "execution_count": 36,
   "id": "88358af0",
   "metadata": {},
   "outputs": [],
   "source": [
    "import pandas as pd\n",
    "\n",
    "def select_january_rows(df):\n",
    "    start_date = '2023-01-01'\n",
    "    end_date = '2023-01-31'\n",
    "    mask = (df['Date'] >= start_date) & (df['Date'] <= end_date)\n",
    "    return df.loc[mask]\n"
   ]
  },
  {
   "cell_type": "code",
   "execution_count": 37,
   "id": "6253b929",
   "metadata": {},
   "outputs": [
    {
     "name": "stdout",
     "output_type": "stream",
     "text": [
      "         Date\n",
      "1  2023-01-02\n",
      "2  2023-01-03\n",
      "3  2023-01-04\n",
      "4  2023-01-05\n"
     ]
    }
   ],
   "source": [
    "# create DataFrame\n",
    "df = pd.DataFrame({'Date':[\" 2023-01-01\",\"2023-01-02\",\"2023-01-03\",\"2023-01-04\",\"2023-01-05\",\"2023-02-05\",\"2023-02-04\",\"2023-03-05\"]})\n",
    "# calculate moving average\n",
    "df = select_january_rows(df)\n",
    "print(df)"
   ]
  },
  {
   "cell_type": "markdown",
   "id": "da531df8",
   "metadata": {},
   "source": [
    "#### Q13. To use the basic functions of pandas, what is the first and foremost necessary library that needs to be imported?"
   ]
  },
  {
   "cell_type": "markdown",
   "id": "cf32285e",
   "metadata": {},
   "source": [
    "Ans - The first and foremost necessary library that needs to be imported to use the basic functions of pandas is pandas itself."
   ]
  },
  {
   "cell_type": "code",
   "execution_count": 38,
   "id": "62017f88",
   "metadata": {},
   "outputs": [],
   "source": [
    "import pandas as pd"
   ]
  },
  {
   "cell_type": "code",
   "execution_count": null,
   "id": "bcc86659",
   "metadata": {},
   "outputs": [],
   "source": []
  }
 ],
 "metadata": {
  "kernelspec": {
   "display_name": "Python 3 (ipykernel)",
   "language": "python",
   "name": "python3"
  },
  "language_info": {
   "codemirror_mode": {
    "name": "ipython",
    "version": 3
   },
   "file_extension": ".py",
   "mimetype": "text/x-python",
   "name": "python",
   "nbconvert_exporter": "python",
   "pygments_lexer": "ipython3",
   "version": "3.9.13"
  }
 },
 "nbformat": 4,
 "nbformat_minor": 5
}
