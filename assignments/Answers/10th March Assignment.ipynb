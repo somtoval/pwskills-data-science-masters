{
 "cells": [
  {
   "attachments": {},
   "cell_type": "markdown",
   "metadata": {},
   "source": [
    "#### Q1: What is Estimation Statistics? Explain point estimate and interval estimate."
   ]
  },
  {
   "attachments": {},
   "cell_type": "markdown",
   "metadata": {},
   "source": [
    "Ans - Estimation is a branch of statistics that involves using sample data to make inferences about population parameters. Estimation can be either point estimation or interval estimation.\n",
    "\n",
    "Point estimate refers to a single numerical value that is used to estimate an unknown population parameter based on sample data. For example, the sample mean (x̄) is often used as a point estimate for the population mean (μ), and the sample proportion (p) is used as a point estimate for the population proportion (P). Point estimates are useful because they provide a simple and straightforward way to estimate population parameters based on sample data. However, point estimates can be imprecise and may not provide a complete picture of the population.\n",
    "\n",
    "Interval estimate, on the other hand, is a range of values that is used to estimate an unknown population parameter with a certain level of confidence. The most common type of interval estimate is a confidence interval, which is constructed by calculating the margin of error around a point estimate. For example, if the sample mean (x̄) is used as a point estimate for the population mean (μ), a confidence interval can be constructed by calculating the margin of error around x̄ using the sample standard deviation and the sample size. The resulting confidence interval provides a range of values within which the true population mean is likely to fall with a certain level of confidence."
   ]
  },
  {
   "attachments": {},
   "cell_type": "markdown",
   "metadata": {},
   "source": [
    "#### Q2. Write a Python function to estimate the population mean using a sample mean and standard deviation."
   ]
  },
  {
   "attachments": {},
   "cell_type": "markdown",
   "metadata": {},
   "source": [
    "Ans - "
   ]
  },
  {
   "cell_type": "code",
   "execution_count": 2,
   "metadata": {},
   "outputs": [],
   "source": [
    "import math\n",
    "\n",
    "def population_mean_estimate(sample_mean, sample_std_dev, sample_size):\n",
    "    std_error = sample_std_dev / math.sqrt(sample_size)\n",
    "    margin_of_error = 1.96 * std_error  # Using a 95% confidence level\n",
    "    lower_bound = sample_mean - margin_of_error\n",
    "    upper_bound = sample_mean + margin_of_error\n",
    "    population_mean_estimate = (lower_bound + upper_bound) / 2\n",
    "    return population_mean_estimate\n"
   ]
  },
  {
   "cell_type": "code",
   "execution_count": 3,
   "metadata": {},
   "outputs": [
    {
     "name": "stdout",
     "output_type": "stream",
     "text": [
      "Estimated population mean: 75.0\n"
     ]
    }
   ],
   "source": [
    "sample_mean = 75\n",
    "sample_std_dev = 8\n",
    "sample_size = 100\n",
    "\n",
    "pop_mean_estimate = population_mean_estimate(sample_mean, sample_std_dev, sample_size)\n",
    "print(f\"Estimated population mean: {pop_mean_estimate}\")\n"
   ]
  },
  {
   "attachments": {},
   "cell_type": "markdown",
   "metadata": {},
   "source": [
    "#### Q3: What is Hypothesis testing? Why is it used? State the importance of Hypothesis testing."
   ]
  },
  {
   "attachments": {},
   "cell_type": "markdown",
   "metadata": {},
   "source": [
    "Ans - Hypothesis testing is a statistical method used to make decisions about a population based on sample data. In hypothesis testing, we start with a null hypothesis (H0), which is a statement that represents the status quo or a belief that there is no effect or difference between groups. We also have an alternative hypothesis (Ha), which is a statement that represents the opposite of the null hypothesis and suggests that there is a difference or effect.\n",
    "\n",
    "The process of hypothesis testing involves selecting a sample from the population, calculating a test statistic (e.g., z-score or t-statistic), and comparing the test statistic to a critical value or p-value. If the test statistic is greater than the critical value or the p-value is less than a chosen significance level (typically 0.05), we reject the null hypothesis in favor of the alternative hypothesis. If the test statistic is less than the critical value or the p-value is greater than the chosen significance level, we fail to reject the null hypothesis.\n",
    "\n",
    "Hypothesis testing is used to make decisions and draw conclusions about populations based on sample data. It is often used in scientific research, quality control, and business decision making. For example, a pharmaceutical company may use hypothesis testing to determine whether a new drug is effective at treating a particular condition. A manufacturing company may use hypothesis testing to determine whether a new process is producing products that meet certain quality standards."
   ]
  },
  {
   "attachments": {},
   "cell_type": "markdown",
   "metadata": {},
   "source": [
    "#### Q4. Create a hypothesis that states whether the average weight of male college students is greater than the average weight of female college students."
   ]
  },
  {
   "attachments": {},
   "cell_type": "markdown",
   "metadata": {},
   "source": [
    "Ans - Null Hypothesis (H0): The average weight of male college students is equal to or less than the average weight of female college students.\n",
    "\n",
    "Alternative Hypothesis (Ha): The average weight of male college students is greater than the average weight of female college students.\n",
    "\n",
    "We can test this hypothesis by collecting a sample of male and female college students and comparing their weights using a statistical test, such as a two-sample t-test. If the test statistic is greater than the critical value or the p-value is less than the chosen significance level, we reject the null hypothesis and conclude that there is evidence to support the alternative hypothesis. If the test statistic is less than the critical value or the p-value is greater than the chosen significance level, we fail to reject the null hypothesis and conclude that there is not enough evidence to support the alternative hypothesis."
   ]
  },
  {
   "attachments": {},
   "cell_type": "markdown",
   "metadata": {},
   "source": [
    "#### Q5. Write a Python script to conduct a hypothesis test on the difference between two population means, given a sample from each population."
   ]
  },
  {
   "attachments": {},
   "cell_type": "markdown",
   "metadata": {},
   "source": [
    "Ans - "
   ]
  },
  {
   "cell_type": "code",
   "execution_count": 6,
   "metadata": {},
   "outputs": [
    {
     "name": "stdout",
     "output_type": "stream",
     "text": [
      "Sample 1 Mean: 50.13271441083786\n",
      "Sample 1 Standard Deviation: 12.017005126478931\n",
      "Sample 2 Mean: 61.19163835600862\n",
      "Sample 2 Standard Deviation: 10.177202623035454\n",
      "t-statistic: -4.965764973915658\n",
      "p-value: 2.9936023305598953e-06\n"
     ]
    }
   ],
   "source": [
    "import numpy as np\n",
    "from scipy.stats import ttest_ind\n",
    "\n",
    "# generate two populations with different means and standard deviations\n",
    "np.random.seed(123)\n",
    "pop1 = np.random.normal(loc=50, scale=10, size=100)\n",
    "pop2 = np.random.normal(loc=60, scale=10, size=100)\n",
    "\n",
    "# take a sample from each population\n",
    "sample1 = pop1[:50]\n",
    "sample2 = pop2[:50]\n",
    "\n",
    "# calculate the mean and standard deviation of each sample\n",
    "mean1 = np.mean(sample1)\n",
    "std1 = np.std(sample1, ddof=1)\n",
    "mean2 = np.mean(sample2)\n",
    "std2 = np.std(sample2, ddof=1)\n",
    "\n",
    "# conduct a two-sample t-test\n",
    "t, p = ttest_ind(sample1, sample2, equal_var=False)\n",
    "\n",
    "# print the results\n",
    "print('Sample 1 Mean:', mean1)\n",
    "print('Sample 1 Standard Deviation:', std1)\n",
    "print('Sample 2 Mean:', mean2)\n",
    "print('Sample 2 Standard Deviation:', std2)\n",
    "print('t-statistic:', t)\n",
    "print('p-value:', p)\n"
   ]
  },
  {
   "cell_type": "markdown",
   "metadata": {},
   "source": [
    "#### Q6: What is a null and alternative hypothesis? Give some examples."
   ]
  },
  {
   "attachments": {},
   "cell_type": "markdown",
   "metadata": {},
   "source": [
    "Ans - In statistical hypothesis testing, we generally start with two hypotheses: the null hypothesis and the alternative hypothesis. The null hypothesis is the hypothesis that we want to test and is usually assumed to be true unless there is sufficient evidence to reject it. The alternative hypothesis is the hypothesis that we accept if there is enough evidence to reject the null hypothesis.\n",
    "\n",
    "Here are some examples of null and alternative hypotheses:\n",
    "\n",
    "Example: A new drug is developed to lower blood pressure in patients. The null hypothesis is that the drug has no effect, and the alternative hypothesis is that the drug does have an effect.\n",
    "Null Hypothesis (H0): The mean blood pressure of patients who take the new drug is equal to the mean blood pressure of patients who do not take the drug.\n",
    "\n",
    "Alternative Hypothesis (Ha): The mean blood pressure of patients who take the new drug is lower than the mean blood pressure of patients who do not take the drug.\n",
    "\n",
    "Example: An online retailer is testing two different website designs to see which one leads to more sales. The null hypothesis is that there is no difference between the two designs, and the alternative hypothesis is that one design is better than the other.\n",
    "Null Hypothesis (H0): The mean number of sales for website design A is equal to the mean number of sales for website design B.\n",
    "\n",
    "Alternative Hypothesis (Ha): The mean number of sales for website design A is greater than the mean number of sales for website design B."
   ]
  },
  {
   "attachments": {},
   "cell_type": "markdown",
   "metadata": {},
   "source": [
    "#### Q7: Write down the steps involved in hypothesis testing."
   ]
  },
  {
   "attachments": {},
   "cell_type": "markdown",
   "metadata": {},
   "source": [
    "Ans - The general steps involved in hypothesis testing are as follows:\n",
    "\n",
    "State the null and alternative hypotheses: Begin by stating the null hypothesis (H0) and alternative hypothesis (Ha) based on the research question or problem being investigated.\n",
    "\n",
    "Determine the level of significance: Decide on the level of significance (alpha level) of the test. This determines the probability of making a type I error, which is rejecting the null hypothesis when it is actually true.\n",
    "\n",
    "Choose the appropriate test: Based on the research question and the type of data, select an appropriate statistical test to analyze the data.\n",
    "\n",
    "Collect data and calculate the test statistic: Collect data from a sample or population and use it to calculate the test statistic.\n",
    "\n",
    "Determine the critical value: Determine the critical value based on the alpha level and the degrees of freedom.\n",
    "\n",
    "Make a decision: Compare the test statistic to the critical value to determine if the null hypothesis should be rejected or not. If the test statistic falls in the rejection region, reject the null hypothesis; if it falls in the acceptance region, accept the null hypothesis.\n",
    "\n",
    "Interpret the results: Finally, interpret the results and make conclusions based on the analysis."
   ]
  },
  {
   "attachments": {},
   "cell_type": "markdown",
   "metadata": {},
   "source": [
    "#### Q8. Define p-value and explain its significance in hypothesis testing."
   ]
  },
  {
   "attachments": {},
   "cell_type": "markdown",
   "metadata": {},
   "source": [
    "Ans - In hypothesis testing, the p-value is the probability of obtaining a test statistic at least as extreme as the one observed, assuming that the null hypothesis is true.\n",
    "\n",
    "The significance of the p-value is that it provides a measure of the strength of the evidence against the null hypothesis. If the p-value is very small (typically less than 0.05), it suggests that the observed data is unlikely to have occurred by chance alone, and the null hypothesis should be rejected in favor of the alternative hypothesis. Conversely, if the p-value is large, it suggests that the observed data is consistent with the null hypothesis, and there is no strong evidence to reject it.\n",
    "\n",
    "The p-value is a key element in hypothesis testing because it allows us to make statistical inferences about the population based on a sample. It provides a way to quantify the likelihood of observing the data, assuming the null hypothesis is true. By comparing the p-value to a predetermined level of significance (alpha level), we can decide whether to reject or fail to reject the null hypothesis."
   ]
  },
  {
   "attachments": {},
   "cell_type": "markdown",
   "metadata": {},
   "source": [
    "#### Q9. Generate a Student's t-distribution plot using Python's matplotlib library, with the degrees of freedom parameter set to 10."
   ]
  },
  {
   "cell_type": "code",
   "execution_count": 7,
   "metadata": {},
   "outputs": [
    {
     "data": {
      "image/png": "[encoded data removed]",
      "text/plain": [
       "<Figure size 640x480 with 1 Axes>"
      ]
     },
     "metadata": {},
     "output_type": "display_data"
    }
   ],
   "source": [
    "import numpy as np\n",
    "import matplotlib.pyplot as plt\n",
    "from scipy.stats import t\n",
    "\n",
    "df = 10  # degrees of freedom\n",
    "\n",
    "x = np.linspace(t.ppf(0.01, df), t.ppf(0.99, df), 100)  # x-axis values\n",
    "plt.plot(x, t.pdf(x, df), 'r-', lw=2, alpha=0.6, label='t pdf')  # plot the t-distribution PDF\n",
    "plt.legend(loc='best', frameon=False)  # add a legend\n",
    "plt.show()  # display the plot\n"
   ]
  },
  {
   "attachments": {},
   "cell_type": "markdown",
   "metadata": {},
   "source": [
    "#### Q10. Write a Python program to calculate the two-sample t-test for independent samples, given two random samples of equal size and a null hypothesis that the population means are equal."
   ]
  },
  {
   "cell_type": "code",
   "execution_count": 8,
   "metadata": {},
   "outputs": [
    {
     "name": "stdout",
     "output_type": "stream",
     "text": [
      "Two-sample t-test results:\n",
      "t-statistic: -5.34\n",
      "p-value: 0.0000\n",
      "Reject null hypothesis - there is evidence of a significant difference in means.\n"
     ]
    }
   ],
   "source": [
    "import numpy as np\n",
    "from scipy.stats import ttest_ind\n",
    "\n",
    "# generate two random samples with equal size\n",
    "sample1 = np.random.normal(10, 2, 50)\n",
    "sample2 = np.random.normal(12, 2, 50)\n",
    "\n",
    "# perform a two-sample t-test assuming equal variances and a null hypothesis of equal means\n",
    "t_stat, p_value = ttest_ind(sample1, sample2, equal_var=True)\n",
    "\n",
    "# print the results\n",
    "print(\"Two-sample t-test results:\")\n",
    "print(f\"t-statistic: {t_stat:.2f}\")\n",
    "print(f\"p-value: {p_value:.4f}\")\n",
    "if p_value < 0.05:\n",
    "    print(\"Reject null hypothesis - there is evidence of a significant difference in means.\")\n",
    "else:\n",
    "    print(\"Fail to reject null hypothesis - there is no significant evidence of a difference in means.\")\n"
   ]
  },
  {
   "cell_type": "markdown",
   "metadata": {},
   "source": [
    "#### Q11: What is Student’s t distribution? When to use the t-Distribution."
   ]
  },
  {
   "attachments": {},
   "cell_type": "markdown",
   "metadata": {},
   "source": [
    "Ans - Student’s t-distribution is a probability distribution that arises when the population standard deviation is unknown and the sample size is small. It is used as a critical value in hypothesis testing for small sample sizes, when the sample size is less than 30, and the population standard deviation is not known.\n",
    "\n",
    "The t-distribution is similar in shape to the standard normal distribution, but it has heavier tails. As the sample size increases, the t-distribution approaches the standard normal distribution. The shape of the t-distribution depends on the degrees of freedom (df), which is equal to the sample size minus one. The larger the degrees of freedom, the closer the t-distribution is to the standard normal distribution.\n",
    "\n",
    "We use the t-distribution when the sample size is small, and we don't know the population standard deviation. In such situations, we estimate the standard deviation using the sample standard deviation, and we use the t-distribution to find the critical values for hypothesis testing. The t-distribution is also used to calculate confidence intervals for small sample sizes."
   ]
  },
  {
   "attachments": {},
   "cell_type": "markdown",
   "metadata": {},
   "source": [
    "#### Q12: What is t-statistic? State the formula for t-statistic."
   ]
  },
  {
   "attachments": {},
   "cell_type": "markdown",
   "metadata": {},
   "source": [
    "Ans - The t-statistic is a test statistic used in hypothesis testing to determine whether the mean of a sample differs significantly from the mean of a population, when the population standard deviation is unknown and the sample size is small. It measures the difference between the sample mean and the hypothesized population mean, in terms of the sample standard error.\n",
    "\n",
    "The formula for t-statistic is:\n",
    "\n",
    "t = (x̄ - μ) / (s / √n)\n",
    "\n",
    "Where:\n",
    "\n",
    "x̄ is the sample mean\n",
    "μ is the hypothesized population mean\n",
    "s is the sample standard deviation\n",
    "n is the sample size"
   ]
  },
  {
   "attachments": {},
   "cell_type": "markdown",
   "metadata": {},
   "source": [
    "#### Q13. A coffee shop owner wants to estimate the average daily revenue for their shop. They take a random sample of 50 days and find the sample mean revenue to be $500 with a standard deviation of $50. Estimate the population mean revenue with a 95% confidence interval."
   ]
  },
  {
   "attachments": {},
   "cell_type": "markdown",
   "metadata": {},
   "source": [
    "Ans - To estimate the population mean revenue with a 95% confidence interval, we can use the following formula:\n",
    "\n",
    "CI = x̄ ± t*(s/√n)\n",
    "\n",
    "Where:\n",
    "\n",
    "x̄ is the sample mean revenue ($500)\n",
    "s is the sample standard deviation ($50)\n",
    "n is the sample size (50)\n",
    "t is the t-score for a 95% confidence level with 49 degrees of freedom\n",
    "To find the t-score, we can use a t-distribution table or a calculator. For a 95% confidence level with 49 degrees of freedom, the t-score is approximately 2.009.\n",
    "\n",
    "Substituting the values into the formula, we get:\n",
    "\n",
    "CI = 500 ± 2.009*(50/√50)\n",
    "\n",
    "Simplifying, we get:\n",
    "\n",
    "CI = 500 ± 14.14\n",
    "\n",
    "Therefore, the 95% confidence interval for the population mean revenue is $485.86 to $514.14. We can be 95% confident that the true population mean revenue falls within this range.\n",
    "\n",
    "\n",
    "\n",
    "\n",
    "\n"
   ]
  },
  {
   "attachments": {},
   "cell_type": "markdown",
   "metadata": {},
   "source": [
    "#### Q14. A researcher hypothesizes that a new drug will decrease blood pressure by 10 mmHg. They conduct a clinical trial with 100 patients and find that the sample mean decrease in blood pressure is 8 mmHg with a standard deviation of 3 mmHg. Test the hypothesis with a significance level of 0.05."
   ]
  },
  {
   "attachments": {},
   "cell_type": "markdown",
   "metadata": {},
   "source": [
    "Ans - To test the hypothesis with a significance level of 0.05, we can perform a one-sample t-test. The null hypothesis (H0) is that the population mean decrease in blood pressure is equal to 10 mmHg, while the alternative hypothesis (Ha) is that the population mean decrease in blood pressure is less than 10 mmHg.\n",
    "\n",
    "The test statistic can be calculated as:\n",
    "\n",
    "t = (x̄ - μ) / (s / √n)\n",
    "\n",
    "where:\n",
    "\n",
    "x̄ is the sample mean decrease in blood pressure (8 mmHg)\n",
    "μ is the hypothesized population mean decrease in blood pressure (10 mmHg)\n",
    "s is the sample standard deviation (3 mmHg)\n",
    "n is the sample size (100)\n",
    "\n",
    "Substituting the values, we get:\n",
    "\n",
    "t = (8 - 10) / (3 / √100) = -6.67\n",
    "\n",
    "The degrees of freedom for the t-distribution is n-1 = 99. At a significance level of 0.05 with one tail, the critical"
   ]
  },
  {
   "attachments": {},
   "cell_type": "markdown",
   "metadata": {},
   "source": [
    "#### Q15. An electronics company produces a certain type of product with a mean weight of 5 pounds and a standard deviation of 0.5 pounds. A random sample of 25 products is taken, and the sample mean weight is found to be 4.8 pounds. Test the hypothesis that the true mean weight of the products is less than 5 pounds with a significance level of 0.01."
   ]
  },
  {
   "attachments": {},
   "cell_type": "markdown",
   "metadata": {},
   "source": [
    "Ans - To test the hypothesis that the true mean weight of the products is less than 5 pounds, we can perform a one-sample t-test. The null hypothesis (H0) is that the population mean weight of the products is equal to 5 pounds, while the alternative hypothesis (Ha) is that the population mean weight of the products is less than 5 pounds.\n",
    "\n",
    "The test statistic can be calculated as:\n",
    "\n",
    "t = (x̄ - μ) / (s / √n)\n",
    "\n",
    "where:\n",
    "\n",
    "x̄ is the sample mean weight (4.8 pounds)\n",
    "μ is the hypothesized population mean weight (5 pounds)\n",
    "s is the sample standard deviation (0.5 pounds)\n",
    "n is the sample size (25)\n",
    "Substituting the values, we get:\n",
    "\n",
    "t = (4.8 - 5) / (0.5 / √25) = -2\n",
    "\n",
    "The degrees of freedom for the t-distribution is n-1 = 24. At a significance level of 0.01 with one tail, the critical t-value is -2.492.\n",
    "\n",
    "Since the calculated t-value (-2) is less than the critical t-value (-2.492), we can reject the null hypothesis and conclude that there is sufficient evidence to suggest that the true mean weight of the products is less than 5 pounds at a significance level of 0.01."
   ]
  },
  {
   "attachments": {},
   "cell_type": "markdown",
   "metadata": {},
   "source": [
    "#### Q16. Two groups of students are given different study materials to prepare for a test. The first group (n1 =30) has a mean score of 80 with a standard deviation of 10, and the second group (n2 = 40) has a mean score of 75 with a standard deviation of 8. Test the hypothesis that the population means for the two groups are equal with a significance level of 0.01."
   ]
  },
  {
   "attachments": {},
   "cell_type": "markdown",
   "metadata": {},
   "source": [
    "Ans - To test the hypothesis that the population means for the two groups are equal, we will use a two-sample t-test for independent samples.\n",
    "\n",
    "The null hypothesis is that the population means are equal, and the alternative hypothesis is that they are not equal. The significance level is 0.01."
   ]
  },
  {
   "cell_type": "code",
   "execution_count": 16,
   "metadata": {},
   "outputs": [
    {
     "name": "stdout",
     "output_type": "stream",
     "text": [
      "2.2511258444537408\n"
     ]
    }
   ],
   "source": [
    "import math\n",
    "# where:\n",
    "x1 =  80 #mean of first group \n",
    "x2 = 75 #mean of second group\n",
    "s1 = 10 #standard deviation of first group\n",
    "s2 =  8 #standard deviation of second group\n",
    "n1 = 30 #sample size of first group\n",
    "n2 = 40 #sample size of second group\n",
    "\n",
    "t = (x1 - x2) / math.sqrt((s1**2 / n1) + (s2**2 / n2))\n",
    "print(t)\n",
    "\n"
   ]
  },
  {
   "cell_type": "code",
   "execution_count": 17,
   "metadata": {},
   "outputs": [
    {
     "name": "stdout",
     "output_type": "stream",
     "text": [
      "54.230639907533885\n"
     ]
    }
   ],
   "source": [
    "df = (s1**2 / n1 + s2**2 / n2)**2 / ((s1**2 / n1)**2 / (n1 - 1) + (s2**2 / n2)**2 / (n2 - 1))\n",
    "print(df)\n"
   ]
  },
  {
   "attachments": {},
   "cell_type": "markdown",
   "metadata": {},
   "source": [
    "#### Q17. A marketing company wants to estimate the average number of ads watched by viewers during a TV program. They take a random sample of 50 viewers and find that the sample mean is 4 with a standard deviation of 1.5. Estimate the population mean with a 99% confidence interval."
   ]
  },
  {
   "attachments": {},
   "cell_type": "markdown",
   "metadata": {},
   "source": [
    "Ans - To estimate the population mean with a 99% confidence interval, we can use the following formula:\n",
    "\n",
    "Confidence Interval = sample mean ± (critical value x standard error)\n",
    "\n",
    "where the critical value is obtained from the t-distribution with n-1 degrees of freedom and a significance level of 0.01 (since we want a 99% confidence interval), and the standard error is calculated as the standard deviation divided by the square root of the sample size."
   ]
  },
  {
   "cell_type": "code",
   "execution_count": 18,
   "metadata": {},
   "outputs": [],
   "source": [
    "from scipy.stats import t\n",
    "\n",
    "n = 50\n",
    "df = n - 1\n",
    "alpha = 0.01\n",
    "critical_value = t(df).ppf(1 - alpha/2)\n"
   ]
  },
  {
   "cell_type": "code",
   "execution_count": 19,
   "metadata": {},
   "outputs": [
    {
     "name": "stdout",
     "output_type": "stream",
     "text": [
      "The 99% confidence interval is: (3.4314963358572577, 4.568503664142742)\n"
     ]
    }
   ],
   "source": [
    "sample_mean = 4\n",
    "std_dev = 1.5\n",
    "std_error = std_dev / (n ** 0.5)\n",
    "\n",
    "lower_ci = sample_mean - critical_value * std_error\n",
    "upper_ci = sample_mean + critical_value * std_error\n",
    "\n",
    "print(\"The 99% confidence interval is:\", (lower_ci, upper_ci))\n"
   ]
  },
  {
   "cell_type": "code",
   "execution_count": null,
   "metadata": {},
   "outputs": [],
   "source": []
  }
 ],
 "metadata": {
  "kernelspec": {
   "display_name": "data_env",
   "language": "python",
   "name": "python3"
  },
  "language_info": {
   "codemirror_mode": {
    "name": "ipython",
    "version": 3
   },
   "file_extension": ".py",
   "mimetype": "text/x-python",
   "name": "python",
   "nbconvert_exporter": "python",
   "pygments_lexer": "ipython3",
   "version": "3.9.16"
  },
  "orig_nbformat": 4
 },
 "nbformat": 4,
 "nbformat_minor": 2
}
