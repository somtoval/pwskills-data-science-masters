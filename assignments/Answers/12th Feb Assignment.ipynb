{
 "cells": [
  {
   "cell_type": "markdown",
   "id": "c67d97c6",
   "metadata": {},
   "source": [
    "### Q1. What is an Exception in python? Write the difference between Exceptions and syntax errors?"
   ]
  },
  {
   "cell_type": "markdown",
   "id": "399bc8a9",
   "metadata": {},
   "source": [
    "An exception in Python is an event, which occurs during the execution of a program, that disrupts the normal flow of the program's instructions."
   ]
  },
  {
   "cell_type": "markdown",
   "id": "d36179e0",
   "metadata": {},
   "source": [
    "The major difference between syntax error and exceptions is that syntax errors occur when the code violates the syntactic rules of the Python language while exceptions occur when the code is syntactically correct but encounters unexpected circumstances during runtime.\n",
    "\n",
    "Another difference is that syntax errors are detected by the Python interpreter before the program's execution begins, while exceptions are detected during the program's execution."
   ]
  },
  {
   "cell_type": "markdown",
   "id": "6cb34fb0",
   "metadata": {},
   "source": [
    "### Q2. What happens when an exception is not handled? Explain with an example."
   ]
  },
  {
   "cell_type": "markdown",
   "id": "f228b6ee",
   "metadata": {},
   "source": [
    "When an exception is not handled the program terminates abruptly and the interpreter returns a traceback message that shows the exception type, the line number, and the file name where the exception occurred."
   ]
  },
  {
   "cell_type": "code",
   "execution_count": 1,
   "id": "79842287",
   "metadata": {},
   "outputs": [
    {
     "ename": "ZeroDivisionError",
     "evalue": "division by zero",
     "output_type": "error",
     "traceback": [
      "\u001b[1;31m---------------------------------------------------------------------------\u001b[0m",
      "\u001b[1;31mZeroDivisionError\u001b[0m                         Traceback (most recent call last)",
      "Cell \u001b[1;32mIn[1], line 4\u001b[0m\n\u001b[0;32m      1\u001b[0m \u001b[38;5;28;01mdef\u001b[39;00m \u001b[38;5;21mdivision\u001b[39m(a, b):\n\u001b[0;32m      2\u001b[0m     \u001b[38;5;28;01mreturn\u001b[39;00m a\u001b[38;5;241m/\u001b[39mb\n\u001b[1;32m----> 4\u001b[0m \u001b[43mdivision\u001b[49m\u001b[43m(\u001b[49m\u001b[38;5;241;43m2\u001b[39;49m\u001b[43m,\u001b[49m\u001b[38;5;241;43m0\u001b[39;49m\u001b[43m)\u001b[49m\n",
      "Cell \u001b[1;32mIn[1], line 2\u001b[0m, in \u001b[0;36mdivision\u001b[1;34m(a, b)\u001b[0m\n\u001b[0;32m      1\u001b[0m \u001b[38;5;28;01mdef\u001b[39;00m \u001b[38;5;21mdivision\u001b[39m(a, b):\n\u001b[1;32m----> 2\u001b[0m     \u001b[38;5;28;01mreturn\u001b[39;00m \u001b[43ma\u001b[49m\u001b[38;5;241;43m/\u001b[39;49m\u001b[43mb\u001b[49m\n",
      "\u001b[1;31mZeroDivisionError\u001b[0m: division by zero"
     ]
    }
   ],
   "source": [
    "def division(a, b):\n",
    "    return a/b\n",
    "\n",
    "division(2,0)"
   ]
  },
  {
   "cell_type": "markdown",
   "id": "1c2bb416",
   "metadata": {},
   "source": [
    "The name exception which had occured is shown with the line which it occured, the interpreter raised an exception because our program does not handle ZeroDivisionError"
   ]
  },
  {
   "cell_type": "markdown",
   "id": "5a1753dc",
   "metadata": {},
   "source": [
    "### Q3. Which Python statements are used to catch and handle exceptions? Explain with an example."
   ]
  },
  {
   "cell_type": "markdown",
   "id": "a7809344",
   "metadata": {},
   "source": [
    " In Python, you can catch and handle exceptions using the try-except statement. The try block contains the code that you want to execute, while the except block contains the code that will be executed if an exception is raised in the try block."
   ]
  },
  {
   "cell_type": "code",
   "execution_count": 4,
   "id": "4c1a2143",
   "metadata": {},
   "outputs": [
    {
     "data": {
      "text/plain": [
       "'A zero division error has occured'"
      ]
     },
     "execution_count": 4,
     "metadata": {},
     "output_type": "execute_result"
    }
   ],
   "source": [
    "def division(a, b):\n",
    "    try:\n",
    "        return a/b\n",
    "    except ZeroDivisionError:\n",
    "        return 'A zero division error has occured'\n",
    "\n",
    "division(2,0)"
   ]
  },
  {
   "cell_type": "markdown",
   "id": "65a5606a",
   "metadata": {},
   "source": [
    "With the try and except block we have been able to handle zero division errors in our program"
   ]
  },
  {
   "cell_type": "markdown",
   "id": "b5f0a36f",
   "metadata": {},
   "source": [
    "### Q4. Explain with an example:\n",
    "#### a. try and else\n",
    "#### b. finally\n",
    "#### c. raise"
   ]
  },
  {
   "cell_type": "markdown",
   "id": "1e264e30",
   "metadata": {},
   "source": [
    "a) try and else: In Python, you can use the else block with the try-except statement to specify the code that should be executed if no exception is raised in the try block. The else block should follow all except blocks and precede the finally block (if present)."
   ]
  },
  {
   "cell_type": "code",
   "execution_count": 6,
   "id": "a87e77d5",
   "metadata": {},
   "outputs": [
    {
     "data": {
      "text/plain": [
       "'A zero division error has occured'"
      ]
     },
     "execution_count": 6,
     "metadata": {},
     "output_type": "execute_result"
    }
   ],
   "source": [
    "def division(a, b):\n",
    "    try:\n",
    "        return a/b\n",
    "    except ZeroDivisionError:\n",
    "        return 'A zero division error has occured'\n",
    "\n",
    "division(2,0)"
   ]
  },
  {
   "cell_type": "markdown",
   "id": "6b3a949b",
   "metadata": {},
   "source": [
    "b)finally: In Python, you can use the finally block with the try-except statement to specify the code that should be executed regardless of whether an exception is raised or not. The finally block should follow all except and else blocks."
   ]
  },
  {
   "cell_type": "code",
   "execution_count": 12,
   "id": "8e758676",
   "metadata": {},
   "outputs": [
    {
     "name": "stdout",
     "output_type": "stream",
     "text": [
      "Our Code ran\n"
     ]
    },
    {
     "data": {
      "text/plain": [
       "'A zero division error has occured'"
      ]
     },
     "execution_count": 12,
     "metadata": {},
     "output_type": "execute_result"
    }
   ],
   "source": [
    "def division(a, b):\n",
    "    try:\n",
    "        return a/b\n",
    "    except ZeroDivisionError:\n",
    "        return 'A zero division error has occured'\n",
    "    finally:\n",
    "        print('Our Code ran')\n",
    "\n",
    "division(2,0)"
   ]
  },
  {
   "cell_type": "markdown",
   "id": "fae644e7",
   "metadata": {},
   "source": [
    "c)raise: In Python, you can use the raise statement to raise an exception manually. The raise statement should be followed by the type of exception that you want to raise."
   ]
  },
  {
   "cell_type": "code",
   "execution_count": 16,
   "id": "421ad789",
   "metadata": {},
   "outputs": [
    {
     "ename": "ZeroDivisionError",
     "evalue": "A zero division error has occured",
     "output_type": "error",
     "traceback": [
      "\u001b[1;31m---------------------------------------------------------------------------\u001b[0m",
      "\u001b[1;31mZeroDivisionError\u001b[0m                         Traceback (most recent call last)",
      "Cell \u001b[1;32mIn[16], line 7\u001b[0m\n\u001b[0;32m      4\u001b[0m     \u001b[38;5;28;01melse\u001b[39;00m:\n\u001b[0;32m      5\u001b[0m         \u001b[38;5;28;01mreturn\u001b[39;00m a\u001b[38;5;241m/\u001b[39mb\n\u001b[1;32m----> 7\u001b[0m \u001b[43mdivision\u001b[49m\u001b[43m(\u001b[49m\u001b[38;5;241;43m2\u001b[39;49m\u001b[43m,\u001b[49m\u001b[38;5;241;43m0\u001b[39;49m\u001b[43m)\u001b[49m\n",
      "Cell \u001b[1;32mIn[16], line 3\u001b[0m, in \u001b[0;36mdivision\u001b[1;34m(a, b)\u001b[0m\n\u001b[0;32m      1\u001b[0m \u001b[38;5;28;01mdef\u001b[39;00m \u001b[38;5;21mdivision\u001b[39m(a, b):\n\u001b[0;32m      2\u001b[0m     \u001b[38;5;28;01mif\u001b[39;00m b \u001b[38;5;241m==\u001b[39m \u001b[38;5;241m0\u001b[39m:\n\u001b[1;32m----> 3\u001b[0m         \u001b[38;5;28;01mraise\u001b[39;00m \u001b[38;5;167;01mZeroDivisionError\u001b[39;00m(\u001b[38;5;124m'\u001b[39m\u001b[38;5;124mA zero division error has occured\u001b[39m\u001b[38;5;124m'\u001b[39m)\n\u001b[0;32m      4\u001b[0m     \u001b[38;5;28;01melse\u001b[39;00m:\n\u001b[0;32m      5\u001b[0m         \u001b[38;5;28;01mreturn\u001b[39;00m a\u001b[38;5;241m/\u001b[39mb\n",
      "\u001b[1;31mZeroDivisionError\u001b[0m: A zero division error has occured"
     ]
    }
   ],
   "source": [
    "def division(a, b):\n",
    "    if b == 0:\n",
    "        raise ZeroDivisionError('A zero division error has occured')\n",
    "    else:\n",
    "        return a/b\n",
    "\n",
    "division(2,0)"
   ]
  },
  {
   "cell_type": "markdown",
   "id": "e2a72f56",
   "metadata": {},
   "source": [
    "### Q5. What are Custom Exceptions in python? Why do we need Custom Exceptions? Explain with an example."
   ]
  },
  {
   "cell_type": "markdown",
   "id": "78a9c2f5",
   "metadata": {},
   "source": [
    "Custom exceptions in Python are user-defined exceptions that can be raised when a specific condition is met. These exceptions are created by subclassing the built-in Exception class or one of its subclasses.\n",
    "\n",
    "We need custom exceptions in Python to handle errors that are specific to our program. Custom exceptions allow us to provide meaningful error messages to the user, making it easier for them to understand and fix the error. They also allow us to handle errors in a consistent way throughout our program."
   ]
  },
  {
   "cell_type": "code",
   "execution_count": 21,
   "id": "0eaf692f",
   "metadata": {},
   "outputs": [
    {
     "name": "stdout",
     "output_type": "stream",
     "text": [
      "Error: Negative number not allowed\n"
     ]
    }
   ],
   "source": [
    "class NegativeNumberError(Exception):\n",
    "    pass\n",
    "\n",
    "def calculate_square_root(num):\n",
    "    if num < 0:\n",
    "        raise NegativeNumberError(\"Error: Negative number not allowed\")\n",
    "    else:\n",
    "        return num ** 0.5\n",
    "try:\n",
    "    result = calculate_square_root(-9)\n",
    "except NegativeNumberError as e:\n",
    "    print(e)\n",
    "else:\n",
    "    print(result)"
   ]
  },
  {
   "cell_type": "markdown",
   "id": "9ce4be98",
   "metadata": {},
   "source": [
    "### Q6. Create a custom exception class. Use this class to handle an exception."
   ]
  },
  {
   "cell_type": "code",
   "execution_count": 22,
   "id": "0858a189",
   "metadata": {},
   "outputs": [
    {
     "name": "stdout",
     "output_type": "stream",
     "text": [
      "Error: The list is empty\n"
     ]
    }
   ],
   "source": [
    "class EmptyListError(Exception):\n",
    "    pass\n",
    "\n",
    "def get_first_element(lst):\n",
    "    if len(lst) == 0:\n",
    "        raise EmptyListError(\"Error: The list is empty\")\n",
    "    else:\n",
    "        return lst[0]\n",
    "\n",
    "try:\n",
    "    result = get_first_element([])\n",
    "except EmptyListError as e:\n",
    "    print(e)\n",
    "else:\n",
    "    print(result)"
   ]
  },
  {
   "cell_type": "markdown",
   "id": "b74b1486",
   "metadata": {},
   "source": [
    "In this example, we define a custom exception class called EmptyListError by subclassing the built-in Exception class. We also define a function called get_first_element that takes a list as input and returns its first element. If the list is empty, we raise an EmptyListError with an error message.\n",
    "\n",
    "In the try block, we call the get_first_element function with an empty list. Since the list is empty, the EmptyListError exception is raised and caught in the except block. We print the error message associated with the exception. If the list had contained elements, the first element would have been returned and printed in the else block."
   ]
  },
  {
   "cell_type": "code",
   "execution_count": null,
   "id": "1daace83",
   "metadata": {},
   "outputs": [],
   "source": []
  }
 ],
 "metadata": {
  "kernelspec": {
   "display_name": "Python 3 (ipykernel)",
   "language": "python",
   "name": "python3"
  },
  "language_info": {
   "codemirror_mode": {
    "name": "ipython",
    "version": 3
   },
   "file_extension": ".py",
   "mimetype": "text/x-python",
   "name": "python",
   "nbconvert_exporter": "python",
   "pygments_lexer": "ipython3",
   "version": "3.10.8"
  }
 },
 "nbformat": 4,
 "nbformat_minor": 5
}
