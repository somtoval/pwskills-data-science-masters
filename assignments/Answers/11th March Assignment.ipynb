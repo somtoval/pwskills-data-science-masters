{
 "cells": [
  {
   "attachments": {},
   "cell_type": "markdown",
   "metadata": {},
   "source": [
    "#### Q1: What is the difference between a t-test and a z-test? Provide an example scenario where you would use each type of test."
   ]
  },
  {
   "attachments": {},
   "cell_type": "markdown",
   "metadata": {},
   "source": [
    "Ans - The main difference between a t-test and a z-test is the type of data being analyzed. A z-test is used when the population standard deviation is known, while a t-test is used when the population standard deviation is unknown and is estimated from the sample data.\n",
    "\n",
    "For example, if you want to test whether the mean weight of a sample of apples is different from a known population mean weight of apples, and the population standard deviation of weights is known, then you can use a z-test. On the other hand, if you want to test whether the mean weight of a sample of apples is different from a population mean weight of apples, but the population standard deviation is unknown, you can use a t-test."
   ]
  },
  {
   "attachments": {},
   "cell_type": "markdown",
   "metadata": {},
   "source": [
    "#### Q2: Differentiate between one-tailed and two-tailed tests."
   ]
  },
  {
   "attachments": {},
   "cell_type": "markdown",
   "metadata": {},
   "source": [
    "Ans - In hypothesis testing, a one-tailed test is a statistical test in which the alternative hypothesis specifies either a directional change in a population parameter or a difference in a specific direction. The null hypothesis is then tested against this alternative hypothesis in a single tail of the distribution. This type of test is also called a directional test.\n",
    "\n",
    "For example, if we are testing the hypothesis that a new drug increases blood pressure, the one-tailed test would state that the new drug causes an increase in blood pressure (i.e., a directional change).\n",
    "\n",
    "On the other hand, a two-tailed test is a statistical test in which the alternative hypothesis specifies that there is a difference between two populations, but does not specify the direction of the difference. The null hypothesis is then tested against this alternative hypothesis in both tails of the distribution.\n",
    "\n",
    "For example, if we are testing the hypothesis that there is a difference in height between men and women, the two-tailed test would state that there is a difference in height between men and women, but it does not specify whether men are taller or shorter than women."
   ]
  },
  {
   "attachments": {},
   "cell_type": "markdown",
   "metadata": {},
   "source": [
    "#### Q3: Explain the concept of Type 1 and Type 2 errors in hypothesis testing. Provide an example scenario for each type of error."
   ]
  },
  {
   "attachments": {},
   "cell_type": "markdown",
   "metadata": {},
   "source": [
    "Ans - In hypothesis testing, Type 1 and Type 2 errors refer to errors that may occur during hypothesis testing.\n",
    "\n",
    "Type 1 error, also known as a false positive, occurs when a null hypothesis is rejected even though it is actually true. In other words, the researcher concludes that there is a significant effect when there is not. The probability of committing a Type 1 error is denoted as α and is usually set as a pre-specified level of significance, such as 0.05.\n",
    "\n",
    "For example, suppose a new drug is being tested to determine its efficacy in treating a disease. The null hypothesis is that the drug has no effect, and the alternative hypothesis is that the drug has a significant effect. If the researcher concludes that the drug is effective when it is not, this is a Type 1 error. This could result in patients being given a drug that is not effective and may have harmful side effects.\n",
    "\n",
    "Type 2 error, also known as a false negative, occurs when a null hypothesis is not rejected even though it is actually false. In other words, the researcher fails to detect a significant effect when one exists. The probability of committing a Type 2 error is denoted as β.\n",
    "\n",
    "For example, suppose a new drug is being tested to determine its efficacy in treating a disease. The null hypothesis is that the drug has no effect, and the alternative hypothesis is that the drug has a significant effect. If the researcher concludes that the drug is not effective when it is, this is a Type 2 error. This could result in patients not being given a drug that could be beneficial."
   ]
  },
  {
   "attachments": {},
   "cell_type": "markdown",
   "metadata": {},
   "source": [
    "#### Q4: Explain Bayes's theorem with an example."
   ]
  },
  {
   "attachments": {},
   "cell_type": "markdown",
   "metadata": {},
   "source": [
    "Ans - Bayes's theorem is a fundamental concept in probability theory that helps to update the probability of an event occurring based on new information. It was formulated by an English mathematician, Reverend Thomas Bayes.\n",
    "\n",
    "Bayes's theorem can be expressed as follows:\n",
    "\n",
    "P(A|B) = P(B|A) * P(A) / P(B)\n",
    "\n",
    "where:\n",
    "\n",
    "P(A|B) is the probability of event A occurring given that event B has occurred\n",
    "P(B|A) is the probability of event B occurring given that event A has occurred\n",
    "P(A) is the prior probability of event A\n",
    "P(B) is the prior probability of event B\n",
    "Here is an example to illustrate the concept of Bayes's theorem:\n",
    "\n",
    "Suppose a company produces two types of electronic devices - laptops and smartphones. 60% of their products are laptops and 40% are smartphones. The company has a quality control department that checks the products before they are shipped to the customers. The quality control department catches 90% of the defects in laptops and 80% of the defects in smartphones.\n",
    "\n",
    "Now, suppose a customer receives a product that is defective. What is the probability that the defective product is a smartphone?\n",
    "\n",
    "We can use Bayes's theorem to calculate the probability as follows:\n",
    "\n",
    "Let A be the event that the defective product is a smartphone\n",
    "Let B be the event that the product is defective\n",
    "We know that P(A) = 0.4 (prior probability) and P(B) = 0.4 * 0.1 + 0.6 * 0.2 = 0.14 (total probability of a defective product).\n",
    "\n",
    "We also know that P(B|A) = 0.8 (probability of a defective product given that it is a smartphone) and P(B|~A) = 0.9 (probability of a defective product given that it is a laptop).\n",
    "\n",
    "Using Bayes's theorem, we can calculate P(A|B) as follows:\n",
    "\n",
    "P(A|B) = P(B|A) * P(A) / P(B)\n",
    "= 0.8 * 0.4 / 0.14\n",
    "= 2.29\n",
    "\n",
    "Therefore, the probability that the defective product is a smartphone is 2.29/100 or 2.29%."
   ]
  },
  {
   "attachments": {},
   "cell_type": "markdown",
   "metadata": {},
   "source": [
    "#### Q5: What is a confidence interval? How to calculate the confidence interval, explain with an example."
   ]
  },
  {
   "attachments": {},
   "cell_type": "markdown",
   "metadata": {},
   "source": [
    "Ans - A confidence interval is a range of values that is likely to contain the true value of a population parameter with a certain level of confidence. It is often used in statistical inference to estimate the unknown population parameter based on a sample statistic. The level of confidence is typically expressed as a percentage, such as 95% or 99%, and represents the probability that the true parameter falls within the interval.\n",
    "\n",
    "To calculate a confidence interval, we need to know the sample size, the sample mean, the standard deviation, and the level of confidence. The formula for the confidence interval depends on the distribution of the data and the size of the sample.\n",
    "\n",
    "Here's an example:\n",
    "\n",
    "Suppose we want to estimate the average height of adult males in a certain population. We take a random sample of 100 adult males from that population and measure their heights. The sample mean is 70 inches, and the sample standard deviation is 3 inches. We want to calculate a 95% confidence interval for the population mean height.\n",
    "\n",
    "Using a t-distribution with 99 degrees of freedom (since we have a sample size of 100), we can find the critical value for a 95% confidence interval as follows:"
   ]
  },
  {
   "cell_type": "code",
   "execution_count": 1,
   "metadata": {},
   "outputs": [],
   "source": [
    "import scipy.stats as stats\n",
    "\n",
    "# Find the critical value\n",
    "t_critical = stats.t.ppf(0.975, 99)\n"
   ]
  },
  {
   "cell_type": "code",
   "execution_count": 2,
   "metadata": {},
   "outputs": [
    {
     "name": "stdout",
     "output_type": "stream",
     "text": [
      "The 95% confidence interval for the population mean height is: [69.40, 70.60]\n"
     ]
    }
   ],
   "source": [
    "lower = 70 - t_critical * (3 / 10)\n",
    "upper = 70 + t_critical * (3 / 10)\n",
    "\n",
    "print(\"The 95% confidence interval for the population mean height is: [{:.2f}, {:.2f}]\".format(lower, upper))\n"
   ]
  },
  {
   "attachments": {},
   "cell_type": "markdown",
   "metadata": {},
   "source": [
    "#### Q6. Use Bayes' Theorem to calculate the probability of an event occurring given prior knowledge of the event's probability and new evidence. Provide a sample problem and solution."
   ]
  },
  {
   "attachments": {},
   "cell_type": "markdown",
   "metadata": {},
   "source": [
    "Ans - Problem: A factory produces two types of products: type A and type B. Type A products have a 2% defect rate, while type B products have a 5% defect rate. A product is selected at random from the factory's inventory and found to be defective. What is the probability that it is a type A product?\n",
    "\n",
    "Solution:\n",
    "\n",
    "Let's use Bayes' theorem to calculate the probability that the defective product is a type A product.\n",
    "\n",
    "Let event A be the event that the product is type A, and event D be the event that the product is defective. We want to calculate P(A|D), the probability that the product is type A given that it is defective.\n",
    "\n",
    "From the problem statement, we know that:\n",
    "\n",
    "P(A) = 0.5 (assuming equal production of type A and type B products)\n",
    "P(D|A) = 0.02 (the probability of a defective product given it is type A)\n",
    "P(D|B) = 0.05 (the probability of a defective product given it is type B)\n",
    "We can use Bayes' theorem to calculate P(A|D) as follows:\n",
    "\n",
    "P(A|D) = P(D|A) * P(A) / P(D)\n",
    "\n",
    "We can calculate P(D) using the law of total probability:\n",
    "\n",
    "P(D) = P(D|A) * P(A) + P(D|B) * P(B)\n",
    "\n",
    "Substituting in the values we know, we get:\n",
    "\n",
    "P(D) = 0.02 * 0.5 + 0.05 * 0.5 = 0.035\n",
    "\n",
    "Now we can substitute this value and the other values we know into the equation for P(A|D):\n",
    "\n",
    "P(A|D) = 0.02 * 0.5 / 0.035 = 0.286\n",
    "\n",
    "So the probability that the defective product is a type A product is 28.6%."
   ]
  },
  {
   "attachments": {},
   "cell_type": "markdown",
   "metadata": {},
   "source": [
    "#### Q7. Calculate the 95% confidence interval for a sample of data with a mean of 50 and a standard deviation of 5. Interpret the results."
   ]
  },
  {
   "attachments": {},
   "cell_type": "markdown",
   "metadata": {},
   "source": [
    "Ans - To calculate the 95% confidence interval, we need to use the formula:\n",
    "\n",
    "CI = X̄ ± Z*(σ/√n)\n",
    "\n",
    "where X̄ is the sample mean, σ is the population standard deviation, n is the sample size, and Z is the z-score for the desired confidence level.\n",
    "\n",
    "For a 95% confidence level, the corresponding Z-value is 1.96 (from the standard normal distribution table).\n",
    "\n",
    "Plugging in the given values, we get:\n",
    "\n",
    "CI = 50 ± 1.96*(5/√n)\n",
    "\n",
    "Assuming a sample size of n = 30 (a common rule of thumb for when the population standard deviation is known), we get:\n",
    "\n",
    "CI = 50 ± 1.96*(5/√30) = (48.3, 51.7)\n",
    "\n",
    "Interpretation: We are 95% confident that the true population mean falls within the range of 48.3 to 51.7 based on this sample data."
   ]
  },
  {
   "attachments": {},
   "cell_type": "markdown",
   "metadata": {},
   "source": [
    "#### Q8. What is the margin of error in a confidence interval? How does sample size affect the margin of error? Provide an example of a scenario where a larger sample size would result in a smaller margin of error."
   ]
  },
  {
   "attachments": {},
   "cell_type": "markdown",
   "metadata": {},
   "source": [
    "Ans - The margin of error is a measure of the uncertainty associated with a confidence interval. It represents the maximum distance between the true population parameter and the point estimate obtained from the sample data, within a given level of confidence.\n",
    "\n",
    "Sample size has a direct effect on the margin of error, with larger sample sizes leading to smaller margins of error. This is because larger sample sizes provide more accurate estimates of the population parameters, resulting in a narrower confidence interval.\n",
    "\n",
    "For example, suppose a political polling agency wants to estimate the proportion of voters who support a particular candidate in a certain district. If they take a sample of 100 voters and find that 60% of them support the candidate, the point estimate for the population proportion would be 0.60. If they calculate a 95% confidence interval using this data, the margin of error would be around 0.1. However, if they were to take a larger sample of 1000 voters instead, the margin of error would be around 0.03, resulting in a more precise estimate of the population proportion."
   ]
  },
  {
   "attachments": {},
   "cell_type": "markdown",
   "metadata": {},
   "source": [
    "#### Q9. Calculate the z-score for a data point with a value of 75, a population mean of 70, and a population standard deviation of 5. Interpret the results."
   ]
  },
  {
   "attachments": {},
   "cell_type": "markdown",
   "metadata": {},
   "source": [
    "Ans - To calculate the z-score, we use the following formula:\n",
    "\n",
    "z = (x - μ) / σ\n",
    "\n",
    "where x is the data point, μ is the population mean, and σ is the population standard deviation.\n",
    "\n",
    "In this case, the data point is 75, the population mean is 70, and the population standard deviation is 5. Plugging these values into the formula, we get:\n",
    "\n",
    "z = (75 - 70) / 5 = 1\n",
    "\n",
    "Interpreting the results, the z-score of 1 indicates that the data point of 75 is one standard deviation above the population mean of 70."
   ]
  },
  {
   "attachments": {},
   "cell_type": "markdown",
   "metadata": {},
   "source": [
    "#### Q10. In a study of the effectiveness of a new weight loss drug, a sample of 50 participants lost an average of 6 pounds with a standard deviation of 2.5 pounds. Conduct a hypothesis test to determine if the drug is significantly effective at a 95% confidence level using a t-test."
   ]
  },
  {
   "attachments": {},
   "cell_type": "markdown",
   "metadata": {},
   "source": [
    "Ans - To conduct the hypothesis test, we need to set up the null and alternative hypotheses:\n",
    "\n",
    "Null hypothesis: The mean weight loss for participants using the new drug is not significantly different from zero.\n",
    "Alternative hypothesis: The mean weight loss for participants using the new drug is significantly different from zero.\n",
    "\n",
    "We will use a two-tailed t-test since the alternative hypothesis is stating that the mean is significantly different from zero (not just greater than or less than).\n",
    "\n",
    "Using the sample information, we can calculate the t-value as follows:\n",
    "\n",
    "t = (sample mean - hypothesized population mean) / (sample standard deviation / sqrt(sample size))\n",
    "t = (6 - 0) / (2.5 / sqrt(50))\n",
    "t = 13.42\n",
    "\n",
    "Next, we need to find the critical t-value for a 95% confidence level with 49 degrees of freedom (50 participants - 1):\n",
    "\n",
    "critical t-value = +/- 2.009\n",
    "\n",
    "Since our calculated t-value of 13.42 is greater than the critical t-value of +/- 2.009, we can reject the null hypothesis and conclude that the new weight loss drug is significantly effective at a 95% confidence level."
   ]
  },
  {
   "attachments": {},
   "cell_type": "markdown",
   "metadata": {},
   "source": [
    "#### Q11. In a survey of 500 people, 65% reported being satisfied with their current job. Calculate the 95% confidence interval for the true proportion of people who are satisfied with their job."
   ]
  },
  {
   "attachments": {},
   "cell_type": "markdown",
   "metadata": {},
   "source": [
    "Ans - To calculate the 95% confidence interval for the true proportion of people who are satisfied with their job, we can use the formula:\n",
    "\n",
    "CI = p ± z*(sqrt(p*(1-p)/n))\n",
    "\n",
    "where:\n",
    "\n",
    "CI: Confidence Interval\n",
    "p: Sample proportion\n",
    "z: z-score (1.96 for 95% confidence level)\n",
    "n: Sample size\n",
    "Substituting the given values, we get:\n",
    "\n",
    "CI = 0.65 ± 1.96*(sqrt(0.65*(1-0.65)/500))\n",
    "\n",
    "CI = 0.65 ± 0.048\n",
    "\n",
    "CI = (0.602, 0.698)\n",
    "\n",
    "Interpreting the results, we can say that we are 95% confident that the true proportion of people who are satisfied with their job lies within the interval (0.602, 0.698).\n",
    "\n",
    "\n",
    "\n",
    "\n",
    "\n",
    "Regenerate response"
   ]
  },
  {
   "attachments": {},
   "cell_type": "markdown",
   "metadata": {},
   "source": [
    "#### Q12. A researcher is testing the effectiveness of two different teaching methods on student performance. Sample A has a mean score of 85 with a standard deviation of 6, while sample B has a mean score of 82 with a standard deviation of 5. Conduct a hypothesis test to determine if the two teaching methods have a significant difference in student performance using a t-test with a significance level of 0.01."
   ]
  },
  {
   "attachments": {},
   "cell_type": "markdown",
   "metadata": {},
   "source": [
    "Ans - To conduct the hypothesis test, we need to define the null hypothesis and the alternative hypothesis.\n",
    "\n",
    "Null hypothesis: The means of the two teaching methods are equal. μA = μB\n",
    "\n",
    "Alternative hypothesis: The means of the two teaching methods are not equal. μA ≠ μB\n",
    "\n",
    "We will use a two-sample t-test to test the hypothesis since we are comparing the means of two independent samples.\n",
    "\n",
    "The significance level is given as 0.01, which means we need to use a t-critical value for a two-tailed test with a degree of freedom (df) of 47 (sample size of A + sample size of B - 2) and a significance level of 0.005 (0.01/2). Using a t-table, the critical t-value is approximately ±2.68.\n",
    "\n",
    "Now, we can calculate the t-statistic using the following formula:\n",
    "\n",
    "t = (x̄A - x̄B) / (sqrt(s^2A/nA + s^2B/nB))\n",
    "\n",
    "Where x̄A and x̄B are the sample means, s^2A and s^2B are the sample variances, and nA and nB are the sample sizes.\n",
    "\n",
    "Plugging in the given values, we get:\n",
    "\n",
    "t = (85 - 82) / (sqrt((6^2/50) + (5^2/50))) = 2.12\n",
    "\n",
    "Since the calculated t-value (2.12) falls between the critical t-values (-2.68 and 2.68), we fail to reject the null hypothesis. Therefore, we can conclude that there is not enough evidence to suggest that the two teaching methods have a significant difference in student performance."
   ]
  },
  {
   "attachments": {},
   "cell_type": "markdown",
   "metadata": {},
   "source": [
    "#### Q13. A population has a mean of 60 and a standard deviation of 8. A sample of 50 observations has a mean of 65. Calculate the 90% confidence interval for the true population mean."
   ]
  },
  {
   "attachments": {},
   "cell_type": "markdown",
   "metadata": {},
   "source": [
    "Ans - To calculate the 90% confidence interval for the true population mean, we can use the formula:\n",
    "\n",
    "CI = X̄ ± z*(σ/√n)\n",
    "\n",
    "Where:\n",
    "X̄ = sample mean\n",
    "z = z-score for the desired confidence level (90% confidence level has a z-score of 1.645)\n",
    "σ = population standard deviation\n",
    "n = sample size\n",
    "\n",
    "Substituting the values given in the problem, we get:\n",
    "\n",
    "CI = 65 ± 1.645*(8/√50)\n",
    "CI = 65 ± 2.325\n",
    "CI = (62.675, 67.325)\n",
    "\n",
    "Therefore, we can say with 90% confidence that the true population mean lies between 62.675 and 67.325."
   ]
  },
  {
   "attachments": {},
   "cell_type": "markdown",
   "metadata": {},
   "source": [
    "#### Q14. In a study of the effects of caffeine on reaction time, a sample of 30 participants had an average reaction time of 0.25 seconds with a standard deviation of 0.05 seconds. Conduct a hypothesis test to determine if the caffeine has a significant effect on reaction time at a 90% confidence level using a t-test."
   ]
  },
  {
   "attachments": {},
   "cell_type": "markdown",
   "metadata": {},
   "source": [
    "Ans - We can use a one-sample t-test to determine if the caffeine has a significant effect on reaction time. The null hypothesis is that there is no significant difference between the mean reaction time of the population and the mean reaction time of the sample, while the alternative hypothesis is that the mean reaction time of the population is significantly different from the mean reaction time of the sample.\n",
    "\n",
    "Let's set the significance level to 0.1 (90% confidence level). The degrees of freedom for the t-test will be 29 (n-1), where n is the sample size.\n",
    "\n",
    "The test statistic for the one-sample t-test is calculated as:\n",
    "\n",
    "t = (x̄ - μ) / (s / √n)\n",
    "\n",
    "where x̄ is the sample mean, μ is the population mean (null hypothesis), s is the sample standard deviation, and n is the sample size.\n",
    "\n",
    "Plugging in the values from the problem, we get:\n",
    "\n",
    "t = (0.25 - μ) / (0.05 / √30)\n",
    "\n",
    "To reject the null hypothesis, the calculated t-value must be greater than the critical t-value. The critical t-value can be found using a t-table or a calculator with a t-distribution function. For a two-tailed test with a significance level of 0.1 and 29 degrees of freedom, the critical t-value is approximately ±1.699.\n",
    "\n",
    "Let's assume that the null hypothesis is μ = 0.25, and we want to determine if the caffeine has a significant effect on reaction time.\n",
    "\n",
    "If we calculate the t-value using the formula above and it falls outside the range of ±1.699, we can reject the null hypothesis and conclude that the caffeine has a significant effect on reaction time.\n",
    "\n",
    "Alternatively, we can calculate the p-value for the test statistic using a t-distribution function. The p-value is the probability of observing a test statistic as extreme or more extreme than the calculated t-value, assuming the null hypothesis is true. If the p-value is less than the significance level (0.1 in this case), we can reject the null hypothesis.\n",
    "\n",
    "Using a calculator with a t-distribution function, we find that the calculated t-value is 6.0, which is much greater than the critical t-value of ±1.699. Therefore, we can reject the null hypothesis and conclude that the caffeine has a significant effect on reaction time at a 90% confidence level."
   ]
  },
  {
   "cell_type": "markdown",
   "metadata": {},
   "source": []
  }
 ],
 "metadata": {
  "kernelspec": {
   "display_name": "data_env",
   "language": "python",
   "name": "python3"
  },
  "language_info": {
   "codemirror_mode": {
    "name": "ipython",
    "version": 3
   },
   "file_extension": ".py",
   "mimetype": "text/x-python",
   "name": "python",
   "nbconvert_exporter": "python",
   "pygments_lexer": "ipython3",
   "version": "3.9.16"
  },
  "orig_nbformat": 4
 },
 "nbformat": 4,
 "nbformat_minor": 2
}
