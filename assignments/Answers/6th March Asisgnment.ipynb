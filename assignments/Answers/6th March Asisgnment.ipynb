{
 "cells": [
  {
   "cell_type": "markdown",
   "id": "ebca9c93",
   "metadata": {},
   "source": [
    "#### Q1. What is Statistics?"
   ]
  },
  {
   "cell_type": "markdown",
   "id": "de34b628",
   "metadata": {},
   "source": [
    "Ans - Stastics is the science collecting, organizing and analyzing the data or simply you can say the numbers that you have collected in order to provide some information is called statistics.\n",
    "\n",
    "There is Two types of statistics \n",
    "1. Descriptive Statistics\n",
    "2. Inferential Statistics"
   ]
  },
  {
   "cell_type": "markdown",
   "id": "4d4983b0",
   "metadata": {},
   "source": [
    "#### Q2. Define the different types of statistics and give an example of when each type might be used."
   ]
  },
  {
   "cell_type": "markdown",
   "id": "2b19979c",
   "metadata": {},
   "source": [
    "Ans - There is two types of statistics\n",
    "\n",
    "#### 1. Descriptive Statistice\n",
    "Descriptive stats consists of the organizing and analyzing the data. In descriptive we mainly talks about the measurement of central tedency (which is nothing just Mean, Mode and Median), measurement of dispersion (Variance and Standard Deviation), Histogram, Bar Chart and Pie Chart.\n",
    "\n",
    "It helps us to understand the collective properties of the elements of the sample data and form the basic testing hypothesis and making prediction using inferential statistics\n",
    "\n",
    "#### 2. Inferential Statistics\n",
    "Inferential stats is the tools that statisticians used to draw conclusions about the characteristics of the population, drawn from the characteristics of the sample and decide how certain can be the reliability of the conclusions. \n",
    "\n",
    "Inferential stats can be used to make generalization about the large groups such as the estimating average demand of the prodcut by serving sample of consumers buying habits or to predict the future events such as projecting the future return of the security and asset\n",
    "\n",
    "#### Example -\n",
    " - In Investing, Statistics includes average trading volume, 52 week low and high, correlation between assets, classes and securities.\n",
    " - In marketing, statistics include conversion rates, click-through rates, search quantities, and social media metrics.\n"
   ]
  },
  {
   "cell_type": "markdown",
   "id": "64bdca61",
   "metadata": {},
   "source": [
    "#### Q3. What are the different types of data and how do they differ from each other? Provide an example of each type of data."
   ]
  },
  {
   "cell_type": "markdown",
   "id": "6100496e",
   "metadata": {},
   "source": [
    "Ans - There is two type of data and that further divided into two types\n",
    "\n",
    "1. Quantitative - \n",
    "    This data can be measured and is not observable. It can be numerically recorded and represented. Calculations and interpretations can be performed on this data type.\n",
    "    E.g. Temparature, Prices, Income, Weights\n",
    "    \n",
    "    Types of Quantitative - \n",
    "    \n",
    "    a) Discrete Data - \n",
    "    The data values that can  attain only certain specific values. It cannot attain a range of values. It can be represented by bar charts\n",
    "    E.g. - No. of students, chips in bag, no. of stars in the sky\n",
    "    \n",
    "    b) Contineous Data -\n",
    "    The data can contain values between a certain range that is within the highest and lowest values. Continuous data can be tabulated in what is called a frequency distribution.\n",
    "    E.g. - Height and Weight of the Student, Daily temperature of the place, wind speed measurement\n",
    "    \n",
    "2. Qualitative - \n",
    "    This is used to represent some characteristics or attribute of the data. The facts and figures depicted by the qualitative data cannot be computed\n",
    "    \n",
    "    E.g. - Music and art, Intelligence, beauty of person\n",
    "    \n",
    "    Types of Qualitative \n",
    "    \n",
    "    a) Nominal Data - \n",
    "    It is a subcategory belonging to the sub category of the types of qualitative information. also know as the nominal scale. \n",
    "    E.g. - Gender, Eye color, Marital Status\n",
    "    \n",
    "    b) Ordinal Data - \n",
    "    Ordianl data is the specific type of data that follow a natural order. \n",
    "    E.g. - Feedback Rank, Education Level\n",
    "    \n",
    "    \n",
    "                        \n"
   ]
  },
  {
   "cell_type": "markdown",
   "id": "07d2cb2a",
   "metadata": {},
   "source": [
    "#### Q4. Categorise the following datasets with respect to quantitative and qualitative data types:\n"
   ]
  },
  {
   "cell_type": "markdown",
   "id": "462ac88a",
   "metadata": {},
   "source": [
    "Ans - \n",
    "(i) Grading in exam: A+, A, B+, B, C+, C, D, E  = Qualitative (Ordianl)\n",
    "\n",
    "(ii) Colour of mangoes: yellow, green, orange, red = Qualitative (Nominal)\n",
    "\n",
    "(iii) Height data of a class: [178.9, 179, 179.5, 176, 177.2, 178.3, 175.8,...]  = Quantitative (Contineous)\n",
    "\n",
    "(iv) Number of mangoes exported by a farm: [500, 600, 478, 672, ...] = Quantitative (Discrete)"
   ]
  },
  {
   "cell_type": "markdown",
   "id": "5eefbec0",
   "metadata": {},
   "source": [
    "#### Q5. Explain the concept of levels of measurement and give an example of a variable for each level."
   ]
  },
  {
   "cell_type": "markdown",
   "id": "b2cfba34",
   "metadata": {},
   "source": [
    "Ans - Level of measurement also called scale of measurement, tell you how preciesely variable is recorded. In scientific research a variable is anything that can take different values across your dataset.\n",
    "E.g. - heights and test scores\n",
    "\n",
    "There are 4 level of measurement \n",
    "1. Nominal - The data can be categorized - E.g. - City of birth, gender, car brands\n",
    "2. Ordinal - The data can be categorized and rank E.g. - Olympic medal, Feedback rating\n",
    "3. Interval - The data can be categorized and ranked and evenly spaced - E.g. - Test scores, Temperature\n",
    "4. Ratio - The data can be categorized and ranked and evenly spaced and had a natural zero E.g. - Height, age, weight"
   ]
  },
  {
   "cell_type": "markdown",
   "id": "1a3ea90d",
   "metadata": {},
   "source": [
    "#### Q6. Why is it important to understand the level of measurement when analyzing data? Provide an example to illustrate your answer."
   ]
  },
  {
   "cell_type": "markdown",
   "id": "02d8378d",
   "metadata": {},
   "source": [
    "Ans - Understanding the level of measurement is essential when analyzing data because it determines the type of statistical analysis that can be performed, the appropriate measures of central tendency and dispersion, and the types of inferences that can be made from the data.\n",
    "\n",
    "For example, suppose a company conducted a survey to determine the favorite type of ice cream among its customers. The responses could be categorized as follows:\n",
    "\n",
    "Chocolate\n",
    "Vanilla\n",
    "Strawberry\n",
    "Mint chocolate chip\n",
    "Rocky road\n",
    "In this case, the data is nominal because the categories cannot be ranked. The company could calculate the percentage of customers who prefer each flavor, but they could not determine whether one flavor is more popular than another.\n",
    "\n",
    "Now, suppose the same company conducted a survey to determine the satisfaction level of its customers with its service. The responses could be categorized as follows:\n",
    "\n",
    "Very satisfied\n",
    "Satisfied\n",
    "Neutral\n",
    "Dissatisfied\n",
    "Very dissatisfied\n",
    "In this case, the data is ordinal because the categories can be ranked, but the distance between categories is unknown. The company could calculate the percentage of customers who are very satisfied, satisfied, neutral, dissatisfied, and very dissatisfied, but they could not determine the exact difference in satisfaction level between customers who are very satisfied and those who are satisfied."
   ]
  },
  {
   "cell_type": "markdown",
   "id": "06616433",
   "metadata": {},
   "source": [
    "#### Q7. How nominal data type is different from ordinal data type."
   ]
  },
  {
   "cell_type": "markdown",
   "id": "e199f2b8",
   "metadata": {},
   "source": [
    "Ans - Nominal data is categorical data that can only be classified into categories or groups, but the categories cannot be ranked. For example, gender, eye color, or race are all examples of nominal data. In nominal data, there is no inherent order, and there is no numerical value assigned to the categories. Nominal data can be analyzed using frequency distribution and percentages.\n",
    "\n",
    "Ordinal data is also categorical data, but the categories can be ranked or ordered based on some criteria. For example, the ratings of a movie (excellent, good, fair, poor) or the educational level (high school, college, graduate school) are examples of ordinal data."
   ]
  },
  {
   "cell_type": "markdown",
   "id": "ec804b64",
   "metadata": {},
   "source": [
    "#### Q8. Which type of plot can be used to display data in terms of range?"
   ]
  },
  {
   "cell_type": "markdown",
   "id": "c3c6494c",
   "metadata": {},
   "source": [
    "Ans - A range plot is a graph that shows the minimum and maximum values of a variable within a given range. The range chart is useful in monitoring variability in data over time or across different groups. The range chart typically displays a center line that represents the mean value and upper and lower control limits that represent the acceptable range of variation.\n",
    "\n",
    "A range plot can also be used to display the range of a variable for different categories or groups. For example, a range plot can be used to compare the range of salaries for different job titles or the range of test scores for different schools. In this case, the range chart displays the range of the variable for each category or group along with the mean and upper and lower control limits."
   ]
  },
  {
   "cell_type": "markdown",
   "id": "386096c9",
   "metadata": {},
   "source": [
    "#### Q9. Describe the difference between descriptive and inferential statistics. Give an example of each type of statistics and explain how they are used."
   ]
  },
  {
   "cell_type": "markdown",
   "id": "6073c613",
   "metadata": {},
   "source": [
    "Ans - Descriptive statistics are used to summarize and describe the main features of a dataset. Descriptive statistics provide information about the central tendency (e.g., mean, median, mode), variability (e.g., range, variance, standard deviation), and shape of the distribution of the data. Descriptive statistics can be used to provide a summary of the data and to identify patterns or relationships among variables. An example of descriptive statistics is calculating the average score of a group of students on a test, the range of the scores, and the distribution of the scores in terms of frequency.\n",
    "\n",
    "Inferential statistics, on the other hand, are used to make inferences about a population based on a sample of data. Inferential statistics involve making generalizations about a population based on the characteristics of a sample. Inferential statistics can be used to estimate population parameters, test hypotheses, and assess the reliability of the findings. An example of inferential statistics is conducting a hypothesis test to determine whether there is a significant difference between the average test scores of two groups of students, where one group received a new teaching method and the other did not.\n",
    "\n",
    "To summarize, descriptive statistics are used to describe and summarize the main features of a dataset, while inferential statistics are used to make inferences about a population based on a sample of data. Descriptive statistics are often used in exploratory data analysis, while inferential statistics are used in hypothesis testing and making decisions based on the data."
   ]
  },
  {
   "cell_type": "markdown",
   "id": "687a217d",
   "metadata": {},
   "source": [
    "#### Q10. What are some common measures of central tendency and variability used in statistics? Explain how each measure can be used to describe a dataset."
   ]
  },
  {
   "cell_type": "markdown",
   "id": "739fc9f4",
   "metadata": {},
   "source": [
    "Ans - Measures of Central Tendency:\n",
    "\n",
    "Mean - The mean is the average value of the dataset and is calculated by adding up all the values and dividing by the number of values. The mean is a useful measure of central tendency when the data is normally distributed and has no outliers. However, the mean is sensitive to outliers, and if there are extreme values in the dataset, the mean may not be a good representation of the typical value.\n",
    "\n",
    "Median - The median is the middle value of the dataset when the values are ordered from lowest to highest. The median is a robust measure of central tendency and is less sensitive to outliers than the mean. The median is a useful measure when the data is skewed or has extreme values.\n",
    "\n",
    "Mode - The mode is the value that occurs most frequently in the dataset. The mode is useful for identifying the most common value in the dataset, but it is not always a useful measure of central tendency, especially when the dataset has multiple modes.\n",
    "\n",
    "Measures of Variability:\n",
    "\n",
    "Range - The range is the difference between the maximum and minimum values in the dataset. The range is a useful measure of variability, but it is sensitive to outliers and may not provide a good representation of the spread of the data.\n",
    "\n",
    "Variance - The variance is a measure of how spread out the dataset is around the mean. It is calculated by taking the average of the squared differences between each value and the mean. A higher variance indicates that the data is more spread out, while a lower variance indicates that the data is more tightly clustered around the mean.\n",
    "\n",
    "Standard Deviation - The standard deviation is the square root of the variance and is a commonly used measure of variability. The standard deviation provides a measure of how much the values deviate from the mean. A higher standard deviation indicates that the values are more spread out, while a lower standard deviation indicates"
   ]
  },
  {
   "cell_type": "code",
   "execution_count": null,
   "id": "abc0dedb",
   "metadata": {},
   "outputs": [],
   "source": []
  }
 ],
 "metadata": {
  "kernelspec": {
   "display_name": "Python 3 (ipykernel)",
   "language": "python",
   "name": "python3"
  },
  "language_info": {
   "codemirror_mode": {
    "name": "ipython",
    "version": 3
   },
   "file_extension": ".py",
   "mimetype": "text/x-python",
   "name": "python",
   "nbconvert_exporter": "python",
   "pygments_lexer": "ipython3",
   "version": "3.9.13"
  }
 },
 "nbformat": 4,
 "nbformat_minor": 5
}
