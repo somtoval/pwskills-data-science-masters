{
 "cells": [
  {
   "cell_type": "markdown",
   "id": "e6ac47b8",
   "metadata": {},
   "source": [
    "                           6  t  h    F  E  B  R  U  A  R  Y    2  0  2  3"
   ]
  },
  {
   "cell_type": "markdown",
   "id": "28cb90bc",
   "metadata": {},
   "source": [
    "### Q1. Create a function which will take a list as an argument and return the product of all the numbers after creating a flat list.\n",
    "\n",
    "#### Use the below-given list as an argument for your function.\n",
    "\n",
    "\n",
    "#### list1 = [1,2,3,4, [44,55,66, True], False, (34,56,78,89,34), {1,2,3,3,2,1}, {1:34, \"key2\": [55, 67, 78, 89], 4: (45, 22, 61, 34)}, [56, 'data science'], 'Machine Learning']\n",
    "\n",
    "\n",
    "#### Note: you must extract numeric keys and values of the dictionary also."
   ]
  },
  {
   "cell_type": "code",
   "execution_count": 99,
   "id": "9e2104b5",
   "metadata": {},
   "outputs": [],
   "source": [
    "list1 = [1,2,3,4, [44,55,66, True], False, (34,56,78,89,34), {1,2,3,3,2,1}, {1:34, \"key2\": [55, 67, 78, 89], 4: (45, 22, 61, 34)}, [56, 'data science'], 'Machine Learning']"
   ]
  },
  {
   "cell_type": "code",
   "execution_count": 100,
   "id": "25393a4d",
   "metadata": {},
   "outputs": [],
   "source": [
    "from functools import reduce"
   ]
  },
  {
   "cell_type": "code",
   "execution_count": 101,
   "id": "3840876f",
   "metadata": {},
   "outputs": [],
   "source": [
    "def extract_item(lst):\n",
    "    flat_lst = []\n",
    "    flat_int = []\n",
    "    \n",
    "    # Extracting all elements to be a flat list\n",
    "    for i in lst:\n",
    "        if type(i) == list or type(i) == tuple or type(i) == set:\n",
    "            for item in i:\n",
    "                flat_lst.append(item)\n",
    "        elif type(i) == dict:\n",
    "            for item in i.values():\n",
    "                if type(item) == list or type(item) == tuple or type(i) == set:\n",
    "                    for j in item:\n",
    "                        flat_lst.append(j)\n",
    "                else:\n",
    "                    flat_lst.append(item)\n",
    "        else:\n",
    "            flat_lst.append(i)\n",
    "    \n",
    "    # Extracting on the numeric characters\n",
    "    for i in flat_lst:\n",
    "        if type(i) == int or type(i) == float:\n",
    "            flat_int.append(i)\n",
    "    \n",
    "    # Returning product of the numeric characters\n",
    "    return reduce(lambda x,y : x*y, flat_int)\n",
    "        "
   ]
  },
  {
   "cell_type": "code",
   "execution_count": 102,
   "id": "cfd31861",
   "metadata": {},
   "outputs": [
    {
     "data": {
      "text/plain": [
       "1033677959746771369708460310528000"
      ]
     },
     "execution_count": 102,
     "metadata": {},
     "output_type": "execute_result"
    }
   ],
   "source": [
    "extract_item(list1)"
   ]
  },
  {
   "cell_type": "markdown",
   "id": "113e1bad",
   "metadata": {},
   "source": [
    "### Q2. Write a python program for encrypting a message sent to you by your friend. The logic of encryption should be such that, for a the output should be z. For b, the output should be y. For c, the output should be x respectively. Also, the whitespace should be replaced with a dollar sign. Keep the punctuation marks unchanged.\n",
    "\n",
    "#### Input Sentence: I want to become a Data Scientist.\n",
    "\n",
    "#### Encrypt the above input sentence using the program you just created.\n",
    "\n",
    "#### Note: Convert the given input sentence into lowercase before encrypting. The final output should be lowercase."
   ]
  },
  {
   "cell_type": "code",
   "execution_count": 103,
   "id": "15b0e818",
   "metadata": {},
   "outputs": [],
   "source": [
    "def encrypt(string):\n",
    "    string = string.lower()\n",
    "    output = \"\" # This is the inital state of our output as we have not encryted anything\n",
    "    \n",
    "    # Our algorithm for encryption\n",
    "    a_z = \"abcdefghijklmnopqrstuvwxyz\"\n",
    "    z_a = \"zyxwvutsrqponmlkjihgfedcba\"\n",
    "    \n",
    "    # For each of the values of the input we check if it is a space and if it is a space we add our output to a dollar sign to\n",
    "    # represent the space and if it a \".\" we add a dot to out output else we will check for the index in which that letter falls\n",
    "    # in in our a_z and then add the in find the z_a letter of the index and add it to the output\n",
    "    \n",
    "    for i in string:\n",
    "        if i == ' ':\n",
    "            output = output + \"$\"\n",
    "        \n",
    "        elif i == '.':\n",
    "            output = output + '.'\n",
    "            \n",
    "        else:\n",
    "            for j in a_z:\n",
    "                if j == i:\n",
    "                    index = a_z.index(j)\n",
    "                    output = output + z_a[index]\n",
    "    return output"
   ]
  },
  {
   "cell_type": "code",
   "execution_count": 104,
   "id": "058c2eda",
   "metadata": {},
   "outputs": [
    {
     "data": {
      "text/plain": [
       "'r$dzmg$gl$yvxlnv$z$wzgz$hxrvmgrhg.'"
      ]
     },
     "execution_count": 104,
     "metadata": {},
     "output_type": "execute_result"
    }
   ],
   "source": [
    "sentence = \"I want to become a Data Scientist.\"\n",
    "encryption = encrypt(sentence)\n",
    "encryption"
   ]
  },
  {
   "cell_type": "code",
   "execution_count": null,
   "id": "0cb6dd73",
   "metadata": {},
   "outputs": [],
   "source": []
  },
  {
   "cell_type": "code",
   "execution_count": null,
   "id": "5753b95a",
   "metadata": {},
   "outputs": [],
   "source": []
  },
  {
   "cell_type": "code",
   "execution_count": null,
   "id": "248eb2d3",
   "metadata": {},
   "outputs": [],
   "source": []
  },
  {
   "cell_type": "code",
   "execution_count": null,
   "id": "ccd4ee2e",
   "metadata": {},
   "outputs": [],
   "source": []
  }
 ],
 "metadata": {
  "kernelspec": {
   "display_name": "Python 3 (ipykernel)",
   "language": "python",
   "name": "python3"
  },
  "language_info": {
   "codemirror_mode": {
    "name": "ipython",
    "version": 3
   },
   "file_extension": ".py",
   "mimetype": "text/x-python",
   "name": "python",
   "nbconvert_exporter": "python",
   "pygments_lexer": "ipython3",
   "version": "3.10.8"
  }
 },
 "nbformat": 4,
 "nbformat_minor": 5
}
