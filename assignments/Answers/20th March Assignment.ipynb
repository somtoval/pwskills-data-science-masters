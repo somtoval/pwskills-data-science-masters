{
 "cells": [
  {
   "cell_type": "markdown",
   "id": "44fa2e7a",
   "metadata": {},
   "source": [
    "### Q1. What is data encoding? How is it useful in data science?"
   ]
  },
  {
   "cell_type": "markdown",
   "id": "cbb82742",
   "metadata": {},
   "source": [
    "data encoding is a fundamental process in data science that enables efficient data representation, handling of categorical and textual data, and prepares the data for analysis using various machine learning algorithms and statistical techniques. It helps in transforming data into a suitable format for modeling and extracting meaningful insights from complex datasets."
   ]
  },
  {
   "cell_type": "markdown",
   "id": "1815dd83",
   "metadata": {},
   "source": [
    "### Q2. What is nominal encoding? Provide an example of how you would use it in a real-world scenario."
   ]
  },
  {
   "cell_type": "markdown",
   "id": "e1a4bd75",
   "metadata": {},
   "source": [
    "Nominal encoding, also known as label encoding, assigns a unique numerical value to each category or label in the categorical variable. Each label is encoded with an integer value, typically starting from 0 or 1. The encoding is based on the order or frequency of the categories and does not provide any inherent meaning or relationship between the encoded values.\n",
    "\n",
    "For example, if we have a categorical variable \"Color\" with labels [\"Red\", \"Blue\", \"Green\"], the nominal encoding could assign the values [0, 1, 2] respectively. The encoded values don't imply any particular ordering or hierarchy.\n",
    "\n",
    "Nominal encoding is straightforward and can be useful in some cases, especially when the categorical variable has a large number of distinct values. However, it may introduce unintended relationships or orderings in the data when there is none, potentially misleading the learning algorithms."
   ]
  },
  {
   "cell_type": "markdown",
   "id": "f7a4c591",
   "metadata": {},
   "source": [
    "### Q3. In what situations is nominal encoding preferred over one-hot encoding? Provide a practical example."
   ]
  },
  {
   "cell_type": "markdown",
   "id": "97c47f2b",
   "metadata": {},
   "source": [
    "Nominal encoding is preferred over one-hot encoding when dealing with ordinal variables that have an inherent order or when the categorical variable has a large number of distinct categories and reducing the dimensionality is desirable."
   ]
  },
  {
   "cell_type": "markdown",
   "id": "991cba86",
   "metadata": {},
   "source": [
    "### Q4. Suppose you have a dataset containing categorical data with 5 unique values. Which encoding technique would you use to transform this data into a format suitable for machine learning algorithms? Explain why you made this choice."
   ]
  },
  {
   "cell_type": "markdown",
   "id": "ba3c5491",
   "metadata": {},
   "source": [
    "For a dataset containing categorical data with only 5 unique values, I would recommend using one-hot encoding to transform the data into a format suitable for machine learning algorithms.\n",
    "\n",
    "The choice of one-hot encoding is based on the following reasons:\n",
    "\n",
    "- Limited Number of Unique Values: With only 5 unique values, the resulting one-hot encoded representation would not create an excessively high-dimensional feature space. One-hot encoding creates a binary variable for each unique category, resulting in 5 additional binary columns. This is generally manageable for most machine learning algorithms and doesn't lead to significant computational overhead.\n",
    "\n",
    "- Preserving Categorical Information: One-hot encoding preserves the categorical information without introducing any ordinal relationships or hierarchies among the categories. This is important when the categories are distinct and don't have an inherent order or ranking. Each category is represented by a separate binary column, which allows the algorithm to capture the uniqueness of each category.\n",
    "\n",
    "- Avoiding Unintended Relationships: Nominal encoding, also known as label encoding, assigns unique numerical values to each category based on order or frequency. However, in this case, as there is no information suggesting an ordering or hierarchy among the categories, using nominal encoding may introduce unintended relationships or biases into the data. One-hot encoding eliminates this concern by creating separate binary variables.\n",
    "\n",
    "- Flexibility for Machine Learning Algorithms: Many machine learning algorithms, such as decision trees, support one-hot encoded data more naturally. These algorithms can treat each binary variable as an independent feature, which can improve their performance and interpretability."
   ]
  },
  {
   "cell_type": "markdown",
   "id": "38635270",
   "metadata": {},
   "source": [
    "### Q5. In a machine learning project, you have a dataset with 1000 rows and 5 columns. Two of the columns are categorical, and the remaining three columns are numerical. If you were to use nominal encoding to transform the categorical data, how many new columns would be created? Show your calculations."
   ]
  },
  {
   "cell_type": "markdown",
   "id": "d2c2dd0f",
   "metadata": {},
   "source": [
    "If you were to use nominal encoding to transform the categorical data in the dataset, the number of new columns created would depend on the number of unique categories in each categorical column.\n",
    "\n",
    "Let's assume that the first categorical column has \"n1\" unique categories, and the second categorical column has \"n2\" unique categories.\n",
    "\n",
    "For each categorical column, nominal encoding would create \"n1\" and \"n2\" new columns, respectively, representing the numerical labels assigned to each category. Therefore, the total number of new columns created would be equal to the sum of the new columns created for each categorical column.\n",
    "\n",
    "So, the total number of new columns created using nominal encoding would be n1 + n2.\n",
    "\n",
    "Please note that nominal encoding creates new columns equal to the number of unique categories, regardless of the number of rows in the dataset. Therefore, the size of the dataset (in this case, 1000 rows) does not affect the number of new columns created by nominal encoding."
   ]
  },
  {
   "cell_type": "markdown",
   "id": "27d50d20",
   "metadata": {},
   "source": [
    "### Q6. You are working with a dataset containing information about different types of animals, including their species, habitat, and diet. Which encoding technique would you use to transform the categorical data into a format suitable for machine learning algorithms? Justify your answer."
   ]
  },
  {
   "cell_type": "markdown",
   "id": "f77b130a",
   "metadata": {},
   "source": [
    "One-Hot Encoding would be a good choice for the categorical variables in this scenerio where there is no inherent order or ranking, such as the \"species\", \"diet\" and \"habitat\" variables, one-hot encoding is more appropriate. One-hot encoding will create binary variables for each unique category, allowing the algorithm to treat each category independently without introducing any unintended relationships or order."
   ]
  },
  {
   "cell_type": "markdown",
   "id": "4ec7f1c2",
   "metadata": {},
   "source": [
    "### Q7.You are working on a project that involves predicting customer churn for a telecommunications company. You have a dataset with 5 features, including the customer's gender, age, contract type, monthly charges, and tenure. Which encoding technique(s) would you use to transform the categorical data into numerical data? Provide a step-by-step explanation of how you would implement the encoding."
   ]
  },
  {
   "cell_type": "markdown",
   "id": "285b9953",
   "metadata": {},
   "source": [
    "Here's a step-by-step explanation of how I would implement the encoding:\n",
    "\n",
    "- Gender (Nominal Encoding):\n",
    "Since gender is a binary categorical feature with two unique values, such as \"Male\" and \"Female,\" nominal encoding can be used to assign numerical values. For instance, we can encode \"Male\" as 0 and \"Female\" as 1.\n",
    "\n",
    "- Contract Type (One-Hot Encoding):\n",
    "The contract type likely has multiple categories, such as \"Month-to-Month,\" \"One Year,\" and \"Two Year.\" One-hot encoding is suitable here, as we want to create binary variables for each category. We would create three additional binary columns: \"IsMonthToMonth,\" \"IsOneYear,\" and \"IsTwoYear.\" The presence of each contract type would be denoted by 1, while the absence would be denoted by 0.\n",
    "\n",
    "- Monthly Charges and Tenure:\n",
    "Both \"Monthly Charges\" and \"Tenure\" are numeric features and do not require any encoding. They can be used directly as numerical values for the machine learning algorithms.\n",
    "\n",
    "By applying these encoding techniques, the transformed dataset will have the following format:\n",
    "\n",
    "- Gender: Encoded as 0 or 1.\n",
    "- Contract Type: Encoded as binary columns (e.g., IsMonthToMonth, IsOneYear, IsTwoYear).\n",
    "- Monthly Charges: Numeric values.\n",
    "- Tenure: Numeric values."
   ]
  },
  {
   "cell_type": "code",
   "execution_count": null,
   "id": "e9c31b39",
   "metadata": {},
   "outputs": [],
   "source": []
  },
  {
   "cell_type": "code",
   "execution_count": null,
   "id": "7aa63c96",
   "metadata": {},
   "outputs": [],
   "source": []
  }
 ],
 "metadata": {
  "kernelspec": {
   "display_name": "Python 3 (ipykernel)",
   "language": "python",
   "name": "python3"
  },
  "language_info": {
   "codemirror_mode": {
    "name": "ipython",
    "version": 3
   },
   "file_extension": ".py",
   "mimetype": "text/x-python",
   "name": "python",
   "nbconvert_exporter": "python",
   "pygments_lexer": "ipython3",
   "version": "3.10.8"
  }
 },
 "nbformat": 4,
 "nbformat_minor": 5
}
