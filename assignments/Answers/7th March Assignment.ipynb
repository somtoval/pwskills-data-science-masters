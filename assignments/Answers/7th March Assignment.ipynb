{
 "cells": [
  {
   "cell_type": "markdown",
   "id": "725ebcb8",
   "metadata": {},
   "source": [
    "#### Q1. What are the three measures of central tendency?"
   ]
  },
  {
   "cell_type": "markdown",
   "id": "6b364100",
   "metadata": {},
   "source": [
    "The three measures of central tendency are:\n",
    "\n",
    "Mean: The mean is the arithmetic average of a set of numbers. It is calculated by adding all the values in the set and then dividing the sum by the total number of values.\n",
    "\n",
    "Median: The median is the middle value of a set of numbers. It is the value that separates the higher half of the values from the lower half. If there are an even number of values in the set, the median is the average of the two middle values.\n",
    "\n",
    "Mode: The mode is the value that occurs most frequently in a set of numbers. In some cases, there may be multiple modes if there are several values that occur with the same frequency."
   ]
  },
  {
   "cell_type": "markdown",
   "id": "04646787",
   "metadata": {},
   "source": [
    "#### Q2. What is the difference between the mean, median, and mode? How are they used to measure the central tendency of a dataset?"
   ]
  },
  {
   "cell_type": "markdown",
   "id": "7409fb35",
   "metadata": {},
   "source": [
    "The mean is the sum of all the values in a dataset divided by the total number of values. It is sensitive to outliers, meaning that extreme values in the dataset can significantly affect the value of the mean. The mean is commonly used to summarize numerical data.\n",
    "\n",
    "The median is the middle value of a dataset when the values are arranged in numerical order. It is less sensitive to outliers than the mean, and it is commonly used to summarize skewed data or data with extreme values.\n",
    "\n",
    "The mode is the most frequently occurring value in a dataset. It is commonly used to summarize categorical or discrete data, such as the number of students in a classroom with different eye colors.\n",
    "\n",
    "All three measures of central tendency provide different information about the center of a dataset and are used depending on the type of data and the research question. For instance, if a dataset has a normal distribution, the mean and median are similar, and both provide useful information about the center of the dataset. If a dataset has a skewed distribution, the median may be a better representation of the center, while the mode may be more useful for identifying the most common value in the dataset."
   ]
  },
  {
   "cell_type": "markdown",
   "id": "f7d6f031",
   "metadata": {},
   "source": [
    "#### Q3. Measure the three measures of central tendency for the given height data:\n",
    "#### [178,177,176,177,178.2,178,175,179,180,175,178.9,176.2,177,172.5,178,176.5]"
   ]
  },
  {
   "cell_type": "code",
   "execution_count": 8,
   "id": "d9c22d5e",
   "metadata": {},
   "outputs": [],
   "source": [
    "import pandas as pd\n",
    "values = pd.Series([178,177,176,177,178.2,178,175,179,180,175,178.9,176.2,177,172.5,178,176.5])"
   ]
  },
  {
   "cell_type": "code",
   "execution_count": 9,
   "id": "460b5f37",
   "metadata": {},
   "outputs": [
    {
     "data": {
      "text/plain": [
       "177.01875"
      ]
     },
     "execution_count": 9,
     "metadata": {},
     "output_type": "execute_result"
    }
   ],
   "source": [
    "values.mean()"
   ]
  },
  {
   "cell_type": "code",
   "execution_count": 10,
   "id": "23f4cdd0",
   "metadata": {},
   "outputs": [
    {
     "data": {
      "text/plain": [
       "177.0"
      ]
     },
     "execution_count": 10,
     "metadata": {},
     "output_type": "execute_result"
    }
   ],
   "source": [
    "values.median()"
   ]
  },
  {
   "cell_type": "code",
   "execution_count": 12,
   "id": "425e9947",
   "metadata": {},
   "outputs": [
    {
     "data": {
      "text/plain": [
       "177.0"
      ]
     },
     "execution_count": 12,
     "metadata": {},
     "output_type": "execute_result"
    }
   ],
   "source": [
    "values.mode()[0]"
   ]
  },
  {
   "cell_type": "markdown",
   "id": "7d7b1e0f",
   "metadata": {},
   "source": [
    "#### Q4. Find the standard deviation for the given data:\n",
    "#### [178,177,176,177,178.2,178,175,179,180,175,178.9,176.2,177,172.5,178,176.5]"
   ]
  },
  {
   "cell_type": "markdown",
   "id": "21cced80",
   "metadata": {},
   "source": [
    "Ans - Using above values"
   ]
  },
  {
   "cell_type": "code",
   "execution_count": 13,
   "id": "991db526",
   "metadata": {},
   "outputs": [
    {
     "data": {
      "text/plain": [
       "1.847238930584419"
      ]
     },
     "execution_count": 13,
     "metadata": {},
     "output_type": "execute_result"
    }
   ],
   "source": [
    "values.std()"
   ]
  },
  {
   "cell_type": "markdown",
   "id": "c0c34132",
   "metadata": {},
   "source": [
    "#### Q5. How are measures of dispersion such as range, variance, and standard deviation used to describe the spread of a dataset? Provide an example."
   ]
  },
  {
   "cell_type": "markdown",
   "id": "3e6ac76e",
   "metadata": {},
   "source": [
    "Range: The range is the difference between the highest and lowest values in a dataset. It provides a rough measure of the spread of the dataset, but it is sensitive to outliers.\n",
    "\n",
    "Variance: The variance is the average of the squared differences of each value from the mean of the dataset. It measures how spread out the values are around the mean. A higher variance indicates a greater spread of the values from the mean.\n",
    "\n",
    "Standard deviation: The standard deviation is the square root of the variance. It measures the typical distance of the values from the mean. A higher standard deviation indicates a greater spread of the values from the mean.\n",
    "\n",
    "For example, consider a dataset of the ages of 10 people: [20, 22, 23, 25, 26, 27, 28, 29, 30, 35]. The mean age of this dataset is 27.5. We can calculate the range, variance, and standard deviation of the dataset using Python pandas:"
   ]
  },
  {
   "cell_type": "code",
   "execution_count": 14,
   "id": "3d1ad9ac",
   "metadata": {},
   "outputs": [
    {
     "name": "stdout",
     "output_type": "stream",
     "text": [
      "Range: 15\n",
      "Variance: 18.944444444444443\n",
      "Standard deviation: 4.352521619066865\n"
     ]
    }
   ],
   "source": [
    "import pandas as pd\n",
    "age_data = pd.Series([20, 22, 23, 25, 26, 27, 28, 29, 30, 35])\n",
    "range = age_data.max() - age_data.min()\n",
    "variance = age_data.var()\n",
    "std_dev = age_data.std()\n",
    "print(\"Range:\", range)\n",
    "print(\"Variance:\", variance)\n",
    "print(\"Standard deviation:\", std_dev)\n"
   ]
  },
  {
   "cell_type": "markdown",
   "id": "a6b9d7b6",
   "metadata": {},
   "source": [
    "#### Q6. What is a Venn diagram?"
   ]
  },
  {
   "cell_type": "markdown",
   "id": "43215b5e",
   "metadata": {},
   "source": [
    "A Venn diagram is a visual representation of the relationships between different sets of data. It consists of overlapping circles, where each circle represents a set, and the overlapping area represents the intersection of the sets. Venn diagrams are often used in mathematics, logic, statistics, and other fields to illustrate concepts such as set theory, logic, and probability.\n",
    "\n",
    "The circles in a Venn diagram can be used to represent any category or group of data, and the intersection of the circles can represent any overlap between those categories or groups. For example, a Venn diagram can be used to show the relationships between different groups of animals, such as mammals, birds, and reptiles."
   ]
  },
  {
   "cell_type": "markdown",
   "id": "77c7ba8e",
   "metadata": {},
   "source": [
    "#### Q7. For the two given sets A = (2,3,4,5,6,7) & B = (0,2,6,8,10). Find:\n",
    "#### (i) A B\n",
    "#### (ii) A ⋃ B"
   ]
  },
  {
   "cell_type": "markdown",
   "id": "b4b3ee75",
   "metadata": {},
   "source": [
    "(i) A ∩ B (the intersection of A and B):\n",
    "The intersection of A and B contains only the elements that are common to both A and B. So we have:\n",
    "A ∩ B = {2, 6}\n",
    "\n",
    "(ii) A ⋃ B (the union of A and B):\n",
    "The union of A and B contains all the elements that are in A or B or both. So we have:\n",
    "A ⋃ B = {0, 2, 3, 4, 5, 6, 7, 8, 10}"
   ]
  },
  {
   "cell_type": "markdown",
   "id": "49b80d4f",
   "metadata": {},
   "source": [
    "#### Q8. What do you understand about skewness in data?"
   ]
  },
  {
   "cell_type": "markdown",
   "id": "375f7dee",
   "metadata": {},
   "source": [
    "Ans - Skewness is a measure of the asymmetry of a probability distribution, or how much a dataset deviates from a symmetric distribution. In other words, it measures the degree to which the values in a dataset are concentrated on one side of the mean compared to the other side.\n",
    "\n",
    "A dataset is considered skewed if it has a non-zero skewness value. There are two types of skewness: positive skewness and negative skewness.\n",
    "\n",
    "Positive skewness: A dataset is positively skewed if the tail of the distribution is longer on the right side than on the left side, and the mean is greater than the median. This means that there are more low values in the dataset, and a few high values that pull the mean to the right.\n",
    "\n",
    "Negative skewness: A dataset is negatively skewed if the tail of the distribution is longer on the left side than on the right side, and the mean is less than the median. This means that there are more high values in the dataset, and a few low values that pull the mean to the left.\n",
    "\n"
   ]
  },
  {
   "cell_type": "markdown",
   "id": "443036fd",
   "metadata": {},
   "source": [
    "#### Q9. If a data is right skewed then what will be the position of median with respect to mean?"
   ]
  },
  {
   "cell_type": "markdown",
   "id": "5afecbfa",
   "metadata": {},
   "source": [
    "Ans - If a data is right skewed, then the mean will be greater than the median. This is because the tail of the distribution is longer on the right side, which means there are more high values that pull the mean to the right."
   ]
  },
  {
   "cell_type": "markdown",
   "id": "d4591e36",
   "metadata": {},
   "source": [
    "#### Q10. Explain the difference between covariance and correlation. How are these measures used in statistical analysis?"
   ]
  },
  {
   "cell_type": "markdown",
   "id": "5560155a",
   "metadata": {},
   "source": [
    "Ans - Covariance measures how much two variables change together. It is a measure of the joint variability of two random variables. A positive covariance indicates that when one variable increases, the other variable tends to increase as well, and vice versa for a negative covariance. However, the magnitude of the covariance is difficult to interpret as it depends on the scale of the variables.\n",
    "\n",
    "Correlation measures the strength and direction of the linear relationship between two variables, regardless of the scale of the variables. It is a standardized version of covariance, and it ranges between -1 and 1, with -1 indicating a perfect negative correlation, 0 indicating no correlation, and 1 indicating a perfect positive correlation. Correlation is more widely used than covariance because it provides a more interpretable measure of the strength of the relationship between variables.\n",
    "\n",
    "In statistical analysis, both covariance and correlation are used to identify patterns and relationships between variables. Correlation is particularly useful in identifying the strength and direction of a relationship between two variables, and it is commonly used in regression analysis to model the relationship between a dependent variable and one or more independent variables. Covariance, on the other hand, is less commonly used due to its scale-dependent nature, but it is used in some statistical tests and can provide additional information about the joint variability of two variables."
   ]
  },
  {
   "cell_type": "markdown",
   "id": "d61509b9",
   "metadata": {},
   "source": [
    "#### Q11. What is the formula for calculating the sample mean? Provide an example calculation for a dataset."
   ]
  },
  {
   "cell_type": "markdown",
   "id": "f79986dd",
   "metadata": {},
   "source": [
    "Ans - The formula for calculating the sample mean is:\n",
    "\n",
    "sample mean = (sum of all values in the sample) / (number of values in the sample)\n",
    "\n",
    "In other words, you add up all the values in the sample, and then divide by the number of values to get the average value.\n",
    "\n",
    "For example, consider the following dataset:\n",
    "\n",
    "[3, 6, 7, 10, 12]\n",
    "\n",
    "To calculate the sample mean, we add up all the values in the dataset, then divide by the number of values:\n",
    "\n",
    "sample mean = (3 + 6 + 7 + 10 + 12) / 5\n",
    "sample mean = 38 / 5\n",
    "sample mean = 7.6\n",
    "\n",
    "Therefore, the sample mean of this dataset is 7.6."
   ]
  },
  {
   "cell_type": "markdown",
   "id": "bac4eb4a",
   "metadata": {},
   "source": [
    "#### Q12. For a normal distribution data what is the relationship between its measure of central tendency?"
   ]
  },
  {
   "cell_type": "markdown",
   "id": "5a5b97f6",
   "metadata": {},
   "source": [
    "Ans - For a normal distribution, the mean, median, and mode are all equal. This means that the center of the distribution is at the same point regardless of which measure of central tendency is used. This property of normal distribution is often referred to as symmetry.\n",
    "\n",
    "The normal distribution is a bell-shaped curve, with the highest point at the center of the distribution. The mean, median, and mode are all located at this highest point, which is also the point of maximum density. Because the normal distribution is symmetric, the mean is located at the center of the distribution, with half the data values falling to the left of the mean and half falling to the right. The median, which is the middle value of the dataset, is also located at the center of the distribution, as is the mode, which is the value that occurs most frequently in the dataset."
   ]
  },
  {
   "cell_type": "markdown",
   "id": "183c0497",
   "metadata": {},
   "source": [
    "#### Q13. How is covariance different from correlation?"
   ]
  },
  {
   "cell_type": "markdown",
   "id": "257666ca",
   "metadata": {},
   "source": [
    "Ans - Covariance and correlation are both measures used in statistical analysis to describe the relationship between two variables, but they differ in a few key ways:\n",
    "\n",
    "Scale dependency: Covariance is scale-dependent, meaning it is influenced by the scale of the variables being measured. In contrast, correlation is scale-independent, and is not affected by the units of measurement.\n",
    "\n",
    "Magnitude: Covariance can take on any value between negative infinity and infinity, depending on the magnitude of the joint variability of the two variables. In contrast, correlation always ranges between -1 and 1, with 1 indicating a perfect positive correlation, -1 indicating a perfect negative correlation, and 0 indicating no correlation.\n",
    "\n",
    "Interpretability: Correlation is more interpretable than covariance because it is scale-independent and ranges between -1 and 1. The magnitude of the correlation coefficient provides a measure of the strength of the linear relationship between two variables, whereas the magnitude of the covariance is difficult to interpret as it depends on the scale of the variables."
   ]
  },
  {
   "cell_type": "markdown",
   "id": "9729f517",
   "metadata": {},
   "source": [
    "#### Q14. How do outliers affect measures of central tendency and dispersion? Provide an example."
   ]
  },
  {
   "cell_type": "markdown",
   "id": "0e5649b8",
   "metadata": {},
   "source": [
    "Ans - Outliers are extreme values that lie far away from the other values in a dataset. They can have a significant impact on measures of central tendency and dispersion.\n",
    "\n",
    "Outliers can affect measures of central tendency, such as the mean and median, by pulling the center of the distribution towards themselves. If an outlier is much larger or smaller than the other values in the dataset, it can greatly increase or decrease the mean. The median is less affected by outliers, but it can still be shifted if the outlier is far enough from the other values."
   ]
  },
  {
   "cell_type": "code",
   "execution_count": 17,
   "id": "086ccb82",
   "metadata": {},
   "outputs": [],
   "source": [
    "import pandas as pd\n",
    "sample_values1 = pd.Series([25, 27, 28, 30, 32, 33, 34, 35, 36, 40, 100])\n",
    "sample_values2 = pd.Series([25, 27, 28, 30, 32, 33, 34, 35, 36, 40])"
   ]
  },
  {
   "cell_type": "code",
   "execution_count": 18,
   "id": "a37e829b",
   "metadata": {},
   "outputs": [
    {
     "data": {
      "text/plain": [
       "38.18181818181818"
      ]
     },
     "execution_count": 18,
     "metadata": {},
     "output_type": "execute_result"
    }
   ],
   "source": [
    "sample_values1.mean()"
   ]
  },
  {
   "cell_type": "code",
   "execution_count": 19,
   "id": "6b75d409",
   "metadata": {},
   "outputs": [
    {
     "data": {
      "text/plain": [
       "32.0"
      ]
     },
     "execution_count": 19,
     "metadata": {},
     "output_type": "execute_result"
    }
   ],
   "source": [
    "sample_values2.mean()"
   ]
  },
  {
   "cell_type": "markdown",
   "id": "b3b58ad6",
   "metadata": {},
   "source": [
    "As you can see first mean with outliners its mean value shift towards the outliner"
   ]
  },
  {
   "cell_type": "code",
   "execution_count": null,
   "id": "d40a1000",
   "metadata": {},
   "outputs": [],
   "source": []
  }
 ],
 "metadata": {
  "kernelspec": {
   "display_name": "Python 3 (ipykernel)",
   "language": "python",
   "name": "python3"
  },
  "language_info": {
   "codemirror_mode": {
    "name": "ipython",
    "version": 3
   },
   "file_extension": ".py",
   "mimetype": "text/x-python",
   "name": "python",
   "nbconvert_exporter": "python",
   "pygments_lexer": "ipython3",
   "version": "3.9.13"
  }
 },
 "nbformat": 4,
 "nbformat_minor": 5
}
