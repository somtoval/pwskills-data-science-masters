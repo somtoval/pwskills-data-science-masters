{
 "cells": [
  {
   "cell_type": "markdown",
   "id": "66ad63a9",
   "metadata": {},
   "source": [
    "                             7  t  h    F  E  B  R  U  A  R  Y    2  0  2  3"
   ]
  },
  {
   "cell_type": "markdown",
   "id": "aacd0395",
   "metadata": {},
   "source": [
    "### Q1. You are writing code for a company. The requirement of the company is that you create a python function that will check whether the password entered by the user is correct or not. The function should take the password as input and return the string “Valid Password” if the entered password follows the below-given password guidelines else it should return “Invalid Password”.\n",
    "\n",
    "#### Note: 1. The Password should contain at least two uppercase letters and at least two lowercase letters.\n",
    "\n",
    "#### 2. The Password should contain at least a number and three special characters.\n",
    "\n",
    "#### 3. The length of the password should be 10 characters long."
   ]
  },
  {
   "cell_type": "code",
   "execution_count": 106,
   "id": "6154adff",
   "metadata": {},
   "outputs": [],
   "source": [
    "def passwordConfirm(password):\n",
    "    if len(password) == 10:\n",
    "        upper = 0\n",
    "        for i in password:\n",
    "            if i.isupper() == True:\n",
    "                upper += 1\n",
    "        if upper > 1:\n",
    "            lower = 0\n",
    "            for i in password:\n",
    "                if i.islower() == True:\n",
    "                    lower += 1\n",
    "            if lower > 1:\n",
    "                special = 0\n",
    "                for i in password:\n",
    "                    if i.isalnum() == False:\n",
    "                        special += 1                             \n",
    "                if special > 2:\n",
    "                    return 'This is a Strong Password'\n",
    "                else:\n",
    "                    return 'Invalid Password'\n",
    "            else:\n",
    "                return 'Invalid Password'\n",
    "        else:\n",
    "            return 'Invalid Password'\n",
    "            \n",
    "    else:\n",
    "        return 'Invalid Password'"
   ]
  },
  {
   "cell_type": "code",
   "execution_count": 109,
   "id": "958398f2",
   "metadata": {},
   "outputs": [
    {
     "data": {
      "text/plain": [
       "'This is a Strong Password'"
      ]
     },
     "execution_count": 109,
     "metadata": {},
     "output_type": "execute_result"
    }
   ],
   "source": [
    "password = passwordConfirm('PWSkill%:)')\n",
    "password"
   ]
  },
  {
   "cell_type": "markdown",
   "id": "efe4c069",
   "metadata": {},
   "source": [
    "### Q2. Solve the below-given questions using at least one of the following: \n",
    "\n",
    "#### 1. Lambda function\n",
    "#### 2. Filter function\n",
    "#### 3. Zip function\n",
    "#### 4. List Comprehension\n",
    "#### . Check if the string starts with a particular letter\n",
    "#### . Check if the string is numeric\n",
    "#### . Sort a list of tuples having fruit names and their quantity. [(\"mango\",99),(\"orange\",80), (\"grapes\", 1000)-\n",
    "#### . Find the squares of numbers from 1 to 10\n",
    "#### . Find the cube root of numbers from 1 to 10\n",
    "#### . Check if a given number is even\n",
    "#### . Filter odd numbers from the given list. [1,2,3,4,5,6,7,8,9,10]\n",
    "#### . Sort a list of integers into positive and negative integers lists. [1,2,3,4,5,6,-1,-2,-3,-4,-5,0]"
   ]
  },
  {
   "cell_type": "markdown",
   "id": "3cf1cda2",
   "metadata": {},
   "source": [
    "##### Check if the string starts with a particular letter"
   ]
  },
  {
   "cell_type": "code",
   "execution_count": 112,
   "id": "a356c7e8",
   "metadata": {},
   "outputs": [],
   "source": [
    "func = lambda x: True if x.startswith('b') else False"
   ]
  },
  {
   "cell_type": "code",
   "execution_count": 113,
   "id": "ec63c233",
   "metadata": {},
   "outputs": [
    {
     "data": {
      "text/plain": [
       "False"
      ]
     },
     "execution_count": 113,
     "metadata": {},
     "output_type": "execute_result"
    }
   ],
   "source": [
    "func('hello')"
   ]
  },
  {
   "cell_type": "code",
   "execution_count": 114,
   "id": "81edfba4",
   "metadata": {},
   "outputs": [
    {
     "data": {
      "text/plain": [
       "True"
      ]
     },
     "execution_count": 114,
     "metadata": {},
     "output_type": "execute_result"
    }
   ],
   "source": [
    "func('board')"
   ]
  },
  {
   "cell_type": "markdown",
   "id": "c7a8fbd9",
   "metadata": {},
   "source": [
    "##### Check if the string is numeric"
   ]
  },
  {
   "cell_type": "code",
   "execution_count": 35,
   "id": "b23138a0",
   "metadata": {},
   "outputs": [],
   "source": [
    "func = lambda x: 'Numeric' if str(x).isnumeric() == True else 'A String'"
   ]
  },
  {
   "cell_type": "code",
   "execution_count": 36,
   "id": "e0ff3e0e",
   "metadata": {},
   "outputs": [
    {
     "data": {
      "text/plain": [
       "'Numeric'"
      ]
     },
     "execution_count": 36,
     "metadata": {},
     "output_type": "execute_result"
    }
   ],
   "source": [
    "func('69444')"
   ]
  },
  {
   "cell_type": "markdown",
   "id": "dc1bdf77",
   "metadata": {},
   "source": [
    "##### Sort a list of tuples having fruit names and their quantity. [(\"mango\",99),(\"orange\",80), (\"grapes\", 1000)]"
   ]
  },
  {
   "cell_type": "code",
   "execution_count": 82,
   "id": "a017a03c",
   "metadata": {},
   "outputs": [],
   "source": [
    "fruits =  [(\"mango\",99),(\"orange\",80), (\"grapes\", 1000)]"
   ]
  },
  {
   "cell_type": "code",
   "execution_count": 83,
   "id": "a317132a",
   "metadata": {},
   "outputs": [],
   "source": [
    "fruits.sort(key = lambda x : x[1])"
   ]
  },
  {
   "cell_type": "code",
   "execution_count": 84,
   "id": "aef570f3",
   "metadata": {},
   "outputs": [
    {
     "data": {
      "text/plain": [
       "[('orange', 80), ('mango', 99), ('grapes', 1000)]"
      ]
     },
     "execution_count": 84,
     "metadata": {},
     "output_type": "execute_result"
    }
   ],
   "source": [
    "fruits"
   ]
  },
  {
   "cell_type": "markdown",
   "id": "082707a6",
   "metadata": {},
   "source": [
    "##### Find the squares of numbers from 1 to 10"
   ]
  },
  {
   "cell_type": "code",
   "execution_count": 1,
   "id": "e2921d87",
   "metadata": {},
   "outputs": [],
   "source": [
    "lst = [1,2,3,4,5,6,7,8,9,10]"
   ]
  },
  {
   "cell_type": "code",
   "execution_count": 8,
   "id": "88db704a",
   "metadata": {},
   "outputs": [
    {
     "data": {
      "text/plain": [
       "[1, 4, 9, 16, 25, 36, 49, 64, 81, 100]"
      ]
     },
     "execution_count": 8,
     "metadata": {},
     "output_type": "execute_result"
    }
   ],
   "source": [
    "list(map(lambda x : x**2, lst))"
   ]
  },
  {
   "cell_type": "markdown",
   "id": "a37a1228",
   "metadata": {},
   "source": [
    "###### Find the cube root of numbers from 1 to 10"
   ]
  },
  {
   "cell_type": "code",
   "execution_count": 40,
   "id": "2635a9c2",
   "metadata": {},
   "outputs": [],
   "source": [
    "lst = [1,2,3,4,5,6,7,8,9,10]"
   ]
  },
  {
   "cell_type": "code",
   "execution_count": 44,
   "id": "97cf7789",
   "metadata": {},
   "outputs": [
    {
     "data": {
      "text/plain": [
       "[1.0,\n",
       " 1.2599210498948732,\n",
       " 1.4422495703074083,\n",
       " 1.5874010519681994,\n",
       " 1.7099759466766968,\n",
       " 1.8171205928321397,\n",
       " 1.912931182772389,\n",
       " 2.0,\n",
       " 2.080083823051904,\n",
       " 2.154434690031884]"
      ]
     },
     "execution_count": 44,
     "metadata": {},
     "output_type": "execute_result"
    }
   ],
   "source": [
    "list(map(lambda x: x ** (1/3), lst))"
   ]
  },
  {
   "cell_type": "markdown",
   "id": "cf9a4c5c",
   "metadata": {},
   "source": [
    "##### Check if a given number is even"
   ]
  },
  {
   "cell_type": "code",
   "execution_count": 37,
   "id": "b6ecbce4",
   "metadata": {},
   "outputs": [],
   "source": [
    "func = lambda x : 'Is Even' if x% 2 == 0 else 'Not Even'"
   ]
  },
  {
   "cell_type": "code",
   "execution_count": 39,
   "id": "44e0221d",
   "metadata": {},
   "outputs": [
    {
     "data": {
      "text/plain": [
       "'Is Even'"
      ]
     },
     "execution_count": 39,
     "metadata": {},
     "output_type": "execute_result"
    }
   ],
   "source": [
    "func(8)"
   ]
  },
  {
   "cell_type": "markdown",
   "id": "6585651e",
   "metadata": {},
   "source": [
    "##### Filter odd numbers from the given list. [1,2,3,4,5,6,7,8,9,10]"
   ]
  },
  {
   "cell_type": "code",
   "execution_count": 45,
   "id": "52b7521f",
   "metadata": {},
   "outputs": [],
   "source": [
    "lst = [1,2,3,4,5,6,7,8,9,10]"
   ]
  },
  {
   "cell_type": "code",
   "execution_count": 51,
   "id": "c5c33b41",
   "metadata": {},
   "outputs": [
    {
     "data": {
      "text/plain": [
       "[1, 3, 5, 7, 9]"
      ]
     },
     "execution_count": 51,
     "metadata": {},
     "output_type": "execute_result"
    }
   ],
   "source": [
    "list(filter(lambda x: x% 2 != 0, lst))"
   ]
  },
  {
   "cell_type": "markdown",
   "id": "2d15e9fe",
   "metadata": {},
   "source": [
    "##### Sort a list of integers into positive and negative integers lists. [1,2,3,4,5,6,-1,-2,-3,-4,-5,0]"
   ]
  },
  {
   "cell_type": "code",
   "execution_count": 59,
   "id": "ad86fab0",
   "metadata": {},
   "outputs": [],
   "source": [
    "lst = [1,2,3,4,5,6,-1,-2,-3,-4,-5,0]"
   ]
  },
  {
   "cell_type": "code",
   "execution_count": 68,
   "id": "d9d94b37",
   "metadata": {},
   "outputs": [
    {
     "data": {
      "text/plain": [
       "[None, None, None, None, None, None, None, None, None, None, None, None]"
      ]
     },
     "execution_count": 68,
     "metadata": {},
     "output_type": "execute_result"
    }
   ],
   "source": [
    "positive = []\n",
    "negative = []\n",
    "\n",
    "list(map(lambda x: positive.append(x) if x >= 0 else negative.append(x), lst))"
   ]
  },
  {
   "cell_type": "code",
   "execution_count": 69,
   "id": "3d1b2332",
   "metadata": {},
   "outputs": [
    {
     "data": {
      "text/plain": [
       "[1, 2, 3, 4, 5, 6, 0]"
      ]
     },
     "execution_count": 69,
     "metadata": {},
     "output_type": "execute_result"
    }
   ],
   "source": [
    "positive"
   ]
  },
  {
   "cell_type": "code",
   "execution_count": 70,
   "id": "c28f93c6",
   "metadata": {},
   "outputs": [
    {
     "data": {
      "text/plain": [
       "[-1, -2, -3, -4, -5]"
      ]
     },
     "execution_count": 70,
     "metadata": {},
     "output_type": "execute_result"
    }
   ],
   "source": [
    "negative"
   ]
  },
  {
   "cell_type": "code",
   "execution_count": null,
   "id": "80f5c14a",
   "metadata": {},
   "outputs": [],
   "source": []
  }
 ],
 "metadata": {
  "kernelspec": {
   "display_name": "Python 3 (ipykernel)",
   "language": "python",
   "name": "python3"
  },
  "language_info": {
   "codemirror_mode": {
    "name": "ipython",
    "version": 3
   },
   "file_extension": ".py",
   "mimetype": "text/x-python",
   "name": "python",
   "nbconvert_exporter": "python",
   "pygments_lexer": "ipython3",
   "version": "3.10.8"
  }
 },
 "nbformat": 4,
 "nbformat_minor": 5
}
