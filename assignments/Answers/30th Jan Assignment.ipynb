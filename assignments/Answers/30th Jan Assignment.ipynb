{
 "cells": [
  {
   "cell_type": "markdown",
   "id": "0aa42c4b",
   "metadata": {},
   "source": [
    "                                    3  0  t  h   J  A  N  U  A  R  Y   2  0  2  2"
   ]
  },
  {
   "cell_type": "markdown",
   "id": "f9c52dad",
   "metadata": {},
   "source": [
    "#### 1) Write a program to accept percentage from the user and display the grade according to the following criteria:"
   ]
  },
  {
   "cell_type": "code",
   "execution_count": null,
   "id": "40136854",
   "metadata": {},
   "outputs": [],
   "source": [
    "score = int(input('Ener your Score: '))\n",
    "if score > 90:\n",
    "    print('You got an \"A\"')\n",
    "elif score > 80 and score <= 90:\n",
    "    print('You got a a \"B\"')\n",
    "elif score >=60 and score <= 80:\n",
    "    print('You got a \"C\"')\n",
    "elif score < 60:\n",
    "    print('You got a \"D\"')"
   ]
  },
  {
   "cell_type": "markdown",
   "id": "be8fd6e4",
   "metadata": {},
   "source": [
    "#### 2) Write a program to accept the cost price of a bike and display the road tax to be paid according to the Following criteria:"
   ]
  },
  {
   "cell_type": "code",
   "execution_count": null,
   "id": "413b16d4",
   "metadata": {},
   "outputs": [],
   "source": [
    "price = int(input('Enter the price of the Score: '))\n",
    "if price > 100000:\n",
    "    price = price * 0.85\n",
    "    print(f'The price is {price} after the road tax is deducted')\n",
    "elif price > 50000 and price <= 100000:\n",
    "    price = price * 0.9\n",
    "    print(f'The price is {price} after the road tax is deducted')\n",
    "elif price <= 50000:\n",
    "    price = price * 0.95\n",
    "    print(f'The price is {price} after the road tax is deducted')"
   ]
  },
  {
   "cell_type": "markdown",
   "id": "b0c13842",
   "metadata": {},
   "source": [
    "#### 3) Accept any city from the user and display monuments of that city criteria:"
   ]
  },
  {
   "cell_type": "code",
   "execution_count": 7,
   "id": "41c7d7fc",
   "metadata": {},
   "outputs": [
    {
     "name": "stdout",
     "output_type": "stream",
     "text": [
      "Enter city to display the monuments: \n"
     ]
    }
   ],
   "source": [
    "city = input('Enter city to display the monuments: ').capitalize()\n",
    "if city == 'Delhi':\n",
    "    print('The monument is Red Fort')\n",
    "elif city == 'Agra':\n",
    "    print('The monument is Taj Mahal')\n",
    "elif city == 'Jaipur':\n",
    "    print('The monument is Jal Mahal')"
   ]
  },
  {
   "cell_type": "markdown",
   "id": "8ba415f1",
   "metadata": {},
   "source": [
    "#### 4) Check how many times a given number can be divided by 3 before it is less than or equal to 10."
   ]
  },
  {
   "cell_type": "code",
   "execution_count": 8,
   "id": "17fdca2c",
   "metadata": {},
   "outputs": [
    {
     "name": "stdout",
     "output_type": "stream",
     "text": [
      "Enter a number: 996\n",
      "The number can be divided by 5 times by 3 before being less than or equal to 10\n"
     ]
    }
   ],
   "source": [
    "number = int(input('Enter a number: '))\n",
    "count = 0\n",
    "while number > 10:\n",
    "    number = number / 3 \n",
    "    count += 1\n",
    "print(f'The number can be divided by {count} times by 3 before being less than or equal to 10' )"
   ]
  },
  {
   "cell_type": "markdown",
   "id": "f5f88a79",
   "metadata": {},
   "source": [
    "#### 5) Why and when to use While loop in Python, give a detailed description with example"
   ]
  },
  {
   "cell_type": "markdown",
   "id": "2a58fbd4",
   "metadata": {},
   "source": [
    "A \"While\" Loop is used to repeat a specific block of code an unknown number of times, until a condition is met. When you want a loop to break based on a condition other than the number of times it runs, you should use a while loop. A \"While\" loop is used when you number of time of iteration is unknown.\n",
    "\n",
    "For example:\n",
    "If one is to write a code to tell when one should retire. In a case like this you should use a while loop because you what the code to run till the condition (which is when the person should retire) is met. "
   ]
  },
  {
   "cell_type": "code",
   "execution_count": 9,
   "id": "dcf9e261",
   "metadata": {
    "collapsed": true
   },
   "outputs": [
    {
     "name": "stdout",
     "output_type": "stream",
     "text": [
      "You are still 34 ,you should work\n",
      "You are still 35 ,you should work\n",
      "You are still 36 ,you should work\n",
      "You are still 37 ,you should work\n",
      "You are still 38 ,you should work\n",
      "You are still 39 ,you should work\n",
      "You are still 40 ,you should work\n",
      "You are still 41 ,you should work\n",
      "You are still 42 ,you should work\n",
      "You are still 43 ,you should work\n",
      "You are still 44 ,you should work\n",
      "You are still 45 ,you should work\n",
      "You are still 46 ,you should work\n",
      "You are still 47 ,you should work\n",
      "You are still 48 ,you should work\n",
      "You are still 49 ,you should work\n",
      "You are still 50 ,you should work\n",
      "You are still 51 ,you should work\n",
      "You are still 52 ,you should work\n",
      "You are still 53 ,you should work\n",
      "You are still 54 ,you should work\n",
      "You are still 55 ,you should work\n",
      "You are still 56 ,you should work\n",
      "You are still 57 ,you should work\n",
      "You are still 58 ,you should work\n",
      "You are still 59 ,you should work\n",
      "Its time for retirement!\n"
     ]
    }
   ],
   "source": [
    "age = 34\n",
    "while age < 60:\n",
    "    print('You are still', age, ',you should work')\n",
    "    age += 1\n",
    "else:\n",
    "    print('Its time for retirement!')"
   ]
  },
  {
   "cell_type": "markdown",
   "id": "a7c7af6f",
   "metadata": {},
   "source": [
    "#### 6) Use nested while loop to print 3 different patterns."
   ]
  },
  {
   "cell_type": "code",
   "execution_count": 19,
   "id": "e0334555",
   "metadata": {},
   "outputs": [
    {
     "name": "stdout",
     "output_type": "stream",
     "text": [
      "* \n",
      "* ** \n",
      "* ** *** \n",
      "* ** *** **** \n",
      "* ** *** **** ***** \n",
      "* ** *** **** ***** ****** \n",
      "* ** *** **** ***** ****** ******* \n",
      "* ** *** **** ***** ****** ******* ******** \n",
      "* ** *** **** ***** ****** ******* ******** ********* \n",
      "* ** *** **** ***** ****** ******* ******** ********* ********** \n"
     ]
    }
   ],
   "source": [
    "# Pattern 1\n",
    "i=1\n",
    "while i<=10:\n",
    "    j=1\n",
    "    while j<=i:\n",
    "        print('*'*j,end=\" \")\n",
    "        j=j+1\n",
    "    print(\"\")\n",
    "    i=i+1"
   ]
  },
  {
   "cell_type": "code",
   "execution_count": 20,
   "id": "74e9a499",
   "metadata": {},
   "outputs": [
    {
     "name": "stdout",
     "output_type": "stream",
     "text": [
      "* \n",
      "* * \n",
      "* * * \n",
      "* * * * \n",
      "* * * * * \n",
      "* * * * * * \n",
      "* * * * * * * \n",
      "* * * * * * * * \n",
      "* * * * * * * * * \n",
      "* * * * * * * * * * \n"
     ]
    }
   ],
   "source": [
    "# Pattern 2\n",
    "\n",
    "count = 10\n",
    "iteration = 1\n",
    "while iteration <= count:\n",
    "    n = 1\n",
    "    while n <= iteration :\n",
    "        print(\"*\", end = \" \")\n",
    "        n += 1\n",
    "    iteration += 1\n",
    "    print(\"\")"
   ]
  },
  {
   "cell_type": "code",
   "execution_count": 21,
   "id": "f1967985",
   "metadata": {},
   "outputs": [
    {
     "name": "stdout",
     "output_type": "stream",
     "text": [
      "* * * * * * * * * * \n",
      "* * * * * * * * * \n",
      "* * * * * * * * \n",
      "* * * * * * * \n",
      "* * * * * * \n",
      "* * * * * \n",
      "* * * * \n",
      "* * * \n",
      "* * \n",
      "* \n"
     ]
    }
   ],
   "source": [
    "# Pattern 3\n",
    "\n",
    "count = 10\n",
    "while count > 0:\n",
    "    iteration = count\n",
    "    while iteration > 0:\n",
    "        print(\"*\", end = \" \")\n",
    "        iteration -= 1\n",
    "    count -= 1\n",
    "    print(\"\")"
   ]
  },
  {
   "cell_type": "markdown",
   "id": "f07d3c4a",
   "metadata": {},
   "source": [
    "#### 7) Reverse a While loop to display numbers from 10 - 1"
   ]
  },
  {
   "cell_type": "code",
   "execution_count": null,
   "id": "7c3ed0cb",
   "metadata": {},
   "outputs": [],
   "source": [
    "num = 10"
   ]
  },
  {
   "cell_type": "code",
   "execution_count": null,
   "id": "fb9a8f4e",
   "metadata": {},
   "outputs": [],
   "source": [
    "while num > 0:\n",
    "    print(num)\n",
    "    num -= 1"
   ]
  },
  {
   "cell_type": "markdown",
   "id": "b5454f57",
   "metadata": {},
   "source": [
    "#### 8) Reverse a While loop to display numbers from 10 - 1"
   ]
  },
  {
   "cell_type": "code",
   "execution_count": null,
   "id": "9c582a6f",
   "metadata": {},
   "outputs": [],
   "source": [
    "num = 10"
   ]
  },
  {
   "cell_type": "code",
   "execution_count": null,
   "id": "54a7ea87",
   "metadata": {},
   "outputs": [],
   "source": [
    "while num > 0:\n",
    "    print(num)\n",
    "    num -= 1"
   ]
  },
  {
   "cell_type": "code",
   "execution_count": null,
   "id": "dac9d02d",
   "metadata": {},
   "outputs": [],
   "source": []
  },
  {
   "cell_type": "code",
   "execution_count": null,
   "id": "2b4d09ff",
   "metadata": {},
   "outputs": [],
   "source": []
  },
  {
   "cell_type": "code",
   "execution_count": null,
   "id": "7a987220",
   "metadata": {},
   "outputs": [],
   "source": []
  },
  {
   "cell_type": "code",
   "execution_count": null,
   "id": "5cee4028",
   "metadata": {},
   "outputs": [],
   "source": []
  },
  {
   "cell_type": "code",
   "execution_count": null,
   "id": "de045bca",
   "metadata": {},
   "outputs": [],
   "source": []
  },
  {
   "cell_type": "code",
   "execution_count": null,
   "id": "2d290030",
   "metadata": {},
   "outputs": [],
   "source": []
  },
  {
   "cell_type": "code",
   "execution_count": null,
   "id": "46f4ec1d",
   "metadata": {},
   "outputs": [],
   "source": []
  },
  {
   "cell_type": "code",
   "execution_count": null,
   "id": "ceeb34cf",
   "metadata": {},
   "outputs": [],
   "source": []
  },
  {
   "cell_type": "code",
   "execution_count": null,
   "id": "138b6b49",
   "metadata": {},
   "outputs": [],
   "source": []
  },
  {
   "cell_type": "code",
   "execution_count": null,
   "id": "d4918fc2",
   "metadata": {},
   "outputs": [],
   "source": []
  },
  {
   "cell_type": "code",
   "execution_count": null,
   "id": "a851e800",
   "metadata": {},
   "outputs": [],
   "source": []
  },
  {
   "cell_type": "code",
   "execution_count": null,
   "id": "94ff9ce9",
   "metadata": {},
   "outputs": [],
   "source": []
  }
 ],
 "metadata": {
  "kernelspec": {
   "display_name": "Python 3 (ipykernel)",
   "language": "python",
   "name": "python3"
  },
  "language_info": {
   "codemirror_mode": {
    "name": "ipython",
    "version": 3
   },
   "file_extension": ".py",
   "mimetype": "text/x-python",
   "name": "python",
   "nbconvert_exporter": "python",
   "pygments_lexer": "ipython3",
   "version": "3.10.8"
  }
 },
 "nbformat": 4,
 "nbformat_minor": 5
}
