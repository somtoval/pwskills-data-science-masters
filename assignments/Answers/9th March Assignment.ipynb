{
 "cells": [
  {
   "cell_type": "markdown",
   "metadata": {},
   "source": [
    "#### Q1: What are the Probability Mass Function (PMF) and Probability Density Function (PDF)? Explain with an example."
   ]
  },
  {
   "attachments": {},
   "cell_type": "markdown",
   "metadata": {},
   "source": [
    "Ans - A Probability Mass Function (PMF) is used to describe the probability distribution of a discrete random variable. It maps each possible value of the random variable to its probability of occurrence. The sum of all probabilities in the PMF equals 1.\n",
    "\n",
    "For example, consider a coin toss experiment, where the outcome can be either heads or tails. The random variable X represents the number of heads obtained in two tosses. The PMF of X is given as:\n",
    "\n",
    "X\tP(X)\n",
    "0\t1/4\n",
    "1\t1/2\n",
    "2\t1/4\n",
    "\n",
    "Probability Density Function (PDF) is used to describe the probability distribution of a continuous random variable. It describes the relative likelihood of the variable taking on a given value. Unlike a PMF, the integral of the PDF over its entire range equals 1.\n",
    "\n",
    "For example, consider a continuous random variable X representing the height of individuals in a population. The PDF of X is given as:\n",
    "\n",
    "f(x) = 1/(b-a), a <= x <= b\n",
    "\n",
    "where a and b represent the minimum and maximum height in the population. This PDF tells us that the probability of an individual having a height between a and b is given by the area under the PDF curve between a and b."
   ]
  },
  {
   "attachments": {},
   "cell_type": "markdown",
   "metadata": {},
   "source": [
    "#### Q2: What is Cumulative Density Function (CDF)? Explain with an example. Why CDF is used?"
   ]
  },
  {
   "attachments": {},
   "cell_type": "markdown",
   "metadata": {},
   "source": [
    "Ans - A Cumulative Density Function (CDF) is a mathematical function that describes the probability that a random variable X takes on a value less than or equal to a given value x. It is denoted by F(x) and is defined as:\n",
    "\n",
    "F(x) = P(X <= x)\n",
    "\n",
    "The CDF provides a way to calculate the probability of a random variable X taking on a value less than or equal to a particular value x. It is used to study the probability distribution of a random variable and provides a complete picture of its distribution.\n",
    "\n",
    "For example, consider a continuous random variable X that follows a uniform distribution on the interval [0, 1]. The CDF of X is given by:\n",
    "\n",
    "F(x) = 0, x < 0\n",
    "x, 0 <= x < 1\n",
    "1, x >= 1\n",
    "\n",
    "This CDF tells us that the probability of X being less than or equal to 0 is 0, the probability of X being less than or equal to 0.5 is 0.5, and the probability of X being less than or equal to 1 is 1.\n",
    "\n",
    "The CDF is used in many areas of statistics and probability theory. It is useful in computing various statistical quantities such as moments, percentiles, and expected values. It also allows us to compare different probability distributions and test hypotheses about them. Additionally, the CDF is used in simulation and modeling of stochastic processes.\n",
    "\n",
    "In summary, the CDF is a mathematical function that describes the probability that a random variable takes on a value less than or equal to a given value. It is an important tool in probability theory and statistics for describing and analyzing the probability distribution of a random variable.\n",
    "\n",
    "\n",
    "\n",
    "\n",
    "\n"
   ]
  },
  {
   "attachments": {},
   "cell_type": "markdown",
   "metadata": {},
   "source": [
    "#### Q3: What are some examples of situations where the normal distribution might be used as a model? Explain how the parameters of the normal distribution relate to the shape of the distribution."
   ]
  },
  {
   "attachments": {},
   "cell_type": "markdown",
   "metadata": {},
   "source": [
    "Ans - The normal distribution is widely used as a model in many fields, including statistics, finance, engineering, social sciences, and natural sciences. Some examples of situations where the normal distribution might be used as a model include:\n",
    "\n",
    "Heights of individuals in a population\n",
    "Weights of objects produced by a factory\n",
    "Test scores of a large group of students\n",
    "Errors in measurement devices\n",
    "Returns on investments\n",
    "\n",
    "The normal distribution is characterized by two parameters: the mean (μ) and the standard deviation (σ). The mean determines the location of the center of the distribution, while the standard deviation determines the spread of the distribution.\n",
    "\n",
    "When the mean is zero and the standard deviation is one, the normal distribution is called the standard normal distribution. The standard normal distribution has a bell-shaped curve that is symmetric around the mean. Approximately 68% of the observations in a standard normal distribution lie within one standard deviation of the mean, 95% of the observations lie within two standard deviations of the mean, and 99.7% of the observations lie within three standard deviations of the mean.\n",
    "\n",
    "If the mean is positive, the distribution will be shifted to the right, and if the mean is negative, the distribution will be shifted to the left. If the standard deviation is small, the distribution will be narrow, and if the standard deviation is large, the distribution will be wide."
   ]
  },
  {
   "attachments": {},
   "cell_type": "markdown",
   "metadata": {},
   "source": [
    "#### Q4: Explain the importance of Normal Distribution. Give a few real-life examples of Normal Distribution."
   ]
  },
  {
   "attachments": {},
   "cell_type": "markdown",
   "metadata": {},
   "source": [
    "Ans- The normal distribution is an important concept in statistics and probability theory because it is a versatile model that can approximate many natural phenomena. The normal distribution is also known as the Gaussian distribution, after the mathematician Carl Friedrich Gauss, who first studied its properties.\n",
    "\n",
    "The importance of the normal distribution can be summarized as follows:\n",
    "\n",
    "Approximation of Real-World Phenomena: The normal distribution is a useful model for many real-world phenomena, including physical measurements, financial data, and biological processes. Many natural phenomena can be approximated by the normal distribution due to its symmetrical bell-shaped curve.\n",
    "\n",
    "Central Limit Theorem: The normal distribution is central to the Central Limit Theorem, which states that the sum or average of a large number of independent random variables tends to follow a normal distribution, even if the individual variables themselves are not normally distributed. This theorem is important in statistics because it allows us to use the normal distribution to approximate the behavior of a wide range of statistical quantities.\n",
    "\n",
    "Statistical Inference: Many statistical tests and methods, such as hypothesis testing and confidence intervals, are based on the assumption of normality. When data is normally distributed, it is easier to perform statistical inference and make accurate predictions.\n",
    "\n",
    "Some examples of real-life situations where the normal distribution can be observed include:\n",
    "\n",
    "Heights of individuals in a population\n",
    "Weights of objects produced by a factory\n",
    "Scores on standardized tests such as the SAT or GRE\n",
    "Blood pressure measurements\n",
    "IQ scores\n",
    "Stock market returns"
   ]
  },
  {
   "attachments": {},
   "cell_type": "markdown",
   "metadata": {},
   "source": [
    "#### Q5: What is Bernaulli Distribution? Give an Example. What is the difference between Bernoulli Distribution and Binomial Distribution?"
   ]
  },
  {
   "attachments": {},
   "cell_type": "markdown",
   "metadata": {},
   "source": [
    "Ans - The Bernoulli distribution is a probability distribution that describes the outcomes of a single binary experiment. It is named after the Swiss mathematician Jacob Bernoulli, who first studied it. The Bernoulli distribution has only two possible outcomes, often called \"success\" and \"failure,\" and is denoted by the parameter p, which represents the probability of success.\n",
    "\n",
    "For example, flipping a coin is a binary experiment that can be modeled by a Bernoulli distribution, where the outcome of \"heads\" is a success with probability p=0.5 and the outcome of \"tails\" is a failure with probability 1-p=0.5.\n",
    "\n",
    "The probability mass function (PMF) of the Bernoulli distribution is given by:\n",
    "\n",
    "P(X=k) = p^k * (1-p)^(1-k), for k=0 or 1\n",
    "\n",
    "where X is a random variable that takes on the values 0 or 1, and k is the value that X takes on.\n",
    "\n",
    "The Bernoulli distribution is closely related to the binomial distribution, which describes the number of successes in a fixed number of independent binary experiments. The binomial distribution is characterized by two parameters: the number of trials (n) and the probability of success in each trial (p).\n",
    "\n",
    "The main difference between the Bernoulli and binomial distributions is that the Bernoulli distribution describes the outcome of a single experiment, whereas the binomial distribution describes the outcome of a fixed number of independent experiments. In other words, the binomial distribution is the sum of n independent and identically distributed Bernoulli trials.\n",
    "\n",
    "The probability mass function (PMF) of the binomial distribution is given by:\n",
    "\n",
    "P(X=k) = (n choose k) * p^k * (1-p)^(n-k), for k=0, 1, 2, ..., n\n",
    "\n",
    "where X is a random variable that represents the number of successes in n independent Bernoulli trials, and (n choose k) is the binomial coefficient, which counts the number of ways to choose k successes from n trials."
   ]
  },
  {
   "attachments": {},
   "cell_type": "markdown",
   "metadata": {},
   "source": [
    "#### Q6. Consider a dataset with a mean of 50 and a standard deviation of 10. If we assume that the dataset is normally distributed, what is the probability that a randomly selected observation will be greater than 60? Use the appropriate formula and show your calculations."
   ]
  },
  {
   "attachments": {},
   "cell_type": "markdown",
   "metadata": {},
   "source": [
    "Ans - We can use the standard normal distribution formula to solve this problem. We first need to convert the given values to z-scores using the formula:\n",
    "\n",
    "z = (x - μ) / σ\n",
    "\n",
    "Where x is the value we want to find the probability for, μ is the mean of the distribution, and σ is the standard deviation.\n",
    "\n",
    "So for x = 60, μ = 50, and σ = 10, we have:\n",
    "\n",
    "z = (60 - 50) / 10\n",
    "z = 1\n",
    "\n",
    "Now we can look up the probability of a z-score of 1 or greater in a standard normal distribution table or use a calculator with the appropriate function. The probability of a z-score of 1 or greater is approximately 0.1587.\n",
    "\n",
    "Therefore, the probability that a randomly selected observation will be greater than 60 is 0.1587 or about 15.87%."
   ]
  },
  {
   "attachments": {},
   "cell_type": "markdown",
   "metadata": {},
   "source": [
    "#### Q7: Explain uniform Distribution with an example."
   ]
  },
  {
   "attachments": {},
   "cell_type": "markdown",
   "metadata": {},
   "source": [
    "Ans - Uniform distribution is a probability distribution where each value in a given range has an equal probability of occurring. It is also known as a rectangular distribution because the probability density function forms a rectangle. In other words, the values are uniformly spread out across the given range.\n",
    "\n",
    "A common example of a uniform distribution is rolling a fair six-sided die. Each side has an equal probability of landing face up, and there is an equal probability of getting any number from 1 to 6. Since each outcome has the same probability, the distribution is uniform.\n",
    "\n",
    "Another example of a uniform distribution is selecting a random number between 1 and 10. Each number has an equal chance of being selected, and the distribution is uniform across the range of possible values."
   ]
  },
  {
   "attachments": {},
   "cell_type": "markdown",
   "metadata": {},
   "source": [
    "#### Q8: What is the z score? State the importance of the z score."
   ]
  },
  {
   "attachments": {},
   "cell_type": "markdown",
   "metadata": {},
   "source": [
    "Ans - A z-score, also known as a standard score, is a measure of how many standard deviations a data point is from the mean of its distribution. It is calculated using the formula:\n",
    "\n",
    "z = (x - μ) / σ\n",
    "\n",
    "where x is the data point, μ is the mean of the distribution, and σ is the standard deviation of the distribution.\n",
    "\n",
    "The importance of z-scores lies in their ability to standardize data from different distributions, making it possible to compare data that have different scales or units of measurement. Z-scores are especially useful in statistical analyses such as hypothesis testing, confidence intervals, and regression analysis.\n",
    "\n",
    "Some of the main uses and benefits of z-scores are:\n",
    "\n",
    "Comparability: Z-scores enable comparisons of data from different distributions since they standardize the data onto a common scale.\n",
    "\n",
    "Outlier detection: Z-scores can help identify outliers in a data set. Any data point with a z-score greater than 3 or less than -3 is considered an outlier.\n",
    "\n",
    "Normality testing: Z-scores can help determine if a distribution is normal or not. If the majority of the z-scores fall between -2 and 2, the distribution is likely to be normal.\n",
    "\n",
    "Probability calculation: Z-scores can be used to calculate the probability of a given value occurring in a normal distribution."
   ]
  },
  {
   "attachments": {},
   "cell_type": "markdown",
   "metadata": {},
   "source": [
    "#### Q9: What is Central Limit Theorem? State the significance of the Central Limit Theorem."
   ]
  },
  {
   "attachments": {},
   "cell_type": "markdown",
   "metadata": {},
   "source": [
    "Ans - The Central Limit Theorem (CLT) is a fundamental concept in statistics that states that the sample means of a large number of independent and identically distributed (iid) random variables will follow a normal distribution, regardless of the original distribution of the individual random variables.\n",
    "\n",
    "In other words, if we take a large number of random samples from a population, the mean of each sample will be normally distributed, even if the original population is not normally distributed. This is true regardless of the distribution of the original population, as long as the sample size is sufficiently large.\n",
    "\n",
    "The significance of the Central Limit Theorem is that it allows us to make statistical inferences about a population based on a sample. For example, if we are interested in estimating the population mean, we can take a random sample from the population, calculate the sample mean, and use the normal distribution to estimate the probability that the true population mean falls within a certain range.\n",
    "\n",
    "The CLT is also important in hypothesis testing and confidence interval estimation. It provides the theoretical foundation for many statistical techniques used in data analysis and is widely used in fields such as finance, economics, engineering, and social sciences.\n",
    "\n"
   ]
  },
  {
   "attachments": {},
   "cell_type": "markdown",
   "metadata": {},
   "source": [
    "#### Q10: State the assumptions of the Central Limit Theorem."
   ]
  },
  {
   "attachments": {},
   "cell_type": "markdown",
   "metadata": {},
   "source": [
    "Ans - The Central Limit Theorem (CLT) is a fundamental concept in statistics that describes the distribution of sample means from a population. The assumptions of the CLT are:\n",
    "\n",
    "Random Sampling: The samples should be selected randomly from the population, with each individual having an equal chance of being selected.\n",
    "\n",
    "Independence: The samples should be independent of each other, meaning that the selection of one sample does not influence the selection of another sample.\n",
    "\n",
    "Sample Size: The sample size should be sufficiently large. There is no specific number that defines \"sufficiently large\", but generally, a sample size of at least 30 is considered adequate for the CLT to apply.\n",
    "\n",
    "Finite Variance: The population should have a finite variance. This assumption is necessary to ensure that the sample mean has a finite variance as well.\n",
    "\n",
    "Identically Distributed: The population should be identically distributed, meaning that the distribution of the population should be the same for each sample.\n",
    "\n"
   ]
  },
  {
   "cell_type": "markdown",
   "metadata": {},
   "source": []
  }
 ],
 "metadata": {
  "language_info": {
   "name": "python"
  },
  "orig_nbformat": 4
 },
 "nbformat": 4,
 "nbformat_minor": 2
}
