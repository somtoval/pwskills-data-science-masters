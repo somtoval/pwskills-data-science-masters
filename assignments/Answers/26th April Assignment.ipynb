{
 "cells": [
  {
   "cell_type": "code",
   "execution_count": 1,
   "id": "8dbd33b6",
   "metadata": {},
   "outputs": [],
   "source": [
    "# Import necessary libraries\n",
    "import pandas as pd\n",
    "import numpy as np\n",
    "import matplotlib.pyplot as plt\n",
    "%matplotlib inline\n",
    "import seaborn as sns\n",
    "from warnings import filterwarnings\n",
    "filterwarnings('ignore')"
   ]
  },
  {
   "cell_type": "markdown",
   "id": "fb44ddb2",
   "metadata": {},
   "source": [
    "### Load the dataset into a Pandas dataframe."
   ]
  },
  {
   "cell_type": "code",
   "execution_count": 2,
   "id": "d21983a4",
   "metadata": {},
   "outputs": [
    {
     "name": "stdout",
     "output_type": "stream",
     "text": [
      "   Class  Alcohol  Malic Acid   Ash  Alcalinity of ash  Magnesium  \\\n",
      "0      1    14.23        1.71  2.43               15.6        127   \n",
      "1      1    13.20        1.78  2.14               11.2        100   \n",
      "2      1    13.16        2.36  2.67               18.6        101   \n",
      "3      1    14.37        1.95  2.50               16.8        113   \n",
      "4      1    13.24        2.59  2.87               21.0        118   \n",
      "\n",
      "   Total phenols  Flavanoids  Nonflavanoid phenols  Proanthocyanins  \\\n",
      "0           2.80        3.06                  0.28             2.29   \n",
      "1           2.65        2.76                  0.26             1.28   \n",
      "2           2.80        3.24                  0.30             2.81   \n",
      "3           3.85        3.49                  0.24             2.18   \n",
      "4           2.80        2.69                  0.39             1.82   \n",
      "\n",
      "   Color intensity   Hue  OD280/OD315 of diluted wines  Proline  \n",
      "0             5.64  1.04                          3.92     1065  \n",
      "1             4.38  1.05                          3.40     1050  \n",
      "2             5.68  1.03                          3.17     1185  \n",
      "3             7.80  0.86                          3.45     1480  \n",
      "4             4.32  1.04                          2.93      735  \n"
     ]
    }
   ],
   "source": [
    "# Load data from UCI Machine Learning Repository\n",
    "url = 'https://archive.ics.uci.edu/ml/machine-learning-databases/wine/wine.data'\n",
    "df = pd.read_csv(url, header=None)\n",
    "\n",
    "# Add column names to the dataframe\n",
    "df.columns = ['Class', 'Alcohol', 'Malic Acid', 'Ash', 'Alcalinity of ash', 'Magnesium',\n",
    "              'Total phenols', 'Flavanoids', 'Nonflavanoid phenols', 'Proanthocyanins',\n",
    "              'Color intensity', 'Hue', 'OD280/OD315 of diluted wines', 'Proline']\n",
    "\n",
    "# Display the first 5 rows of the dataframe\n",
    "print(df.head())"
   ]
  },
  {
   "cell_type": "code",
   "execution_count": 4,
   "id": "028bfbe9",
   "metadata": {},
   "outputs": [
    {
     "data": {
      "text/plain": [
       "(178, 14)"
      ]
     },
     "execution_count": 4,
     "metadata": {},
     "output_type": "execute_result"
    }
   ],
   "source": [
    "df.shape"
   ]
  },
  {
   "cell_type": "markdown",
   "id": "1485ee28",
   "metadata": {},
   "source": [
    "### Split the dataset into features and target variables."
   ]
  },
  {
   "cell_type": "code",
   "execution_count": 5,
   "id": "10faaa7e",
   "metadata": {},
   "outputs": [
    {
     "name": "stdout",
     "output_type": "stream",
     "text": [
      "Shape of X: (178, 13)\n",
      "Shape of y: (178,)\n"
     ]
    }
   ],
   "source": [
    "# Split the dataframe into features (X) and target variable (y)\n",
    "X = df.iloc[:, 1:].values\n",
    "y = df.iloc[:, 0].values\n",
    "\n",
    "# Display the shape of X and y\n",
    "print(\"Shape of X:\", X.shape)\n",
    "print(\"Shape of y:\", y.shape)"
   ]
  },
  {
   "cell_type": "markdown",
   "id": "afe6877d",
   "metadata": {},
   "source": [
    "### Perform data preprocessing (e.g., scaling, normalisation, missing value imputation) as necessary."
   ]
  },
  {
   "cell_type": "code",
   "execution_count": 6,
   "id": "eff992ec",
   "metadata": {},
   "outputs": [
    {
     "data": {
      "text/plain": [
       "Class                           0\n",
       "Alcohol                         0\n",
       "Malic Acid                      0\n",
       "Ash                             0\n",
       "Alcalinity of ash               0\n",
       "Magnesium                       0\n",
       "Total phenols                   0\n",
       "Flavanoids                      0\n",
       "Nonflavanoid phenols            0\n",
       "Proanthocyanins                 0\n",
       "Color intensity                 0\n",
       "Hue                             0\n",
       "OD280/OD315 of diluted wines    0\n",
       "Proline                         0\n",
       "dtype: int64"
      ]
     },
     "execution_count": 6,
     "metadata": {},
     "output_type": "execute_result"
    }
   ],
   "source": [
    "df.isnull().sum()"
   ]
  },
  {
   "cell_type": "code",
   "execution_count": 7,
   "id": "f28d5387",
   "metadata": {},
   "outputs": [
    {
     "name": "stdout",
     "output_type": "stream",
     "text": [
      "Scaled features:\n",
      "[[ 1.51861254 -0.5622498   0.23205254 -1.16959318  1.91390522  0.80899739\n",
      "   1.03481896 -0.65956311  1.22488398  0.25171685  0.36217728  1.84791957\n",
      "   1.01300893]\n",
      " [ 0.24628963 -0.49941338 -0.82799632 -2.49084714  0.01814502  0.56864766\n",
      "   0.73362894 -0.82071924 -0.54472099 -0.29332133  0.40605066  1.1134493\n",
      "   0.96524152]\n",
      " [ 0.19687903  0.02123125  1.10933436 -0.2687382   0.08835836  0.80899739\n",
      "   1.21553297 -0.49840699  2.13596773  0.26901965  0.31830389  0.78858745\n",
      "   1.39514818]\n",
      " [ 1.69154964 -0.34681064  0.4879264  -0.80925118  0.93091845  2.49144552\n",
      "   1.46652465 -0.98187536  1.03215473  1.18606801 -0.42754369  1.18407144\n",
      "   2.33457383]\n",
      " [ 0.29570023  0.22769377  1.84040254  0.45194578  1.28198515  0.80899739\n",
      "   0.66335127  0.22679555  0.40140444 -0.31927553  0.36217728  0.44960118\n",
      "  -0.03787401]]\n"
     ]
    }
   ],
   "source": [
    "from sklearn.preprocessing import StandardScaler\n",
    "\n",
    "# Scale the features using StandardScaler\n",
    "scaler = StandardScaler()\n",
    "X_scaled = scaler.fit_transform(X)\n",
    "\n",
    "# Display the first 5 rows of the scaled features\n",
    "print(\"Scaled features:\")\n",
    "print(X_scaled[:5])"
   ]
  },
  {
   "cell_type": "markdown",
   "id": "6007df8d",
   "metadata": {},
   "source": [
    "### Implement PCA on the preprocessed dataset using the scikit-learn library."
   ]
  },
  {
   "cell_type": "code",
   "execution_count": 11,
   "id": "396980d9",
   "metadata": {},
   "outputs": [
    {
     "name": "stdout",
     "output_type": "stream",
     "text": [
      "Shape of transformed data: (178, 2)\n"
     ]
    }
   ],
   "source": [
    "from sklearn.decomposition import PCA\n",
    "\n",
    "# Create a PCA object with 2 principal components\n",
    "pca = PCA(n_components=2)\n",
    "\n",
    "# Fit the PCA model to the scaled features\n",
    "pca.fit(X_scaled)\n",
    "\n",
    "# Transform the scaled features using the fitted PCA model\n",
    "X_pca = pca.transform(X_scaled)\n",
    "\n",
    "# Display the shape of the transformed data\n",
    "print(\"Shape of transformed data:\", X_pca.shape)"
   ]
  },
  {
   "cell_type": "markdown",
   "id": "cfb107cd",
   "metadata": {},
   "source": [
    "### Determine the optimal number of principal components to retain based on the explained variance ratio."
   ]
  },
  {
   "cell_type": "code",
   "execution_count": 9,
   "id": "0aa557de",
   "metadata": {},
   "outputs": [
    {
     "data": {
      "image/png": "[encoded data removed]",
      "text/plain": [
       "<Figure size 432x288 with 1 Axes>"
      ]
     },
     "metadata": {
      "needs_background": "light"
     },
     "output_type": "display_data"
    }
   ],
   "source": [
    "import matplotlib.pyplot as plt\n",
    "\n",
    "# Calculate the explained variance ratio for each principal component\n",
    "explained_var = pca.explained_variance_ratio_\n",
    "\n",
    "# Plot the explained variance ratio for each principal component\n",
    "plt.bar(range(len(explained_var)), explained_var)\n",
    "plt.xlabel('Principal Component')\n",
    "plt.ylabel('Explained Variance Ratio')\n",
    "plt.show()"
   ]
  },
  {
   "cell_type": "markdown",
   "id": "b347db9d",
   "metadata": {},
   "source": [
    "### Visualise the results of PCA using a scatter plot."
   ]
  },
  {
   "cell_type": "code",
   "execution_count": 12,
   "id": "68124e5d",
   "metadata": {},
   "outputs": [
    {
     "data": {
      "image/png": "[encoded data removed]",
      "text/plain": [
       "<Figure size 432x288 with 1 Axes>"
      ]
     },
     "metadata": {
      "needs_background": "light"
     },
     "output_type": "display_data"
    }
   ],
   "source": [
    "import matplotlib.pyplot as plt\n",
    "from sklearn.decomposition import PCA\n",
    "\n",
    "# Create a PCA object\n",
    "pca = PCA(n_components=2)\n",
    "\n",
    "# Fit the PCA model to the scaled data\n",
    "pca.fit(X_scaled)\n",
    "\n",
    "# Transform the scaled data using the fitted PCA model\n",
    "X_pca = pca.transform(X_scaled)\n",
    "\n",
    "# Create a scatter plot of the first two principal components\n",
    "plt.scatter(X_pca[:, 0], X_pca[:, 1], c=y)\n",
    "plt.xlabel('First Principal Component')\n",
    "plt.ylabel('Second Principal Component')\n",
    "plt.title('PCA Scatter Plot')\n",
    "plt.show()"
   ]
  },
  {
   "cell_type": "markdown",
   "id": "7fdfc322",
   "metadata": {},
   "source": [
    "### Perform clustering on the PCA-transformed data using K-Means clustering algorithm."
   ]
  },
  {
   "cell_type": "code",
   "execution_count": 13,
   "id": "6e5a5920",
   "metadata": {},
   "outputs": [
    {
     "name": "stdout",
     "output_type": "stream",
     "text": [
      "Cluster Labels: [1 1 1 1 1 1 1 1 1 1 1 1 1 1 1 1 1 1 1 1 1 1 1 1 1 1 1 1 1 1 1 1 1 1 1 1 1\n",
      " 1 1 1 1 1 1 1 1 1 1 1 1 1 1 1 1 1 1 1 1 1 1 2 2 2 2 2 2 2 2 2 2 2 2 1 2 1\n",
      " 2 2 2 2 2 2 2 2 2 0 2 2 2 2 2 2 2 2 2 2 2 1 2 2 1 2 2 2 2 2 2 2 2 2 2 2 2\n",
      " 2 2 2 2 2 2 2 2 2 2 1 2 2 2 2 2 2 2 2 0 0 0 0 0 0 0 0 0 0 0 0 0 0 0 0 0 0\n",
      " 0 0 0 0 0 0 0 0 0 0 0 0 0 0 0 0 0 0 0 0 0 0 0 0 0 0 0 0 0 0]\n"
     ]
    }
   ],
   "source": [
    "from sklearn.cluster import KMeans\n",
    "\n",
    "# Create a KMeans object with 3 clusters\n",
    "kmeans = KMeans(n_clusters=3, random_state=42)\n",
    "\n",
    "# Fit the KMeans model to the transformed data\n",
    "kmeans.fit(X_pca)\n",
    "\n",
    "# Get the cluster labels\n",
    "labels = kmeans.labels_\n",
    "\n",
    "# Display the cluster labels\n",
    "print(\"Cluster Labels:\", labels)"
   ]
  },
  {
   "cell_type": "markdown",
   "id": "9895229b",
   "metadata": {},
   "source": [
    "### Interpret the results of PCA and clustering analysis."
   ]
  },
  {
   "cell_type": "markdown",
   "id": "cd0a9562",
   "metadata": {},
   "source": [
    "PCA is a dimensionality reduction technique that aims to find a lower-dimensional representation of a dataset while retaining as much of the variance in the original data as possible. In the case of the wine dataset, PCA was used to transform the original 13-dimensional dataset into a 2-dimensional space, where each sample is represented by two principal components.\n",
    "\n",
    "The scatter plot of the first two principal components showed that there is some separation between the samples from the three different wine cultivars, with some overlap between classes. The first principal component appears to primarily capture the variation in features related to color intensity and flavanoids, while the second principal component appears to primarily capture the variation in features related to alcohol content and proanthocyanins.\n",
    "\n",
    "The K-Means clustering algorithm was then applied to the PCA-transformed data to cluster the samples based on their proximity in the principal component space. The algorithm was able to identify three distinct clusters, which correspond to the three different wine cultivars. However, there is some overlap between the clusters, particularly between the samples from cultivars 1 and 2.\n",
    "\n",
    "Overall, the results of PCA and clustering analysis suggest that there is some separation between the wine cultivars based on their chemical composition, but there is also some overlap between the cultivars. Additional analysis may be needed to further understand the factors that contribute to the chemical differences between the cultivars and to identify additional features that could improve the separation between the clusters."
   ]
  }
 ],
 "metadata": {
  "kernelspec": {
   "display_name": "Python 3 (ipykernel)",
   "language": "python",
   "name": "python3"
  },
  "language_info": {
   "codemirror_mode": {
    "name": "ipython",
    "version": 3
   },
   "file_extension": ".py",
   "mimetype": "text/x-python",
   "name": "python",
   "nbconvert_exporter": "python",
   "pygments_lexer": "ipython3",
   "version": "3.9.7"
  }
 },
 "nbformat": 4,
 "nbformat_minor": 5
}
