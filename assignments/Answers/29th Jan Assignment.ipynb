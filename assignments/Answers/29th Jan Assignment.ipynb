{
 "cells": [
  {
   "cell_type": "markdown",
   "id": "56f5bc3f",
   "metadata": {},
   "source": [
    "                                      2  9   t  h   J  A  N  U  A  R  Y   2  0  2  2"
   ]
  },
  {
   "cell_type": "markdown",
   "id": "1661df9e",
   "metadata": {},
   "source": [
    "#### 1) Who developed Python programming language?"
   ]
  },
  {
   "cell_type": "markdown",
   "id": "959037f4",
   "metadata": {},
   "source": [
    "Guido van Rossum"
   ]
  },
  {
   "cell_type": "markdown",
   "id": "7f737137",
   "metadata": {},
   "source": [
    "#### 2) Which type of programming does Python support?"
   ]
  },
  {
   "cell_type": "markdown",
   "id": "e67965ac",
   "metadata": {},
   "source": [
    "Object Oriented Programming"
   ]
  },
  {
   "cell_type": "markdown",
   "id": "406dec70",
   "metadata": {},
   "source": [
    "#### 3) Is Python case sensitive with dealing with Identifiers?"
   ]
  },
  {
   "cell_type": "markdown",
   "id": "f02d7ef7",
   "metadata": {},
   "source": [
    "Yes it is "
   ]
  },
  {
   "cell_type": "markdown",
   "id": "9b8a6614",
   "metadata": {},
   "source": [
    "#### 4) What is the correct extension of a Python file?"
   ]
  },
  {
   "cell_type": "markdown",
   "id": "87378d5a",
   "metadata": {},
   "source": [
    ".py this the correct extension of a Python file"
   ]
  },
  {
   "cell_type": "markdown",
   "id": "8fc30e6f",
   "metadata": {},
   "source": [
    "#### 5) Is Python code compiled or Interpreted?"
   ]
  },
  {
   "cell_type": "markdown",
   "id": "eacd2f08",
   "metadata": {},
   "source": [
    "Python codes are Interpreted"
   ]
  },
  {
   "cell_type": "markdown",
   "id": "9be0adcb",
   "metadata": {},
   "source": [
    "#### 6) Name a few blocks of code used to define in Python language?"
   ]
  },
  {
   "cell_type": "code",
   "execution_count": 5,
   "id": "14b55483",
   "metadata": {},
   "outputs": [],
   "source": [
    "name = 'Somto'"
   ]
  },
  {
   "cell_type": "code",
   "execution_count": 14,
   "id": "cb649977",
   "metadata": {},
   "outputs": [
    {
     "name": "stdout",
     "output_type": "stream",
     "text": [
      "S\n",
      "o\n",
      "m\n",
      "t\n",
      "o\n"
     ]
    }
   ],
   "source": [
    "# This code block is an for statement\n",
    "for i in name:\n",
    "    print(i)"
   ]
  },
  {
   "cell_type": "markdown",
   "id": "29161892",
   "metadata": {},
   "source": [
    "#### 7) State a character used to give single-line comment in Python?"
   ]
  },
  {
   "cell_type": "markdown",
   "id": "f7e6fd3b",
   "metadata": {},
   "source": [
    "Is the single-line comment character in Python"
   ]
  },
  {
   "cell_type": "markdown",
   "id": "c2f56505",
   "metadata": {},
   "source": [
    "#### 8) Mention functions which can help find the version of Python we are working on?"
   ]
  },
  {
   "cell_type": "markdown",
   "id": "18432aae",
   "metadata": {},
   "source": [
    "The function sys.version can help us to find the version of python that we are currently working on"
   ]
  },
  {
   "cell_type": "code",
   "execution_count": 16,
   "id": "2ca94990",
   "metadata": {},
   "outputs": [
    {
     "name": "stdout",
     "output_type": "stream",
     "text": [
      "3.10.8 (tags/v3.10.8:aaaf517, Oct 11 2022, 16:50:30) [MSC v.1933 64 bit (AMD64)]\n"
     ]
    }
   ],
   "source": [
    "import sys\n",
    "print(sys.version)"
   ]
  },
  {
   "cell_type": "markdown",
   "id": "9cce57d8",
   "metadata": {},
   "source": [
    "#### 9) Python supports the creation of anonymous functions at runtime, using a construct called?"
   ]
  },
  {
   "cell_type": "markdown",
   "id": "de8dd202",
   "metadata": {},
   "source": [
    "Lambda"
   ]
  },
  {
   "cell_type": "markdown",
   "id": "47b885a2",
   "metadata": {},
   "source": [
    "#### 10) What does pip stands for in Python?"
   ]
  },
  {
   "cell_type": "markdown",
   "id": "dd270a19",
   "metadata": {},
   "source": [
    "pip stands for \"preferred installer program\""
   ]
  },
  {
   "cell_type": "markdown",
   "id": "29c76516",
   "metadata": {},
   "source": [
    "#### 11) Mention a few in-built functions in Python?"
   ]
  },
  {
   "cell_type": "markdown",
   "id": "536ac433",
   "metadata": {},
   "source": [
    "- len()\n",
    "- str()\n",
    "- min()\n",
    "- max()\n",
    "- input()"
   ]
  },
  {
   "cell_type": "markdown",
   "id": "3c07c2f0",
   "metadata": {},
   "source": [
    "#### 12) What is the maximum possible length of an identifier in Python?"
   ]
  },
  {
   "cell_type": "markdown",
   "id": "bfb34e1d",
   "metadata": {},
   "source": [
    "An identifier can have a maximum length of 79 characters in Python"
   ]
  },
  {
   "cell_type": "markdown",
   "id": "f2ddf48c",
   "metadata": {},
   "source": [
    "#### 13) What is the benefits of using Python?"
   ]
  },
  {
   "cell_type": "markdown",
   "id": "c934046d",
   "metadata": {},
   "source": [
    "- It has easy synthax\n",
    "- It has alot of libraries\n",
    "- It is free and open source\n",
    "- It is a Dynamically typed language"
   ]
  },
  {
   "cell_type": "markdown",
   "id": "59cb7757",
   "metadata": {},
   "source": [
    "#### 14) How is memory managed in Python?"
   ]
  },
  {
   "cell_type": "markdown",
   "id": "8faf9784",
   "metadata": {},
   "source": [
    "Memory in Python is managed by Python private heap space. All Python objects and data structures are located in a private heap. This private heap is taken care of by Python Interpreter itself, and a programmer doesn't have access to this private heap"
   ]
  },
  {
   "cell_type": "markdown",
   "id": "e597df26",
   "metadata": {},
   "source": [
    "#### 15) How to install Python on Windows and set path variables"
   ]
  },
  {
   "cell_type": "markdown",
   "id": "87467cf1",
   "metadata": {},
   "source": [
    "You can download python from https://www.python.org/downloads/ and open the .exe file to install it, then search \"environment variables\" in your PC then click on \"environment variables\" button, under system variables select \"path\" and click on \"edit\" button and click \"new\". Go to your file system and copy the file path of the installed Python and add it to the system list of file path and then click \"ok\"."
   ]
  },
  {
   "cell_type": "markdown",
   "id": "db81de80",
   "metadata": {},
   "source": [
    "#### 16) Is Indentation required in Python?"
   ]
  },
  {
   "cell_type": "markdown",
   "id": "f4df5ae8",
   "metadata": {},
   "source": [
    "Yes it is required"
   ]
  },
  {
   "cell_type": "code",
   "execution_count": null,
   "id": "0e08cecc",
   "metadata": {},
   "outputs": [],
   "source": []
  },
  {
   "cell_type": "code",
   "execution_count": null,
   "id": "a6e1b76e",
   "metadata": {},
   "outputs": [],
   "source": []
  },
  {
   "cell_type": "code",
   "execution_count": null,
   "id": "12031a3f",
   "metadata": {},
   "outputs": [],
   "source": []
  },
  {
   "cell_type": "code",
   "execution_count": null,
   "id": "9f5a35c6",
   "metadata": {},
   "outputs": [],
   "source": []
  },
  {
   "cell_type": "code",
   "execution_count": null,
   "id": "5c79b881",
   "metadata": {},
   "outputs": [],
   "source": []
  },
  {
   "cell_type": "code",
   "execution_count": null,
   "id": "abd0bc42",
   "metadata": {},
   "outputs": [],
   "source": []
  }
 ],
 "metadata": {
  "kernelspec": {
   "display_name": "Python 3 (ipykernel)",
   "language": "python",
   "name": "python3"
  },
  "language_info": {
   "codemirror_mode": {
    "name": "ipython",
    "version": 3
   },
   "file_extension": ".py",
   "mimetype": "text/x-python",
   "name": "python",
   "nbconvert_exporter": "python",
   "pygments_lexer": "ipython3",
   "version": "3.10.8"
  }
 },
 "nbformat": 4,
 "nbformat_minor": 5
}
