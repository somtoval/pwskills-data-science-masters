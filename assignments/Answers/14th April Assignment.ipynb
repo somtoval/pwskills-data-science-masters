{
 "cells": [
  {
   "cell_type": "markdown",
   "id": "1c6034be",
   "metadata": {},
   "source": [
    "__Build a random forest classifier to predict the risk of heart disease based on a dataset of patient\n",
    "information. The dataset contains 303 instances with 14 features, including age, sex, chest pain type,\n",
    "resting blood pressure, serum cholesterol, and maximum heart rate achieved.__\n",
    "\n",
    "__Dataset link:__ https://drive.google.com/file/d/1bGoIE4Z2kG5nyh-fGZAJ7LH0ki3UfmSJ/view?usp=share_link"
   ]
  },
  {
   "cell_type": "markdown",
   "id": "1f995da6",
   "metadata": {},
   "source": [
    "# Q1. Preprocess the dataset by handling missing values, encoding categorical variables, and scaling the numerical features if necessary."
   ]
  },
  {
   "cell_type": "code",
   "execution_count": 1,
   "id": "4e43e02f",
   "metadata": {},
   "outputs": [],
   "source": [
    "# Import nessesary libraries\n",
    "\n",
    "import numpy as np\n",
    "import pandas as pd\n",
    "import matplotlib.pyplot as plt\n",
    "import seaborn as sns\n",
    "%matplotlib inline"
   ]
  },
  {
   "cell_type": "code",
   "execution_count": 2,
   "id": "025fdb97",
   "metadata": {},
   "outputs": [
    {
     "data": {
      "text/html": [
       "<div>\n",
       "<style scoped>\n",
       "    .dataframe tbody tr th:only-of-type {\n",
       "        vertical-align: middle;\n",
       "    }\n",
       "\n",
       "    .dataframe tbody tr th {\n",
       "        vertical-align: top;\n",
       "    }\n",
       "\n",
       "    .dataframe thead th {\n",
       "        text-align: right;\n",
       "    }\n",
       "</style>\n",
       "<table border=\"1\" class=\"dataframe\">\n",
       "  <thead>\n",
       "    <tr style=\"text-align: right;\">\n",
       "      <th></th>\n",
       "      <th>age</th>\n",
       "      <th>sex</th>\n",
       "      <th>cp</th>\n",
       "      <th>trestbps</th>\n",
       "      <th>chol</th>\n",
       "      <th>fbs</th>\n",
       "      <th>restecg</th>\n",
       "      <th>thalach</th>\n",
       "      <th>exang</th>\n",
       "      <th>oldpeak</th>\n",
       "      <th>slope</th>\n",
       "      <th>ca</th>\n",
       "      <th>thal</th>\n",
       "      <th>target</th>\n",
       "    </tr>\n",
       "  </thead>\n",
       "  <tbody>\n",
       "    <tr>\n",
       "      <th>0</th>\n",
       "      <td>63</td>\n",
       "      <td>1</td>\n",
       "      <td>3</td>\n",
       "      <td>145</td>\n",
       "      <td>233</td>\n",
       "      <td>1</td>\n",
       "      <td>0</td>\n",
       "      <td>150</td>\n",
       "      <td>0</td>\n",
       "      <td>2.3</td>\n",
       "      <td>0</td>\n",
       "      <td>0</td>\n",
       "      <td>1</td>\n",
       "      <td>1</td>\n",
       "    </tr>\n",
       "    <tr>\n",
       "      <th>1</th>\n",
       "      <td>37</td>\n",
       "      <td>1</td>\n",
       "      <td>2</td>\n",
       "      <td>130</td>\n",
       "      <td>250</td>\n",
       "      <td>0</td>\n",
       "      <td>1</td>\n",
       "      <td>187</td>\n",
       "      <td>0</td>\n",
       "      <td>3.5</td>\n",
       "      <td>0</td>\n",
       "      <td>0</td>\n",
       "      <td>2</td>\n",
       "      <td>1</td>\n",
       "    </tr>\n",
       "    <tr>\n",
       "      <th>2</th>\n",
       "      <td>41</td>\n",
       "      <td>0</td>\n",
       "      <td>1</td>\n",
       "      <td>130</td>\n",
       "      <td>204</td>\n",
       "      <td>0</td>\n",
       "      <td>0</td>\n",
       "      <td>172</td>\n",
       "      <td>0</td>\n",
       "      <td>1.4</td>\n",
       "      <td>2</td>\n",
       "      <td>0</td>\n",
       "      <td>2</td>\n",
       "      <td>1</td>\n",
       "    </tr>\n",
       "    <tr>\n",
       "      <th>3</th>\n",
       "      <td>56</td>\n",
       "      <td>1</td>\n",
       "      <td>1</td>\n",
       "      <td>120</td>\n",
       "      <td>236</td>\n",
       "      <td>0</td>\n",
       "      <td>1</td>\n",
       "      <td>178</td>\n",
       "      <td>0</td>\n",
       "      <td>0.8</td>\n",
       "      <td>2</td>\n",
       "      <td>0</td>\n",
       "      <td>2</td>\n",
       "      <td>1</td>\n",
       "    </tr>\n",
       "    <tr>\n",
       "      <th>4</th>\n",
       "      <td>57</td>\n",
       "      <td>0</td>\n",
       "      <td>0</td>\n",
       "      <td>120</td>\n",
       "      <td>354</td>\n",
       "      <td>0</td>\n",
       "      <td>1</td>\n",
       "      <td>163</td>\n",
       "      <td>1</td>\n",
       "      <td>0.6</td>\n",
       "      <td>2</td>\n",
       "      <td>0</td>\n",
       "      <td>2</td>\n",
       "      <td>1</td>\n",
       "    </tr>\n",
       "  </tbody>\n",
       "</table>\n",
       "</div>"
      ],
      "text/plain": [
       "   age  sex  cp  trestbps  chol  fbs  restecg  thalach  exang  oldpeak  slope  \\\n",
       "0   63    1   3       145   233    1        0      150      0      2.3      0   \n",
       "1   37    1   2       130   250    0        1      187      0      3.5      0   \n",
       "2   41    0   1       130   204    0        0      172      0      1.4      2   \n",
       "3   56    1   1       120   236    0        1      178      0      0.8      2   \n",
       "4   57    0   0       120   354    0        1      163      1      0.6      2   \n",
       "\n",
       "   ca  thal  target  \n",
       "0   0     1       1  \n",
       "1   0     2       1  \n",
       "2   0     2       1  \n",
       "3   0     2       1  \n",
       "4   0     2       1  "
      ]
     },
     "execution_count": 2,
     "metadata": {},
     "output_type": "execute_result"
    }
   ],
   "source": [
    "df = pd.read_csv('dataset.csv')\n",
    "df.head()"
   ]
  },
  {
   "cell_type": "code",
   "execution_count": 3,
   "id": "c2ebf7d6",
   "metadata": {},
   "outputs": [
    {
     "data": {
      "text/plain": [
       "age         0\n",
       "sex         0\n",
       "cp          0\n",
       "trestbps    0\n",
       "chol        0\n",
       "fbs         0\n",
       "restecg     0\n",
       "thalach     0\n",
       "exang       0\n",
       "oldpeak     0\n",
       "slope       0\n",
       "ca          0\n",
       "thal        0\n",
       "target      0\n",
       "dtype: int64"
      ]
     },
     "execution_count": 3,
     "metadata": {},
     "output_type": "execute_result"
    }
   ],
   "source": [
    "df.isnull().sum()"
   ]
  },
  {
   "cell_type": "markdown",
   "id": "e735fda7",
   "metadata": {},
   "source": [
    "#### here we don't have any missing values"
   ]
  },
  {
   "cell_type": "code",
   "execution_count": 4,
   "id": "b82f7e69",
   "metadata": {},
   "outputs": [
    {
     "name": "stdout",
     "output_type": "stream",
     "text": [
      "<class 'pandas.core.frame.DataFrame'>\n",
      "RangeIndex: 303 entries, 0 to 302\n",
      "Data columns (total 14 columns):\n",
      " #   Column    Non-Null Count  Dtype  \n",
      "---  ------    --------------  -----  \n",
      " 0   age       303 non-null    int64  \n",
      " 1   sex       303 non-null    int64  \n",
      " 2   cp        303 non-null    int64  \n",
      " 3   trestbps  303 non-null    int64  \n",
      " 4   chol      303 non-null    int64  \n",
      " 5   fbs       303 non-null    int64  \n",
      " 6   restecg   303 non-null    int64  \n",
      " 7   thalach   303 non-null    int64  \n",
      " 8   exang     303 non-null    int64  \n",
      " 9   oldpeak   303 non-null    float64\n",
      " 10  slope     303 non-null    int64  \n",
      " 11  ca        303 non-null    int64  \n",
      " 12  thal      303 non-null    int64  \n",
      " 13  target    303 non-null    int64  \n",
      "dtypes: float64(1), int64(13)\n",
      "memory usage: 33.3 KB\n"
     ]
    }
   ],
   "source": [
    "df.info()"
   ]
  },
  {
   "cell_type": "markdown",
   "id": "7228b024",
   "metadata": {},
   "source": [
    "#### here all features are numerical"
   ]
  },
  {
   "cell_type": "code",
   "execution_count": 5,
   "id": "9098f74f",
   "metadata": {},
   "outputs": [
    {
     "data": {
      "text/html": [
       "<div>\n",
       "<style scoped>\n",
       "    .dataframe tbody tr th:only-of-type {\n",
       "        vertical-align: middle;\n",
       "    }\n",
       "\n",
       "    .dataframe tbody tr th {\n",
       "        vertical-align: top;\n",
       "    }\n",
       "\n",
       "    .dataframe thead th {\n",
       "        text-align: right;\n",
       "    }\n",
       "</style>\n",
       "<table border=\"1\" class=\"dataframe\">\n",
       "  <thead>\n",
       "    <tr style=\"text-align: right;\">\n",
       "      <th></th>\n",
       "      <th>count</th>\n",
       "      <th>mean</th>\n",
       "      <th>std</th>\n",
       "      <th>min</th>\n",
       "      <th>25%</th>\n",
       "      <th>50%</th>\n",
       "      <th>75%</th>\n",
       "      <th>max</th>\n",
       "    </tr>\n",
       "  </thead>\n",
       "  <tbody>\n",
       "    <tr>\n",
       "      <th>age</th>\n",
       "      <td>303.0</td>\n",
       "      <td>54.366337</td>\n",
       "      <td>9.082101</td>\n",
       "      <td>29.0</td>\n",
       "      <td>47.5</td>\n",
       "      <td>55.0</td>\n",
       "      <td>61.0</td>\n",
       "      <td>77.0</td>\n",
       "    </tr>\n",
       "    <tr>\n",
       "      <th>sex</th>\n",
       "      <td>303.0</td>\n",
       "      <td>0.683168</td>\n",
       "      <td>0.466011</td>\n",
       "      <td>0.0</td>\n",
       "      <td>0.0</td>\n",
       "      <td>1.0</td>\n",
       "      <td>1.0</td>\n",
       "      <td>1.0</td>\n",
       "    </tr>\n",
       "    <tr>\n",
       "      <th>cp</th>\n",
       "      <td>303.0</td>\n",
       "      <td>0.966997</td>\n",
       "      <td>1.032052</td>\n",
       "      <td>0.0</td>\n",
       "      <td>0.0</td>\n",
       "      <td>1.0</td>\n",
       "      <td>2.0</td>\n",
       "      <td>3.0</td>\n",
       "    </tr>\n",
       "    <tr>\n",
       "      <th>trestbps</th>\n",
       "      <td>303.0</td>\n",
       "      <td>131.623762</td>\n",
       "      <td>17.538143</td>\n",
       "      <td>94.0</td>\n",
       "      <td>120.0</td>\n",
       "      <td>130.0</td>\n",
       "      <td>140.0</td>\n",
       "      <td>200.0</td>\n",
       "    </tr>\n",
       "    <tr>\n",
       "      <th>chol</th>\n",
       "      <td>303.0</td>\n",
       "      <td>246.264026</td>\n",
       "      <td>51.830751</td>\n",
       "      <td>126.0</td>\n",
       "      <td>211.0</td>\n",
       "      <td>240.0</td>\n",
       "      <td>274.5</td>\n",
       "      <td>564.0</td>\n",
       "    </tr>\n",
       "    <tr>\n",
       "      <th>fbs</th>\n",
       "      <td>303.0</td>\n",
       "      <td>0.148515</td>\n",
       "      <td>0.356198</td>\n",
       "      <td>0.0</td>\n",
       "      <td>0.0</td>\n",
       "      <td>0.0</td>\n",
       "      <td>0.0</td>\n",
       "      <td>1.0</td>\n",
       "    </tr>\n",
       "    <tr>\n",
       "      <th>restecg</th>\n",
       "      <td>303.0</td>\n",
       "      <td>0.528053</td>\n",
       "      <td>0.525860</td>\n",
       "      <td>0.0</td>\n",
       "      <td>0.0</td>\n",
       "      <td>1.0</td>\n",
       "      <td>1.0</td>\n",
       "      <td>2.0</td>\n",
       "    </tr>\n",
       "    <tr>\n",
       "      <th>thalach</th>\n",
       "      <td>303.0</td>\n",
       "      <td>149.646865</td>\n",
       "      <td>22.905161</td>\n",
       "      <td>71.0</td>\n",
       "      <td>133.5</td>\n",
       "      <td>153.0</td>\n",
       "      <td>166.0</td>\n",
       "      <td>202.0</td>\n",
       "    </tr>\n",
       "    <tr>\n",
       "      <th>exang</th>\n",
       "      <td>303.0</td>\n",
       "      <td>0.326733</td>\n",
       "      <td>0.469794</td>\n",
       "      <td>0.0</td>\n",
       "      <td>0.0</td>\n",
       "      <td>0.0</td>\n",
       "      <td>1.0</td>\n",
       "      <td>1.0</td>\n",
       "    </tr>\n",
       "    <tr>\n",
       "      <th>oldpeak</th>\n",
       "      <td>303.0</td>\n",
       "      <td>1.039604</td>\n",
       "      <td>1.161075</td>\n",
       "      <td>0.0</td>\n",
       "      <td>0.0</td>\n",
       "      <td>0.8</td>\n",
       "      <td>1.6</td>\n",
       "      <td>6.2</td>\n",
       "    </tr>\n",
       "    <tr>\n",
       "      <th>slope</th>\n",
       "      <td>303.0</td>\n",
       "      <td>1.399340</td>\n",
       "      <td>0.616226</td>\n",
       "      <td>0.0</td>\n",
       "      <td>1.0</td>\n",
       "      <td>1.0</td>\n",
       "      <td>2.0</td>\n",
       "      <td>2.0</td>\n",
       "    </tr>\n",
       "    <tr>\n",
       "      <th>ca</th>\n",
       "      <td>303.0</td>\n",
       "      <td>0.729373</td>\n",
       "      <td>1.022606</td>\n",
       "      <td>0.0</td>\n",
       "      <td>0.0</td>\n",
       "      <td>0.0</td>\n",
       "      <td>1.0</td>\n",
       "      <td>4.0</td>\n",
       "    </tr>\n",
       "    <tr>\n",
       "      <th>thal</th>\n",
       "      <td>303.0</td>\n",
       "      <td>2.313531</td>\n",
       "      <td>0.612277</td>\n",
       "      <td>0.0</td>\n",
       "      <td>2.0</td>\n",
       "      <td>2.0</td>\n",
       "      <td>3.0</td>\n",
       "      <td>3.0</td>\n",
       "    </tr>\n",
       "    <tr>\n",
       "      <th>target</th>\n",
       "      <td>303.0</td>\n",
       "      <td>0.544554</td>\n",
       "      <td>0.498835</td>\n",
       "      <td>0.0</td>\n",
       "      <td>0.0</td>\n",
       "      <td>1.0</td>\n",
       "      <td>1.0</td>\n",
       "      <td>1.0</td>\n",
       "    </tr>\n",
       "  </tbody>\n",
       "</table>\n",
       "</div>"
      ],
      "text/plain": [
       "          count        mean        std    min    25%    50%    75%    max\n",
       "age       303.0   54.366337   9.082101   29.0   47.5   55.0   61.0   77.0\n",
       "sex       303.0    0.683168   0.466011    0.0    0.0    1.0    1.0    1.0\n",
       "cp        303.0    0.966997   1.032052    0.0    0.0    1.0    2.0    3.0\n",
       "trestbps  303.0  131.623762  17.538143   94.0  120.0  130.0  140.0  200.0\n",
       "chol      303.0  246.264026  51.830751  126.0  211.0  240.0  274.5  564.0\n",
       "fbs       303.0    0.148515   0.356198    0.0    0.0    0.0    0.0    1.0\n",
       "restecg   303.0    0.528053   0.525860    0.0    0.0    1.0    1.0    2.0\n",
       "thalach   303.0  149.646865  22.905161   71.0  133.5  153.0  166.0  202.0\n",
       "exang     303.0    0.326733   0.469794    0.0    0.0    0.0    1.0    1.0\n",
       "oldpeak   303.0    1.039604   1.161075    0.0    0.0    0.8    1.6    6.2\n",
       "slope     303.0    1.399340   0.616226    0.0    1.0    1.0    2.0    2.0\n",
       "ca        303.0    0.729373   1.022606    0.0    0.0    0.0    1.0    4.0\n",
       "thal      303.0    2.313531   0.612277    0.0    2.0    2.0    3.0    3.0\n",
       "target    303.0    0.544554   0.498835    0.0    0.0    1.0    1.0    1.0"
      ]
     },
     "execution_count": 5,
     "metadata": {},
     "output_type": "execute_result"
    }
   ],
   "source": [
    "df.describe().T"
   ]
  },
  {
   "cell_type": "markdown",
   "id": "ebbb9014",
   "metadata": {},
   "source": [
    "#### random forest doesn't requere feature scaling"
   ]
  },
  {
   "cell_type": "markdown",
   "id": "d7db4ab2",
   "metadata": {},
   "source": [
    "# Q2. Split the dataset into a training set (70%) and a test set (30%)."
   ]
  },
  {
   "cell_type": "code",
   "execution_count": 6,
   "id": "652e2daf",
   "metadata": {},
   "outputs": [],
   "source": [
    "X = df.drop(labels=['target'],axis=1)\n",
    "Y = df[['target']]"
   ]
  },
  {
   "cell_type": "code",
   "execution_count": 7,
   "id": "e87d3b89",
   "metadata": {},
   "outputs": [],
   "source": [
    "from sklearn.model_selection import train_test_split\n",
    "xtrain, xtest, ytrain, ytest = train_test_split(X,Y,test_size=0.3,random_state=42)"
   ]
  },
  {
   "cell_type": "code",
   "execution_count": 8,
   "id": "dc5ac686",
   "metadata": {},
   "outputs": [
    {
     "data": {
      "text/plain": [
       "(212, 13)"
      ]
     },
     "execution_count": 8,
     "metadata": {},
     "output_type": "execute_result"
    }
   ],
   "source": [
    "xtrain.shape"
   ]
  },
  {
   "cell_type": "code",
   "execution_count": 9,
   "id": "f5cc4277",
   "metadata": {},
   "outputs": [
    {
     "data": {
      "text/plain": [
       "(91, 13)"
      ]
     },
     "execution_count": 9,
     "metadata": {},
     "output_type": "execute_result"
    }
   ],
   "source": [
    "xtest.shape"
   ]
  },
  {
   "cell_type": "markdown",
   "id": "d5abea74",
   "metadata": {},
   "source": [
    "# Q3. Train a random forest classifier on the training set using 100 trees and a maximum depth of 10 for each tree. Use the default values for other hyperparameters."
   ]
  },
  {
   "cell_type": "code",
   "execution_count": 10,
   "id": "564a7442",
   "metadata": {},
   "outputs": [
    {
     "data": {
      "text/plain": [
       "RandomForestClassifier(max_depth=10)"
      ]
     },
     "execution_count": 10,
     "metadata": {},
     "output_type": "execute_result"
    }
   ],
   "source": [
    "from sklearn.ensemble import RandomForestClassifier\n",
    "rfc = RandomForestClassifier(n_estimators=100, max_depth=10)\n",
    "rfc.fit(xtrain,ytrain.values.flatten())"
   ]
  },
  {
   "cell_type": "markdown",
   "id": "575e0ff4",
   "metadata": {},
   "source": [
    "# Q4. Evaluate the performance of the model on the test set using accuracy, precision, recall, and F1 score."
   ]
  },
  {
   "cell_type": "code",
   "execution_count": 11,
   "id": "ec217f6b",
   "metadata": {},
   "outputs": [],
   "source": [
    "# Creating a function to evaluate model\n",
    "from sklearn.metrics import accuracy_score, precision_score, recall_score, f1_score\n",
    "def evaluate_model(x,y,model):\n",
    "    ypred = model.predict(x)\n",
    "    acc = accuracy_score(y,ypred)\n",
    "    pre = precision_score(y,ypred)\n",
    "    rec = recall_score(y,ypred)\n",
    "    f1 = f1_score(y,ypred)\n",
    "    print(f'Accuracy Score  : {acc:.4f}')\n",
    "    print(f'Precision Score : {pre:.4f}')\n",
    "    print(f'Recall Score    : {rec:.4f}')\n",
    "    print(f'F1 Score        : {f1:.4f}')\n",
    "    return acc, pre, rec, f1"
   ]
  },
  {
   "cell_type": "code",
   "execution_count": 12,
   "id": "469ce429",
   "metadata": {},
   "outputs": [
    {
     "name": "stdout",
     "output_type": "stream",
     "text": [
      "Accuracy Score  : 0.8022\n",
      "Precision Score : 0.8200\n",
      "Recall Score    : 0.8200\n",
      "F1 Score        : 0.8200\n"
     ]
    }
   ],
   "source": [
    "# Evaluate model on test data\n",
    "acc_base, pre_base, rec_base, f1_base = evaluate_model(xtest, ytest, rfc)"
   ]
  },
  {
   "cell_type": "code",
   "execution_count": 13,
   "id": "4293a4ba",
   "metadata": {},
   "outputs": [
    {
     "name": "stdout",
     "output_type": "stream",
     "text": [
      "              precision    recall  f1-score   support\n",
      "\n",
      "           0       0.78      0.78      0.78        41\n",
      "           1       0.82      0.82      0.82        50\n",
      "\n",
      "    accuracy                           0.80        91\n",
      "   macro avg       0.80      0.80      0.80        91\n",
      "weighted avg       0.80      0.80      0.80        91\n",
      "\n"
     ]
    }
   ],
   "source": [
    "from sklearn.metrics import classification_report\n",
    "ypred_test = rfc.predict(xtest)\n",
    "print(classification_report(ytest,ypred_test))"
   ]
  },
  {
   "cell_type": "code",
   "execution_count": 14,
   "id": "5c752606",
   "metadata": {},
   "outputs": [
    {
     "data": {
      "text/plain": [
       "<AxesSubplot: >"
      ]
     },
     "execution_count": 14,
     "metadata": {},
     "output_type": "execute_result"
    },
    {
     "data": {
      "image/png": "[encoded data removed]",
      "text/plain": [
       "<Figure size 432x288 with 2 Axes>"
      ]
     },
     "metadata": {
      "needs_background": "light"
     },
     "output_type": "display_data"
    }
   ],
   "source": [
    "from sklearn.metrics import confusion_matrix\n",
    "import seaborn as sns\n",
    "cf = confusion_matrix(ytest,ypred_test)\n",
    "sns.heatmap(cf, annot=True, fmt='d')"
   ]
  },
  {
   "cell_type": "markdown",
   "id": "37c50146",
   "metadata": {},
   "source": [
    "# Q5. Use the feature importance scores to identify the top 5 most important features in predicting heart disease risk. Visualise the feature importances using a bar chart."
   ]
  },
  {
   "cell_type": "code",
   "execution_count": 15,
   "id": "9cb12155",
   "metadata": {},
   "outputs": [
    {
     "data": {
      "text/plain": [
       "array([0.07766687, 0.02576922, 0.11734569, 0.0682555 , 0.07899906,\n",
       "       0.01228287, 0.01756368, 0.10359282, 0.0942044 , 0.10939037,\n",
       "       0.04963193, 0.14312267, 0.10217493])"
      ]
     },
     "execution_count": 15,
     "metadata": {},
     "output_type": "execute_result"
    }
   ],
   "source": [
    "rfc.feature_importances_"
   ]
  },
  {
   "cell_type": "code",
   "execution_count": 19,
   "id": "a85b5624",
   "metadata": {},
   "outputs": [
    {
     "data": {
      "text/plain": [
       "Index(['age', 'sex', 'cp', 'trestbps', 'chol', 'fbs', 'restecg', 'thalach',\n",
       "       'exang', 'oldpeak', 'slope', 'ca', 'thal'],\n",
       "      dtype='object')"
      ]
     },
     "execution_count": 19,
     "metadata": {},
     "output_type": "execute_result"
    }
   ],
   "source": [
    "xtrain.columns"
   ]
  },
  {
   "cell_type": "code",
   "execution_count": 20,
   "id": "c422c3c9",
   "metadata": {},
   "outputs": [
    {
     "data": {
      "text/plain": [
       "ca          0.143123\n",
       "cp          0.117346\n",
       "oldpeak     0.109390\n",
       "thalach     0.103593\n",
       "thal        0.102175\n",
       "exang       0.094204\n",
       "chol        0.078999\n",
       "age         0.077667\n",
       "trestbps    0.068256\n",
       "slope       0.049632\n",
       "sex         0.025769\n",
       "restecg     0.017564\n",
       "fbs         0.012283\n",
       "dtype: float64"
      ]
     },
     "execution_count": 20,
     "metadata": {},
     "output_type": "execute_result"
    }
   ],
   "source": [
    "imp = pd.Series(rfc.feature_importances_)\n",
    "imp.index = xtrain.columns\n",
    "imp = imp.sort_values(ascending=False)\n",
    "imp"
   ]
  },
  {
   "cell_type": "code",
   "execution_count": 21,
   "id": "9f0256b7",
   "metadata": {},
   "outputs": [
    {
     "name": "stdout",
     "output_type": "stream",
     "text": [
      "Top 5 features in the data are : ['ca', 'cp', 'oldpeak', 'thalach', 'thal']\n"
     ]
    }
   ],
   "source": [
    "top5 = list(imp[0:5].index)\n",
    "print(f'Top 5 features in the data are : {top5}')"
   ]
  },
  {
   "cell_type": "code",
   "execution_count": 22,
   "id": "61d72bd8",
   "metadata": {},
   "outputs": [
    {
     "data": {
      "text/plain": [
       "<AxesSubplot: title={'center': 'Feature Importances Plot'}>"
      ]
     },
     "execution_count": 22,
     "metadata": {},
     "output_type": "execute_result"
    },
    {
     "data": {
      "image/png": "[encoded data removed]",
      "text/plain": [
       "<Figure size 1152x576 with 1 Axes>"
      ]
     },
     "metadata": {
      "needs_background": "light"
     },
     "output_type": "display_data"
    }
   ],
   "source": [
    "imp.plot(kind='bar',title='Feature Importances Plot', figsize=(16,8))"
   ]
  },
  {
   "cell_type": "markdown",
   "id": "5bae4f1c",
   "metadata": {},
   "source": [
    "# Q6. Tune the hyperparameters of the random forest classifier using grid search or random search. Try different values of the number of trees, maximum depth, minimum samples split, and minimum samples leaf. Use 5-fold cross-validation to evaluate the performance of each set of hyperparameters."
   ]
  },
  {
   "cell_type": "code",
   "execution_count": 23,
   "id": "5a18b2dd",
   "metadata": {},
   "outputs": [],
   "source": [
    "# Defining the parameters for tuning\n",
    "parameters = {\n",
    "    'n_estimators':[10,50,100,200,300,400],\n",
    "    'max_depth':[4,5,6,7,8,9,10],\n",
    "    'min_samples_leaf':[2,3,4,5,6],\n",
    "    'min_samples_split':[2,5,10]\n",
    "}"
   ]
  },
  {
   "cell_type": "code",
   "execution_count": 24,
   "id": "8d31d95a",
   "metadata": {},
   "outputs": [],
   "source": [
    "# Performing Randomized Search CV\n",
    "from sklearn.model_selection import RandomizedSearchCV\n",
    "rscv = RandomizedSearchCV(RandomForestClassifier(),\n",
    "                          param_distributions=parameters,\n",
    "                          cv=5, \n",
    "                          scoring='f1',\n",
    "                          n_iter=50,\n",
    "                          verbose=3)"
   ]
  },
  {
   "cell_type": "code",
   "execution_count": 25,
   "id": "7d225547",
   "metadata": {},
   "outputs": [
    {
     "name": "stdout",
     "output_type": "stream",
     "text": [
      "Fitting 5 folds for each of 50 candidates, totalling 250 fits\n",
      "[CV 1/5] END max_depth=8, min_samples_leaf=6, min_samples_split=2, n_estimators=300;, score=0.884 total time=   0.5s\n",
      "[CV 2/5] END max_depth=8, min_samples_leaf=6, min_samples_split=2, n_estimators=300;, score=0.857 total time=   0.5s\n",
      "[CV 3/5] END max_depth=8, min_samples_leaf=6, min_samples_split=2, n_estimators=300;, score=0.800 total time=   0.4s\n",
      "[CV 4/5] END max_depth=8, min_samples_leaf=6, min_samples_split=2, n_estimators=300;, score=0.917 total time=   0.4s\n",
      "[CV 5/5] END max_depth=8, min_samples_leaf=6, min_samples_split=2, n_estimators=300;, score=0.773 total time=   0.6s\n",
      "[CV 1/5] END max_depth=6, min_samples_leaf=4, min_samples_split=5, n_estimators=200;, score=0.884 total time=   0.3s\n",
      "[CV 2/5] END max_depth=6, min_samples_leaf=4, min_samples_split=5, n_estimators=200;, score=0.857 total time=   0.3s\n",
      "[CV 3/5] END max_depth=6, min_samples_leaf=4, min_samples_split=5, n_estimators=200;, score=0.784 total time=   0.3s\n",
      "[CV 4/5] END max_depth=6, min_samples_leaf=4, min_samples_split=5, n_estimators=200;, score=0.917 total time=   0.2s\n",
      "[CV 5/5] END max_depth=6, min_samples_leaf=4, min_samples_split=5, n_estimators=200;, score=0.744 total time=   0.3s\n",
      "[CV 1/5] END max_depth=8, min_samples_leaf=4, min_samples_split=5, n_estimators=400;, score=0.884 total time=   0.6s\n",
      "[CV 2/5] END max_depth=8, min_samples_leaf=4, min_samples_split=5, n_estimators=400;, score=0.857 total time=   0.6s\n",
      "[CV 3/5] END max_depth=8, min_samples_leaf=4, min_samples_split=5, n_estimators=400;, score=0.784 total time=   0.6s\n",
      "[CV 4/5] END max_depth=8, min_samples_leaf=4, min_samples_split=5, n_estimators=400;, score=0.917 total time=   0.5s\n",
      "[CV 5/5] END max_depth=8, min_samples_leaf=4, min_samples_split=5, n_estimators=400;, score=0.744 total time=   0.4s\n",
      "[CV 1/5] END max_depth=4, min_samples_leaf=3, min_samples_split=10, n_estimators=100;, score=0.884 total time=   0.0s\n",
      "[CV 2/5] END max_depth=4, min_samples_leaf=3, min_samples_split=10, n_estimators=100;, score=0.880 total time=   0.0s\n",
      "[CV 3/5] END max_depth=4, min_samples_leaf=3, min_samples_split=10, n_estimators=100;, score=0.776 total time=   0.0s\n",
      "[CV 4/5] END max_depth=4, min_samples_leaf=3, min_samples_split=10, n_estimators=100;, score=0.917 total time=   0.0s\n",
      "[CV 5/5] END max_depth=4, min_samples_leaf=3, min_samples_split=10, n_estimators=100;, score=0.773 total time=   0.0s\n",
      "[CV 1/5] END max_depth=9, min_samples_leaf=6, min_samples_split=10, n_estimators=10;, score=0.857 total time=   0.0s\n",
      "[CV 2/5] END max_depth=9, min_samples_leaf=6, min_samples_split=10, n_estimators=10;, score=0.880 total time=   0.0s\n",
      "[CV 3/5] END max_depth=9, min_samples_leaf=6, min_samples_split=10, n_estimators=10;, score=0.735 total time=   0.0s\n",
      "[CV 4/5] END max_depth=9, min_samples_leaf=6, min_samples_split=10, n_estimators=10;, score=0.913 total time=   0.0s\n",
      "[CV 5/5] END max_depth=9, min_samples_leaf=6, min_samples_split=10, n_estimators=10;, score=0.762 total time=   0.0s\n",
      "[CV 1/5] END max_depth=4, min_samples_leaf=4, min_samples_split=2, n_estimators=200;, score=0.864 total time=   0.1s\n",
      "[CV 2/5] END max_depth=4, min_samples_leaf=4, min_samples_split=2, n_estimators=200;, score=0.880 total time=   0.1s\n",
      "[CV 3/5] END max_depth=4, min_samples_leaf=4, min_samples_split=2, n_estimators=200;, score=0.784 total time=   0.1s\n",
      "[CV 4/5] END max_depth=4, min_samples_leaf=4, min_samples_split=2, n_estimators=200;, score=0.917 total time=   0.1s\n",
      "[CV 5/5] END max_depth=4, min_samples_leaf=4, min_samples_split=2, n_estimators=200;, score=0.773 total time=   0.1s\n",
      "[CV 1/5] END max_depth=6, min_samples_leaf=5, min_samples_split=10, n_estimators=50;, score=0.884 total time=   0.0s\n",
      "[CV 2/5] END max_depth=6, min_samples_leaf=5, min_samples_split=10, n_estimators=50;, score=0.880 total time=   0.0s\n",
      "[CV 3/5] END max_depth=6, min_samples_leaf=5, min_samples_split=10, n_estimators=50;, score=0.735 total time=   0.0s\n",
      "[CV 4/5] END max_depth=6, min_samples_leaf=5, min_samples_split=10, n_estimators=50;, score=0.936 total time=   0.0s\n",
      "[CV 5/5] END max_depth=6, min_samples_leaf=5, min_samples_split=10, n_estimators=50;, score=0.773 total time=   0.0s\n",
      "[CV 1/5] END max_depth=9, min_samples_leaf=2, min_samples_split=10, n_estimators=100;, score=0.864 total time=   0.0s\n",
      "[CV 2/5] END max_depth=9, min_samples_leaf=2, min_samples_split=10, n_estimators=100;, score=0.880 total time=   0.0s\n",
      "[CV 3/5] END max_depth=9, min_samples_leaf=2, min_samples_split=10, n_estimators=100;, score=0.816 total time=   0.0s\n",
      "[CV 4/5] END max_depth=9, min_samples_leaf=2, min_samples_split=10, n_estimators=100;, score=0.913 total time=   0.0s\n",
      "[CV 5/5] END max_depth=9, min_samples_leaf=2, min_samples_split=10, n_estimators=100;, score=0.762 total time=   0.0s\n",
      "[CV 1/5] END max_depth=4, min_samples_leaf=3, min_samples_split=10, n_estimators=50;, score=0.933 total time=   0.0s\n",
      "[CV 2/5] END max_depth=4, min_samples_leaf=3, min_samples_split=10, n_estimators=50;, score=0.875 total time=   0.0s\n",
      "[CV 3/5] END max_depth=4, min_samples_leaf=3, min_samples_split=10, n_estimators=50;, score=0.778 total time=   0.0s\n",
      "[CV 4/5] END max_depth=4, min_samples_leaf=3, min_samples_split=10, n_estimators=50;, score=0.894 total time=   0.0s\n",
      "[CV 5/5] END max_depth=4, min_samples_leaf=3, min_samples_split=10, n_estimators=50;, score=0.791 total time=   0.0s\n",
      "[CV 1/5] END max_depth=8, min_samples_leaf=6, min_samples_split=2, n_estimators=200;, score=0.884 total time=   0.1s\n",
      "[CV 2/5] END max_depth=8, min_samples_leaf=6, min_samples_split=2, n_estimators=200;, score=0.880 total time=   0.1s\n",
      "[CV 3/5] END max_depth=8, min_samples_leaf=6, min_samples_split=2, n_estimators=200;, score=0.784 total time=   0.1s\n",
      "[CV 4/5] END max_depth=8, min_samples_leaf=6, min_samples_split=2, n_estimators=200;, score=0.917 total time=   0.1s\n",
      "[CV 5/5] END max_depth=8, min_samples_leaf=6, min_samples_split=2, n_estimators=200;, score=0.762 total time=   0.1s\n",
      "[CV 1/5] END max_depth=5, min_samples_leaf=3, min_samples_split=5, n_estimators=200;, score=0.884 total time=   0.1s\n",
      "[CV 2/5] END max_depth=5, min_samples_leaf=3, min_samples_split=5, n_estimators=200;, score=0.880 total time=   0.2s\n",
      "[CV 3/5] END max_depth=5, min_samples_leaf=3, min_samples_split=5, n_estimators=200;, score=0.760 total time=   0.2s\n",
      "[CV 4/5] END max_depth=5, min_samples_leaf=3, min_samples_split=5, n_estimators=200;, score=0.917 total time=   0.2s\n",
      "[CV 5/5] END max_depth=5, min_samples_leaf=3, min_samples_split=5, n_estimators=200;, score=0.744 total time=   0.1s\n",
      "[CV 1/5] END max_depth=7, min_samples_leaf=3, min_samples_split=2, n_estimators=50;, score=0.870 total time=   0.0s\n",
      "[CV 2/5] END max_depth=7, min_samples_leaf=3, min_samples_split=2, n_estimators=50;, score=0.833 total time=   0.0s\n",
      "[CV 3/5] END max_depth=7, min_samples_leaf=3, min_samples_split=2, n_estimators=50;, score=0.776 total time=   0.0s\n",
      "[CV 4/5] END max_depth=7, min_samples_leaf=3, min_samples_split=2, n_estimators=50;, score=0.894 total time=   0.0s\n",
      "[CV 5/5] END max_depth=7, min_samples_leaf=3, min_samples_split=2, n_estimators=50;, score=0.744 total time=   0.0s\n",
      "[CV 1/5] END max_depth=5, min_samples_leaf=6, min_samples_split=2, n_estimators=300;, score=0.884 total time=   0.2s\n",
      "[CV 2/5] END max_depth=5, min_samples_leaf=6, min_samples_split=2, n_estimators=300;, score=0.857 total time=   0.2s\n",
      "[CV 3/5] END max_depth=5, min_samples_leaf=6, min_samples_split=2, n_estimators=300;, score=0.784 total time=   0.2s\n",
      "[CV 4/5] END max_depth=5, min_samples_leaf=6, min_samples_split=2, n_estimators=300;, score=0.917 total time=   0.3s\n",
      "[CV 5/5] END max_depth=5, min_samples_leaf=6, min_samples_split=2, n_estimators=300;, score=0.744 total time=   0.2s\n",
      "[CV 1/5] END max_depth=6, min_samples_leaf=3, min_samples_split=10, n_estimators=200;, score=0.884 total time=   0.1s\n",
      "[CV 2/5] END max_depth=6, min_samples_leaf=3, min_samples_split=10, n_estimators=200;, score=0.880 total time=   0.2s\n",
      "[CV 3/5] END max_depth=6, min_samples_leaf=3, min_samples_split=10, n_estimators=200;, score=0.769 total time=   0.1s\n",
      "[CV 4/5] END max_depth=6, min_samples_leaf=3, min_samples_split=10, n_estimators=200;, score=0.917 total time=   0.2s\n",
      "[CV 5/5] END max_depth=6, min_samples_leaf=3, min_samples_split=10, n_estimators=200;, score=0.744 total time=   0.1s\n"
     ]
    },
    {
     "name": "stdout",
     "output_type": "stream",
     "text": [
      "[CV 1/5] END max_depth=8, min_samples_leaf=5, min_samples_split=2, n_estimators=400;, score=0.884 total time=   0.4s\n",
      "[CV 2/5] END max_depth=8, min_samples_leaf=5, min_samples_split=2, n_estimators=400;, score=0.857 total time=   0.4s\n",
      "[CV 3/5] END max_depth=8, min_samples_leaf=5, min_samples_split=2, n_estimators=400;, score=0.769 total time=   0.4s\n",
      "[CV 4/5] END max_depth=8, min_samples_leaf=5, min_samples_split=2, n_estimators=400;, score=0.917 total time=   0.3s\n",
      "[CV 5/5] END max_depth=8, min_samples_leaf=5, min_samples_split=2, n_estimators=400;, score=0.744 total time=   0.4s\n",
      "[CV 1/5] END max_depth=7, min_samples_leaf=4, min_samples_split=10, n_estimators=50;, score=0.864 total time=   0.0s\n",
      "[CV 2/5] END max_depth=7, min_samples_leaf=4, min_samples_split=10, n_estimators=50;, score=0.898 total time=   0.0s\n",
      "[CV 3/5] END max_depth=7, min_samples_leaf=4, min_samples_split=10, n_estimators=50;, score=0.720 total time=   0.0s\n",
      "[CV 4/5] END max_depth=7, min_samples_leaf=4, min_samples_split=10, n_estimators=50;, score=0.913 total time=   0.0s\n",
      "[CV 5/5] END max_depth=7, min_samples_leaf=4, min_samples_split=10, n_estimators=50;, score=0.744 total time=   0.0s\n",
      "[CV 1/5] END max_depth=6, min_samples_leaf=4, min_samples_split=2, n_estimators=50;, score=0.909 total time=   0.0s\n",
      "[CV 2/5] END max_depth=6, min_samples_leaf=4, min_samples_split=2, n_estimators=50;, score=0.898 total time=   0.0s\n",
      "[CV 3/5] END max_depth=6, min_samples_leaf=4, min_samples_split=2, n_estimators=50;, score=0.760 total time=   0.0s\n",
      "[CV 4/5] END max_depth=6, min_samples_leaf=4, min_samples_split=2, n_estimators=50;, score=0.936 total time=   0.0s\n",
      "[CV 5/5] END max_depth=6, min_samples_leaf=4, min_samples_split=2, n_estimators=50;, score=0.800 total time=   0.0s\n",
      "[CV 1/5] END max_depth=5, min_samples_leaf=3, min_samples_split=5, n_estimators=400;, score=0.864 total time=   0.4s\n",
      "[CV 2/5] END max_depth=5, min_samples_leaf=3, min_samples_split=5, n_estimators=400;, score=0.857 total time=   0.4s\n",
      "[CV 3/5] END max_depth=5, min_samples_leaf=3, min_samples_split=5, n_estimators=400;, score=0.769 total time=   0.4s\n",
      "[CV 4/5] END max_depth=5, min_samples_leaf=3, min_samples_split=5, n_estimators=400;, score=0.917 total time=   0.4s\n",
      "[CV 5/5] END max_depth=5, min_samples_leaf=3, min_samples_split=5, n_estimators=400;, score=0.744 total time=   0.4s\n",
      "[CV 1/5] END max_depth=5, min_samples_leaf=2, min_samples_split=5, n_estimators=10;, score=0.909 total time=   0.0s\n",
      "[CV 2/5] END max_depth=5, min_samples_leaf=2, min_samples_split=5, n_estimators=10;, score=0.851 total time=   0.0s\n",
      "[CV 3/5] END max_depth=5, min_samples_leaf=2, min_samples_split=5, n_estimators=10;, score=0.720 total time=   0.0s\n",
      "[CV 4/5] END max_depth=5, min_samples_leaf=2, min_samples_split=5, n_estimators=10;, score=0.870 total time=   0.0s\n",
      "[CV 5/5] END max_depth=5, min_samples_leaf=2, min_samples_split=5, n_estimators=10;, score=0.818 total time=   0.0s\n",
      "[CV 1/5] END max_depth=5, min_samples_leaf=4, min_samples_split=5, n_estimators=10;, score=0.936 total time=   0.0s\n",
      "[CV 2/5] END max_depth=5, min_samples_leaf=4, min_samples_split=5, n_estimators=10;, score=0.880 total time=   0.0s\n",
      "[CV 3/5] END max_depth=5, min_samples_leaf=4, min_samples_split=5, n_estimators=10;, score=0.769 total time=   0.0s\n",
      "[CV 4/5] END max_depth=5, min_samples_leaf=4, min_samples_split=5, n_estimators=10;, score=0.840 total time=   0.0s\n",
      "[CV 5/5] END max_depth=5, min_samples_leaf=4, min_samples_split=5, n_estimators=10;, score=0.800 total time=   0.0s\n",
      "[CV 1/5] END max_depth=4, min_samples_leaf=6, min_samples_split=5, n_estimators=10;, score=0.826 total time=   0.0s\n",
      "[CV 2/5] END max_depth=4, min_samples_leaf=6, min_samples_split=5, n_estimators=10;, score=0.756 total time=   0.0s\n",
      "[CV 3/5] END max_depth=4, min_samples_leaf=6, min_samples_split=5, n_estimators=10;, score=0.792 total time=   0.0s\n",
      "[CV 4/5] END max_depth=4, min_samples_leaf=6, min_samples_split=5, n_estimators=10;, score=0.920 total time=   0.0s\n",
      "[CV 5/5] END max_depth=4, min_samples_leaf=6, min_samples_split=5, n_estimators=10;, score=0.791 total time=   0.0s\n",
      "[CV 1/5] END max_depth=10, min_samples_leaf=4, min_samples_split=10, n_estimators=200;, score=0.884 total time=   0.2s\n",
      "[CV 2/5] END max_depth=10, min_samples_leaf=4, min_samples_split=10, n_estimators=200;, score=0.880 total time=   0.1s\n",
      "[CV 3/5] END max_depth=10, min_samples_leaf=4, min_samples_split=10, n_estimators=200;, score=0.769 total time=   0.1s\n",
      "[CV 4/5] END max_depth=10, min_samples_leaf=4, min_samples_split=10, n_estimators=200;, score=0.917 total time=   0.1s\n",
      "[CV 5/5] END max_depth=10, min_samples_leaf=4, min_samples_split=10, n_estimators=200;, score=0.762 total time=   0.1s\n",
      "[CV 1/5] END max_depth=4, min_samples_leaf=6, min_samples_split=5, n_estimators=400;, score=0.884 total time=   0.3s\n",
      "[CV 2/5] END max_depth=4, min_samples_leaf=6, min_samples_split=5, n_estimators=400;, score=0.880 total time=   0.4s\n",
      "[CV 3/5] END max_depth=4, min_samples_leaf=6, min_samples_split=5, n_estimators=400;, score=0.784 total time=   0.3s\n",
      "[CV 4/5] END max_depth=4, min_samples_leaf=6, min_samples_split=5, n_estimators=400;, score=0.917 total time=   0.4s\n",
      "[CV 5/5] END max_depth=4, min_samples_leaf=6, min_samples_split=5, n_estimators=400;, score=0.773 total time=   0.4s\n",
      "[CV 1/5] END max_depth=6, min_samples_leaf=4, min_samples_split=2, n_estimators=10;, score=0.864 total time=   0.0s\n",
      "[CV 2/5] END max_depth=6, min_samples_leaf=4, min_samples_split=2, n_estimators=10;, score=0.833 total time=   0.0s\n",
      "[CV 3/5] END max_depth=6, min_samples_leaf=4, min_samples_split=2, n_estimators=10;, score=0.792 total time=   0.0s\n",
      "[CV 4/5] END max_depth=6, min_samples_leaf=4, min_samples_split=2, n_estimators=10;, score=0.846 total time=   0.0s\n",
      "[CV 5/5] END max_depth=6, min_samples_leaf=4, min_samples_split=2, n_estimators=10;, score=0.780 total time=   0.0s\n",
      "[CV 1/5] END max_depth=8, min_samples_leaf=4, min_samples_split=10, n_estimators=300;, score=0.884 total time=   0.2s\n",
      "[CV 2/5] END max_depth=8, min_samples_leaf=4, min_samples_split=10, n_estimators=300;, score=0.880 total time=   0.3s\n",
      "[CV 3/5] END max_depth=8, min_samples_leaf=4, min_samples_split=10, n_estimators=300;, score=0.784 total time=   0.3s\n",
      "[CV 4/5] END max_depth=8, min_samples_leaf=4, min_samples_split=10, n_estimators=300;, score=0.917 total time=   0.3s\n",
      "[CV 5/5] END max_depth=8, min_samples_leaf=4, min_samples_split=10, n_estimators=300;, score=0.773 total time=   0.2s\n",
      "[CV 1/5] END max_depth=10, min_samples_leaf=6, min_samples_split=2, n_estimators=400;, score=0.884 total time=   0.4s\n",
      "[CV 2/5] END max_depth=10, min_samples_leaf=6, min_samples_split=2, n_estimators=400;, score=0.880 total time=   0.4s\n",
      "[CV 3/5] END max_depth=10, min_samples_leaf=6, min_samples_split=2, n_estimators=400;, score=0.784 total time=   0.4s\n",
      "[CV 4/5] END max_depth=10, min_samples_leaf=6, min_samples_split=2, n_estimators=400;, score=0.917 total time=   0.4s\n",
      "[CV 5/5] END max_depth=10, min_samples_leaf=6, min_samples_split=2, n_estimators=400;, score=0.773 total time=   0.3s\n",
      "[CV 1/5] END max_depth=5, min_samples_leaf=2, min_samples_split=5, n_estimators=200;, score=0.864 total time=   0.1s\n",
      "[CV 2/5] END max_depth=5, min_samples_leaf=2, min_samples_split=5, n_estimators=200;, score=0.857 total time=   0.2s\n",
      "[CV 3/5] END max_depth=5, min_samples_leaf=2, min_samples_split=5, n_estimators=200;, score=0.792 total time=   0.2s\n",
      "[CV 4/5] END max_depth=5, min_samples_leaf=2, min_samples_split=5, n_estimators=200;, score=0.894 total time=   0.2s\n",
      "[CV 5/5] END max_depth=5, min_samples_leaf=2, min_samples_split=5, n_estimators=200;, score=0.744 total time=   0.2s\n",
      "[CV 1/5] END max_depth=6, min_samples_leaf=6, min_samples_split=5, n_estimators=200;, score=0.884 total time=   0.1s\n",
      "[CV 2/5] END max_depth=6, min_samples_leaf=6, min_samples_split=5, n_estimators=200;, score=0.880 total time=   0.2s\n",
      "[CV 3/5] END max_depth=6, min_samples_leaf=6, min_samples_split=5, n_estimators=200;, score=0.784 total time=   0.1s\n",
      "[CV 4/5] END max_depth=6, min_samples_leaf=6, min_samples_split=5, n_estimators=200;, score=0.917 total time=   0.2s\n",
      "[CV 5/5] END max_depth=6, min_samples_leaf=6, min_samples_split=5, n_estimators=200;, score=0.744 total time=   0.1s\n",
      "[CV 1/5] END max_depth=7, min_samples_leaf=3, min_samples_split=5, n_estimators=100;, score=0.884 total time=   0.0s\n"
     ]
    },
    {
     "name": "stdout",
     "output_type": "stream",
     "text": [
      "[CV 2/5] END max_depth=7, min_samples_leaf=3, min_samples_split=5, n_estimators=100;, score=0.857 total time=   0.0s\n",
      "[CV 3/5] END max_depth=7, min_samples_leaf=3, min_samples_split=5, n_estimators=100;, score=0.824 total time=   0.0s\n",
      "[CV 4/5] END max_depth=7, min_samples_leaf=3, min_samples_split=5, n_estimators=100;, score=0.913 total time=   0.0s\n",
      "[CV 5/5] END max_depth=7, min_samples_leaf=3, min_samples_split=5, n_estimators=100;, score=0.744 total time=   0.0s\n",
      "[CV 1/5] END max_depth=9, min_samples_leaf=3, min_samples_split=2, n_estimators=100;, score=0.864 total time=   0.0s\n",
      "[CV 2/5] END max_depth=9, min_samples_leaf=3, min_samples_split=2, n_estimators=100;, score=0.880 total time=   0.0s\n",
      "[CV 3/5] END max_depth=9, min_samples_leaf=3, min_samples_split=2, n_estimators=100;, score=0.760 total time=   0.0s\n",
      "[CV 4/5] END max_depth=9, min_samples_leaf=3, min_samples_split=2, n_estimators=100;, score=0.917 total time=   0.0s\n",
      "[CV 5/5] END max_depth=9, min_samples_leaf=3, min_samples_split=2, n_estimators=100;, score=0.773 total time=   0.0s\n",
      "[CV 1/5] END max_depth=10, min_samples_leaf=3, min_samples_split=5, n_estimators=10;, score=0.909 total time=   0.0s\n",
      "[CV 2/5] END max_depth=10, min_samples_leaf=3, min_samples_split=5, n_estimators=10;, score=0.833 total time=   0.0s\n",
      "[CV 3/5] END max_depth=10, min_samples_leaf=3, min_samples_split=5, n_estimators=10;, score=0.760 total time=   0.0s\n",
      "[CV 4/5] END max_depth=10, min_samples_leaf=3, min_samples_split=5, n_estimators=10;, score=0.889 total time=   0.0s\n",
      "[CV 5/5] END max_depth=10, min_samples_leaf=3, min_samples_split=5, n_estimators=10;, score=0.810 total time=   0.0s\n",
      "[CV 1/5] END max_depth=4, min_samples_leaf=6, min_samples_split=2, n_estimators=300;, score=0.909 total time=   0.3s\n",
      "[CV 2/5] END max_depth=4, min_samples_leaf=6, min_samples_split=2, n_estimators=300;, score=0.880 total time=   0.3s\n",
      "[CV 3/5] END max_depth=4, min_samples_leaf=6, min_samples_split=2, n_estimators=300;, score=0.800 total time=   0.2s\n",
      "[CV 4/5] END max_depth=4, min_samples_leaf=6, min_samples_split=2, n_estimators=300;, score=0.917 total time=   0.3s\n",
      "[CV 5/5] END max_depth=4, min_samples_leaf=6, min_samples_split=2, n_estimators=300;, score=0.744 total time=   0.3s\n",
      "[CV 1/5] END max_depth=9, min_samples_leaf=2, min_samples_split=2, n_estimators=300;, score=0.864 total time=   0.3s\n",
      "[CV 2/5] END max_depth=9, min_samples_leaf=2, min_samples_split=2, n_estimators=300;, score=0.857 total time=   0.2s\n",
      "[CV 3/5] END max_depth=9, min_samples_leaf=2, min_samples_split=2, n_estimators=300;, score=0.760 total time=   0.2s\n",
      "[CV 4/5] END max_depth=9, min_samples_leaf=2, min_samples_split=2, n_estimators=300;, score=0.894 total time=   0.2s\n",
      "[CV 5/5] END max_depth=9, min_samples_leaf=2, min_samples_split=2, n_estimators=300;, score=0.762 total time=   0.2s\n",
      "[CV 1/5] END max_depth=8, min_samples_leaf=2, min_samples_split=2, n_estimators=200;, score=0.884 total time=   0.2s\n",
      "[CV 2/5] END max_depth=8, min_samples_leaf=2, min_samples_split=2, n_estimators=200;, score=0.880 total time=   0.1s\n",
      "[CV 3/5] END max_depth=8, min_samples_leaf=2, min_samples_split=2, n_estimators=200;, score=0.824 total time=   0.2s\n",
      "[CV 4/5] END max_depth=8, min_samples_leaf=2, min_samples_split=2, n_estimators=200;, score=0.894 total time=   0.1s\n",
      "[CV 5/5] END max_depth=8, min_samples_leaf=2, min_samples_split=2, n_estimators=200;, score=0.744 total time=   0.1s\n",
      "[CV 1/5] END max_depth=9, min_samples_leaf=6, min_samples_split=10, n_estimators=50;, score=0.864 total time=   0.0s\n",
      "[CV 2/5] END max_depth=9, min_samples_leaf=6, min_samples_split=10, n_estimators=50;, score=0.880 total time=   0.0s\n",
      "[CV 3/5] END max_depth=9, min_samples_leaf=6, min_samples_split=10, n_estimators=50;, score=0.800 total time=   0.0s\n",
      "[CV 4/5] END max_depth=9, min_samples_leaf=6, min_samples_split=10, n_estimators=50;, score=0.917 total time=   0.0s\n",
      "[CV 5/5] END max_depth=9, min_samples_leaf=6, min_samples_split=10, n_estimators=50;, score=0.773 total time=   0.0s\n",
      "[CV 1/5] END max_depth=5, min_samples_leaf=3, min_samples_split=10, n_estimators=10;, score=0.870 total time=   0.0s\n",
      "[CV 2/5] END max_depth=5, min_samples_leaf=3, min_samples_split=10, n_estimators=10;, score=0.880 total time=   0.0s\n",
      "[CV 3/5] END max_depth=5, min_samples_leaf=3, min_samples_split=10, n_estimators=10;, score=0.708 total time=   0.0s\n",
      "[CV 4/5] END max_depth=5, min_samples_leaf=3, min_samples_split=10, n_estimators=10;, score=0.917 total time=   0.0s\n",
      "[CV 5/5] END max_depth=5, min_samples_leaf=3, min_samples_split=10, n_estimators=10;, score=0.783 total time=   0.0s\n",
      "[CV 1/5] END max_depth=4, min_samples_leaf=6, min_samples_split=2, n_estimators=100;, score=0.884 total time=   0.0s\n",
      "[CV 2/5] END max_depth=4, min_samples_leaf=6, min_samples_split=2, n_estimators=100;, score=0.898 total time=   0.0s\n",
      "[CV 3/5] END max_depth=4, min_samples_leaf=6, min_samples_split=2, n_estimators=100;, score=0.824 total time=   0.0s\n",
      "[CV 4/5] END max_depth=4, min_samples_leaf=6, min_samples_split=2, n_estimators=100;, score=0.936 total time=   0.0s\n",
      "[CV 5/5] END max_depth=4, min_samples_leaf=6, min_samples_split=2, n_estimators=100;, score=0.762 total time=   0.0s\n",
      "[CV 1/5] END max_depth=10, min_samples_leaf=5, min_samples_split=10, n_estimators=10;, score=0.889 total time=   0.0s\n",
      "[CV 2/5] END max_depth=10, min_samples_leaf=5, min_samples_split=10, n_estimators=10;, score=0.880 total time=   0.0s\n",
      "[CV 3/5] END max_depth=10, min_samples_leaf=5, min_samples_split=10, n_estimators=10;, score=0.755 total time=   0.0s\n",
      "[CV 4/5] END max_depth=10, min_samples_leaf=5, min_samples_split=10, n_estimators=10;, score=0.917 total time=   0.0s\n",
      "[CV 5/5] END max_depth=10, min_samples_leaf=5, min_samples_split=10, n_estimators=10;, score=0.773 total time=   0.0s\n",
      "[CV 1/5] END max_depth=7, min_samples_leaf=5, min_samples_split=10, n_estimators=200;, score=0.884 total time=   0.1s\n",
      "[CV 2/5] END max_depth=7, min_samples_leaf=5, min_samples_split=10, n_estimators=200;, score=0.857 total time=   0.1s\n",
      "[CV 3/5] END max_depth=7, min_samples_leaf=5, min_samples_split=10, n_estimators=200;, score=0.784 total time=   0.1s\n",
      "[CV 4/5] END max_depth=7, min_samples_leaf=5, min_samples_split=10, n_estimators=200;, score=0.917 total time=   0.2s\n",
      "[CV 5/5] END max_depth=7, min_samples_leaf=5, min_samples_split=10, n_estimators=200;, score=0.744 total time=   0.1s\n",
      "[CV 1/5] END max_depth=5, min_samples_leaf=3, min_samples_split=5, n_estimators=10;, score=0.913 total time=   0.0s\n",
      "[CV 2/5] END max_depth=5, min_samples_leaf=3, min_samples_split=5, n_estimators=10;, score=0.875 total time=   0.0s\n",
      "[CV 3/5] END max_depth=5, min_samples_leaf=3, min_samples_split=5, n_estimators=10;, score=0.764 total time=   0.0s\n",
      "[CV 4/5] END max_depth=5, min_samples_leaf=3, min_samples_split=5, n_estimators=10;, score=0.875 total time=   0.0s\n",
      "[CV 5/5] END max_depth=5, min_samples_leaf=3, min_samples_split=5, n_estimators=10;, score=0.809 total time=   0.0s\n",
      "[CV 1/5] END max_depth=9, min_samples_leaf=6, min_samples_split=2, n_estimators=10;, score=0.880 total time=   0.0s\n",
      "[CV 2/5] END max_depth=9, min_samples_leaf=6, min_samples_split=2, n_estimators=10;, score=0.857 total time=   0.0s\n",
      "[CV 3/5] END max_depth=9, min_samples_leaf=6, min_samples_split=2, n_estimators=10;, score=0.816 total time=   0.0s\n",
      "[CV 4/5] END max_depth=9, min_samples_leaf=6, min_samples_split=2, n_estimators=10;, score=0.894 total time=   0.0s\n",
      "[CV 5/5] END max_depth=9, min_samples_leaf=6, min_samples_split=2, n_estimators=10;, score=0.727 total time=   0.0s\n",
      "[CV 1/5] END max_depth=9, min_samples_leaf=3, min_samples_split=2, n_estimators=50;, score=0.909 total time=   0.0s\n",
      "[CV 2/5] END max_depth=9, min_samples_leaf=3, min_samples_split=2, n_estimators=50;, score=0.857 total time=   0.0s\n",
      "[CV 3/5] END max_depth=9, min_samples_leaf=3, min_samples_split=2, n_estimators=50;, score=0.800 total time=   0.0s\n",
      "[CV 4/5] END max_depth=9, min_samples_leaf=3, min_samples_split=2, n_estimators=50;, score=0.894 total time=   0.0s\n",
      "[CV 5/5] END max_depth=9, min_samples_leaf=3, min_samples_split=2, n_estimators=50;, score=0.762 total time=   0.0s\n",
      "[CV 1/5] END max_depth=8, min_samples_leaf=3, min_samples_split=5, n_estimators=400;, score=0.864 total time=   0.4s\n",
      "[CV 2/5] END max_depth=8, min_samples_leaf=3, min_samples_split=5, n_estimators=400;, score=0.857 total time=   0.4s\n"
     ]
    },
    {
     "name": "stdout",
     "output_type": "stream",
     "text": [
      "[CV 3/5] END max_depth=8, min_samples_leaf=3, min_samples_split=5, n_estimators=400;, score=0.784 total time=   0.4s\n",
      "[CV 4/5] END max_depth=8, min_samples_leaf=3, min_samples_split=5, n_estimators=400;, score=0.936 total time=   0.4s\n",
      "[CV 5/5] END max_depth=8, min_samples_leaf=3, min_samples_split=5, n_estimators=400;, score=0.762 total time=   0.4s\n",
      "[CV 1/5] END max_depth=8, min_samples_leaf=5, min_samples_split=5, n_estimators=300;, score=0.884 total time=   0.3s\n",
      "[CV 2/5] END max_depth=8, min_samples_leaf=5, min_samples_split=5, n_estimators=300;, score=0.880 total time=   0.3s\n",
      "[CV 3/5] END max_depth=8, min_samples_leaf=5, min_samples_split=5, n_estimators=300;, score=0.760 total time=   0.3s\n",
      "[CV 4/5] END max_depth=8, min_samples_leaf=5, min_samples_split=5, n_estimators=300;, score=0.917 total time=   0.2s\n",
      "[CV 5/5] END max_depth=8, min_samples_leaf=5, min_samples_split=5, n_estimators=300;, score=0.762 total time=   0.3s\n",
      "[CV 1/5] END max_depth=5, min_samples_leaf=2, min_samples_split=5, n_estimators=50;, score=0.864 total time=   0.0s\n",
      "[CV 2/5] END max_depth=5, min_samples_leaf=2, min_samples_split=5, n_estimators=50;, score=0.880 total time=   0.0s\n",
      "[CV 3/5] END max_depth=5, min_samples_leaf=2, min_samples_split=5, n_estimators=50;, score=0.769 total time=   0.0s\n",
      "[CV 4/5] END max_depth=5, min_samples_leaf=2, min_samples_split=5, n_estimators=50;, score=0.894 total time=   0.0s\n",
      "[CV 5/5] END max_depth=5, min_samples_leaf=2, min_samples_split=5, n_estimators=50;, score=0.773 total time=   0.0s\n",
      "[CV 1/5] END max_depth=10, min_samples_leaf=6, min_samples_split=5, n_estimators=300;, score=0.884 total time=   0.3s\n",
      "[CV 2/5] END max_depth=10, min_samples_leaf=6, min_samples_split=5, n_estimators=300;, score=0.880 total time=   0.3s\n",
      "[CV 3/5] END max_depth=10, min_samples_leaf=6, min_samples_split=5, n_estimators=300;, score=0.784 total time=   0.3s\n",
      "[CV 4/5] END max_depth=10, min_samples_leaf=6, min_samples_split=5, n_estimators=300;, score=0.917 total time=   0.3s\n",
      "[CV 5/5] END max_depth=10, min_samples_leaf=6, min_samples_split=5, n_estimators=300;, score=0.773 total time=   0.3s\n",
      "[CV 1/5] END max_depth=7, min_samples_leaf=2, min_samples_split=10, n_estimators=200;, score=0.864 total time=   0.1s\n",
      "[CV 2/5] END max_depth=7, min_samples_leaf=2, min_samples_split=10, n_estimators=200;, score=0.857 total time=   0.1s\n",
      "[CV 3/5] END max_depth=7, min_samples_leaf=2, min_samples_split=10, n_estimators=200;, score=0.784 total time=   0.1s\n",
      "[CV 4/5] END max_depth=7, min_samples_leaf=2, min_samples_split=10, n_estimators=200;, score=0.917 total time=   0.1s\n",
      "[CV 5/5] END max_depth=7, min_samples_leaf=2, min_samples_split=10, n_estimators=200;, score=0.773 total time=   0.1s\n",
      "[CV 1/5] END max_depth=5, min_samples_leaf=6, min_samples_split=2, n_estimators=100;, score=0.884 total time=   0.0s\n",
      "[CV 2/5] END max_depth=5, min_samples_leaf=6, min_samples_split=2, n_estimators=100;, score=0.857 total time=   0.0s\n",
      "[CV 3/5] END max_depth=5, min_samples_leaf=6, min_samples_split=2, n_estimators=100;, score=0.792 total time=   0.0s\n",
      "[CV 4/5] END max_depth=5, min_samples_leaf=6, min_samples_split=2, n_estimators=100;, score=0.917 total time=   0.0s\n",
      "[CV 5/5] END max_depth=5, min_samples_leaf=6, min_samples_split=2, n_estimators=100;, score=0.744 total time=   0.0s\n",
      "[CV 1/5] END max_depth=4, min_samples_leaf=2, min_samples_split=10, n_estimators=50;, score=0.864 total time=   0.0s\n",
      "[CV 2/5] END max_depth=4, min_samples_leaf=2, min_samples_split=10, n_estimators=50;, score=0.857 total time=   0.0s\n",
      "[CV 3/5] END max_depth=4, min_samples_leaf=2, min_samples_split=10, n_estimators=50;, score=0.776 total time=   0.0s\n",
      "[CV 4/5] END max_depth=4, min_samples_leaf=2, min_samples_split=10, n_estimators=50;, score=0.917 total time=   0.0s\n",
      "[CV 5/5] END max_depth=4, min_samples_leaf=2, min_samples_split=10, n_estimators=50;, score=0.773 total time=   0.0s\n",
      "[CV 1/5] END max_depth=5, min_samples_leaf=4, min_samples_split=10, n_estimators=200;, score=0.884 total time=   0.1s\n",
      "[CV 2/5] END max_depth=5, min_samples_leaf=4, min_samples_split=10, n_estimators=200;, score=0.880 total time=   0.1s\n",
      "[CV 3/5] END max_depth=5, min_samples_leaf=4, min_samples_split=10, n_estimators=200;, score=0.784 total time=   0.1s\n",
      "[CV 4/5] END max_depth=5, min_samples_leaf=4, min_samples_split=10, n_estimators=200;, score=0.917 total time=   0.1s\n",
      "[CV 5/5] END max_depth=5, min_samples_leaf=4, min_samples_split=10, n_estimators=200;, score=0.744 total time=   0.1s\n"
     ]
    },
    {
     "data": {
      "text/plain": [
       "RandomizedSearchCV(cv=5, estimator=RandomForestClassifier(), n_iter=50,\n",
       "                   param_distributions={'max_depth': [4, 5, 6, 7, 8, 9, 10],\n",
       "                                        'min_samples_leaf': [2, 3, 4, 5, 6],\n",
       "                                        'min_samples_split': [2, 5, 10],\n",
       "                                        'n_estimators': [10, 50, 100, 200, 300,\n",
       "                                                         400]},\n",
       "                   scoring='f1', verbose=3)"
      ]
     },
     "execution_count": 25,
     "metadata": {},
     "output_type": "execute_result"
    }
   ],
   "source": [
    "rscv.fit(xtrain,ytrain.values.flatten())"
   ]
  },
  {
   "cell_type": "code",
   "execution_count": 26,
   "id": "4dd43f08",
   "metadata": {},
   "outputs": [
    {
     "data": {
      "text/plain": [
       "0.8606569000682907"
      ]
     },
     "execution_count": 26,
     "metadata": {},
     "output_type": "execute_result"
    }
   ],
   "source": [
    "rscv.best_score_"
   ]
  },
  {
   "cell_type": "markdown",
   "id": "b45324b9",
   "metadata": {},
   "source": [
    "# Q7. Report the best set of hyperparameters found by the search and the corresponding performance metrics. Compare the performance of the tuned model with the default model."
   ]
  },
  {
   "cell_type": "code",
   "execution_count": 27,
   "id": "8f52beaa",
   "metadata": {},
   "outputs": [
    {
     "data": {
      "text/plain": [
       "{'n_estimators': 100,\n",
       " 'min_samples_split': 2,\n",
       " 'min_samples_leaf': 6,\n",
       " 'max_depth': 4}"
      ]
     },
     "execution_count": 27,
     "metadata": {},
     "output_type": "execute_result"
    }
   ],
   "source": [
    "# Best Parameters\n",
    "rscv.best_params_"
   ]
  },
  {
   "cell_type": "code",
   "execution_count": 28,
   "id": "f1622c91",
   "metadata": {},
   "outputs": [
    {
     "data": {
      "text/plain": [
       "RandomForestClassifier(max_depth=4, min_samples_leaf=6)"
      ]
     },
     "execution_count": 28,
     "metadata": {},
     "output_type": "execute_result"
    }
   ],
   "source": [
    "# Best Estimator (Model)\n",
    "rscv.best_estimator_"
   ]
  },
  {
   "cell_type": "code",
   "execution_count": 29,
   "id": "052dca11",
   "metadata": {},
   "outputs": [
    {
     "data": {
      "text/plain": [
       "0.8606569000682907"
      ]
     },
     "execution_count": 29,
     "metadata": {},
     "output_type": "execute_result"
    }
   ],
   "source": [
    "# Best F1 Score\n",
    "rscv.best_score_"
   ]
  },
  {
   "cell_type": "code",
   "execution_count": 30,
   "id": "6bf43933",
   "metadata": {},
   "outputs": [
    {
     "name": "stdout",
     "output_type": "stream",
     "text": [
      "Results for Tuned Model :\n",
      "\n",
      "Accuracy Score  : 0.8352\n",
      "Precision Score : 0.8302\n",
      "Recall Score    : 0.8800\n",
      "F1 Score        : 0.8544\n"
     ]
    }
   ],
   "source": [
    "# Testing Accuracy on tuned model\n",
    "print('Results for Tuned Model :\\n')\n",
    "acc_tuned, pre_tuned , rec_tuned, f1_tuned = evaluate_model(xtest,ytest.values.flatten(),rscv)"
   ]
  },
  {
   "cell_type": "code",
   "execution_count": 31,
   "id": "61afc748",
   "metadata": {},
   "outputs": [],
   "source": [
    "dct = {\n",
    "    'metrics':['accuracy','precision','recall','f1'],\n",
    "    'base model':[acc_base,pre_base,rec_base,f1_base],\n",
    "    'tuned model':[acc_tuned,pre_tuned,rec_tuned,f1_tuned]\n",
    "}"
   ]
  },
  {
   "cell_type": "code",
   "execution_count": 32,
   "id": "3479a915",
   "metadata": {},
   "outputs": [
    {
     "data": {
      "text/html": [
       "<div>\n",
       "<style scoped>\n",
       "    .dataframe tbody tr th:only-of-type {\n",
       "        vertical-align: middle;\n",
       "    }\n",
       "\n",
       "    .dataframe tbody tr th {\n",
       "        vertical-align: top;\n",
       "    }\n",
       "\n",
       "    .dataframe thead th {\n",
       "        text-align: right;\n",
       "    }\n",
       "</style>\n",
       "<table border=\"1\" class=\"dataframe\">\n",
       "  <thead>\n",
       "    <tr style=\"text-align: right;\">\n",
       "      <th></th>\n",
       "      <th>metrics</th>\n",
       "      <th>base model</th>\n",
       "      <th>tuned model</th>\n",
       "    </tr>\n",
       "  </thead>\n",
       "  <tbody>\n",
       "    <tr>\n",
       "      <th>0</th>\n",
       "      <td>accuracy</td>\n",
       "      <td>0.802198</td>\n",
       "      <td>0.835165</td>\n",
       "    </tr>\n",
       "    <tr>\n",
       "      <th>1</th>\n",
       "      <td>precision</td>\n",
       "      <td>0.820000</td>\n",
       "      <td>0.830189</td>\n",
       "    </tr>\n",
       "    <tr>\n",
       "      <th>2</th>\n",
       "      <td>recall</td>\n",
       "      <td>0.820000</td>\n",
       "      <td>0.880000</td>\n",
       "    </tr>\n",
       "    <tr>\n",
       "      <th>3</th>\n",
       "      <td>f1</td>\n",
       "      <td>0.820000</td>\n",
       "      <td>0.854369</td>\n",
       "    </tr>\n",
       "  </tbody>\n",
       "</table>\n",
       "</div>"
      ],
      "text/plain": [
       "     metrics  base model  tuned model\n",
       "0   accuracy    0.802198     0.835165\n",
       "1  precision    0.820000     0.830189\n",
       "2     recall    0.820000     0.880000\n",
       "3         f1    0.820000     0.854369"
      ]
     },
     "execution_count": 32,
     "metadata": {},
     "output_type": "execute_result"
    }
   ],
   "source": [
    "df_compare = pd.DataFrame(dct)\n",
    "df_compare"
   ]
  },
  {
   "cell_type": "markdown",
   "id": "2f689977",
   "metadata": {},
   "source": [
    "# Q8. Interpret the model by analysing the decision boundaries of the random forest classifier. Plot the decision boundaries on a scatter plot of two of the most important features. Discuss the insights and limitations of the model for predicting heart disease risk."
   ]
  },
  {
   "cell_type": "code",
   "execution_count": 33,
   "id": "f379ecfa",
   "metadata": {},
   "outputs": [
    {
     "data": {
      "text/plain": [
       "RandomForestClassifier(max_depth=4, min_samples_leaf=6)"
      ]
     },
     "execution_count": 33,
     "metadata": {},
     "output_type": "execute_result"
    }
   ],
   "source": [
    "best_rfc = rscv.best_estimator_\n",
    "best_rfc"
   ]
  },
  {
   "cell_type": "code",
   "execution_count": 35,
   "id": "493a6188",
   "metadata": {},
   "outputs": [
    {
     "data": {
      "text/plain": [
       "ca          0.185238\n",
       "cp          0.159369\n",
       "thal        0.124787\n",
       "exang       0.114238\n",
       "oldpeak     0.113529\n",
       "thalach     0.091235\n",
       "slope       0.068727\n",
       "age         0.050569\n",
       "sex         0.029488\n",
       "trestbps    0.026565\n",
       "chol        0.025256\n",
       "restecg     0.010007\n",
       "fbs         0.000991\n",
       "dtype: float64"
      ]
     },
     "execution_count": 35,
     "metadata": {},
     "output_type": "execute_result"
    }
   ],
   "source": [
    "imp_tuned = best_rfc.feature_importances_\n",
    "imp_tuned = pd.Series(imp_tuned)\n",
    "imp_tuned.index = xtrain.columns\n",
    "imp_tuned = imp_tuned.sort_values(ascending=False)\n",
    "imp_tuned"
   ]
  },
  {
   "cell_type": "code",
   "execution_count": 36,
   "id": "f5d72b30",
   "metadata": {},
   "outputs": [
    {
     "data": {
      "text/plain": [
       "ca    0.185238\n",
       "cp    0.159369\n",
       "dtype: float64"
      ]
     },
     "execution_count": 36,
     "metadata": {},
     "output_type": "execute_result"
    }
   ],
   "source": [
    "imp_tuned[0:2]"
   ]
  },
  {
   "cell_type": "code",
   "execution_count": 37,
   "id": "0a7f5a36",
   "metadata": {},
   "outputs": [
    {
     "data": {
      "text/plain": [
       "<AxesSubplot: title={'center': 'Feature Importances for tuned model'}>"
      ]
     },
     "execution_count": 37,
     "metadata": {},
     "output_type": "execute_result"
    },
    {
     "data": {
      "image/png": "[encoded data removed]",
      "text/plain": [
       "<Figure size 1152x576 with 1 Axes>"
      ]
     },
     "metadata": {
      "needs_background": "light"
     },
     "output_type": "display_data"
    }
   ],
   "source": [
    "imp_tuned.plot(kind='bar',title='Feature Importances for tuned model',figsize=(16,8))"
   ]
  },
  {
   "cell_type": "code",
   "execution_count": 42,
   "id": "89522619",
   "metadata": {},
   "outputs": [
    {
     "data": {
      "text/html": [
       "<div>\n",
       "<style scoped>\n",
       "    .dataframe tbody tr th:only-of-type {\n",
       "        vertical-align: middle;\n",
       "    }\n",
       "\n",
       "    .dataframe tbody tr th {\n",
       "        vertical-align: top;\n",
       "    }\n",
       "\n",
       "    .dataframe thead th {\n",
       "        text-align: right;\n",
       "    }\n",
       "</style>\n",
       "<table border=\"1\" class=\"dataframe\">\n",
       "  <thead>\n",
       "    <tr style=\"text-align: right;\">\n",
       "      <th></th>\n",
       "      <th>ca</th>\n",
       "      <th>cp</th>\n",
       "    </tr>\n",
       "  </thead>\n",
       "  <tbody>\n",
       "    <tr>\n",
       "      <th>124</th>\n",
       "      <td>0</td>\n",
       "      <td>2</td>\n",
       "    </tr>\n",
       "    <tr>\n",
       "      <th>72</th>\n",
       "      <td>0</td>\n",
       "      <td>1</td>\n",
       "    </tr>\n",
       "    <tr>\n",
       "      <th>15</th>\n",
       "      <td>0</td>\n",
       "      <td>2</td>\n",
       "    </tr>\n",
       "    <tr>\n",
       "      <th>10</th>\n",
       "      <td>0</td>\n",
       "      <td>0</td>\n",
       "    </tr>\n",
       "    <tr>\n",
       "      <th>163</th>\n",
       "      <td>4</td>\n",
       "      <td>2</td>\n",
       "    </tr>\n",
       "  </tbody>\n",
       "</table>\n",
       "</div>"
      ],
      "text/plain": [
       "     ca  cp\n",
       "124   0   2\n",
       "72    0   1\n",
       "15    0   2\n",
       "10    0   0\n",
       "163   4   2"
      ]
     },
     "execution_count": 42,
     "metadata": {},
     "output_type": "execute_result"
    }
   ],
   "source": [
    "top2 = xtrain[['ca','cp']]\n",
    "top2.head()"
   ]
  },
  {
   "cell_type": "code",
   "execution_count": 43,
   "id": "cf620a8b",
   "metadata": {},
   "outputs": [
    {
     "data": {
      "text/html": [
       "<div>\n",
       "<style scoped>\n",
       "    .dataframe tbody tr th:only-of-type {\n",
       "        vertical-align: middle;\n",
       "    }\n",
       "\n",
       "    .dataframe tbody tr th {\n",
       "        vertical-align: top;\n",
       "    }\n",
       "\n",
       "    .dataframe thead th {\n",
       "        text-align: right;\n",
       "    }\n",
       "</style>\n",
       "<table border=\"1\" class=\"dataframe\">\n",
       "  <thead>\n",
       "    <tr style=\"text-align: right;\">\n",
       "      <th></th>\n",
       "      <th>ca</th>\n",
       "      <th>cp</th>\n",
       "      <th>target</th>\n",
       "    </tr>\n",
       "  </thead>\n",
       "  <tbody>\n",
       "    <tr>\n",
       "      <th>124</th>\n",
       "      <td>0</td>\n",
       "      <td>2</td>\n",
       "      <td>1</td>\n",
       "    </tr>\n",
       "    <tr>\n",
       "      <th>72</th>\n",
       "      <td>0</td>\n",
       "      <td>1</td>\n",
       "      <td>1</td>\n",
       "    </tr>\n",
       "    <tr>\n",
       "      <th>15</th>\n",
       "      <td>0</td>\n",
       "      <td>2</td>\n",
       "      <td>1</td>\n",
       "    </tr>\n",
       "    <tr>\n",
       "      <th>10</th>\n",
       "      <td>0</td>\n",
       "      <td>0</td>\n",
       "      <td>1</td>\n",
       "    </tr>\n",
       "    <tr>\n",
       "      <th>163</th>\n",
       "      <td>4</td>\n",
       "      <td>2</td>\n",
       "      <td>1</td>\n",
       "    </tr>\n",
       "  </tbody>\n",
       "</table>\n",
       "</div>"
      ],
      "text/plain": [
       "     ca  cp  target\n",
       "124   0   2       1\n",
       "72    0   1       1\n",
       "15    0   2       1\n",
       "10    0   0       1\n",
       "163   4   2       1"
      ]
     },
     "execution_count": 43,
     "metadata": {},
     "output_type": "execute_result"
    }
   ],
   "source": [
    "df_top2 =pd.concat([top2,ytrain],axis=1)\n",
    "df_top2.head()"
   ]
  },
  {
   "cell_type": "code",
   "execution_count": 44,
   "id": "7e1523b8",
   "metadata": {},
   "outputs": [
    {
     "data": {
      "image/png": "[encoded data removed]",
      "text/plain": [
       "<Figure size 432x288 with 1 Axes>"
      ]
     },
     "metadata": {
      "needs_background": "light"
     },
     "output_type": "display_data"
    }
   ],
   "source": [
    "import seaborn as sns\n",
    "import matplotlib.pyplot as plt\n",
    "sns.scatterplot(data=df_top2,x='ca',y='cp',hue='target')\n",
    "plt.title('Actual Class Target plot')\n",
    "plt.show()"
   ]
  },
  {
   "cell_type": "code",
   "execution_count": 45,
   "id": "15ce7c20",
   "metadata": {},
   "outputs": [],
   "source": [
    "df_top2['predicted'] = best_rfc.predict(xtrain)"
   ]
  },
  {
   "cell_type": "code",
   "execution_count": 46,
   "id": "0a9ccbfe",
   "metadata": {},
   "outputs": [
    {
     "data": {
      "image/png": "[encoded data removed]",
      "text/plain": [
       "<Figure size 432x288 with 1 Axes>"
      ]
     },
     "metadata": {
      "needs_background": "light"
     },
     "output_type": "display_data"
    }
   ],
   "source": [
    "sns.scatterplot(data=df_top2,x='ca',y='cp',hue='predicted')\n",
    "plt.title('Predicted Class Target plot')\n",
    "plt.show()\n"
   ]
  }
 ],
 "metadata": {
  "kernelspec": {
   "display_name": "Python 3 (ipykernel)",
   "language": "python",
   "name": "python3"
  },
  "language_info": {
   "codemirror_mode": {
    "name": "ipython",
    "version": 3
   },
   "file_extension": ".py",
   "mimetype": "text/x-python",
   "name": "python",
   "nbconvert_exporter": "python",
   "pygments_lexer": "ipython3",
   "version": "3.9.7"
  }
 },
 "nbformat": 4,
 "nbformat_minor": 5
}
