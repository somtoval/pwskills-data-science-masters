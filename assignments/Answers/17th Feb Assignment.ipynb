{
 "cells": [
  {
   "cell_type": "markdown",
   "id": "d0cd6890",
   "metadata": {},
   "source": [
    "### Q1. What is MongoDB? Explain non-relational databases in short. In which scenarios it is preferred to use MongoDB over SQL databases?"
   ]
  },
  {
   "cell_type": "markdown",
   "id": "0c11737d",
   "metadata": {},
   "source": [
    "MongoDB is a popular document-oriented NoSQL database that uses JSON-like documents with dynamic schemas. It is designed to provide high performance, high availability, and automatic scaling.\n",
    "\n",
    "Non-relational databases, also known as NoSQL databases, are databases that do not use the traditional tabular relations used by relational databases such as SQL. Instead, they store data in a variety of formats such as key-value pairs, document-based, column-based, and graph-based formats. NoSQL databases are designed to be highly scalable and flexible, making them a good choice for handling large, unstructured data sets.\n",
    "\n",
    "MongoDB is often preferred over SQL databases in scenarios where the data being stored is unstructured or semi-structured. This includes data such as social media feeds, sensor data, and log data. MongoDB's flexible document-based data model makes it easy to store and retrieve data without having to define a schema upfront. Additionally, MongoDB's ability to shard data across multiple servers makes it a good choice for handling large amounts of data and scaling up as needed."
   ]
  },
  {
   "cell_type": "markdown",
   "id": "73eb3059",
   "metadata": {},
   "source": [
    "### Q2. State and Explain the features of MongoDB."
   ]
  },
  {
   "cell_type": "markdown",
   "id": "a23fa7d7",
   "metadata": {},
   "source": [
    "MongoDB is a popular NoSQL document-oriented database that provides various features that make it a preferred choice in many scenarios. Some of its features are:\n",
    "\n",
    "1. Document-oriented: MongoDB is a document-oriented database, which means that it stores data in the form of documents, similar to JSON format. This makes it easy to store complex hierarchical data structures and flexible data models.\n",
    "\n",
    "2. Schema-less: MongoDB is schema-less, meaning that it does not enforce a fixed data model or schema. This makes it easier to store and retrieve data with different structures.\n",
    "\n",
    "3. Distributed: MongoDB is designed to work in a distributed environment, which means that it can be easily scaled across multiple servers to handle large amounts of data and high traffic.\n",
    "\n",
    "4. High availability: MongoDB supports replica sets, which provide high availability and automatic failover in case of a primary node failure.\n",
    "\n",
    "5. Indexing: MongoDB provides various indexing options, including compound indexes and geospatial indexes, to improve query performance.\n",
    "\n",
    "6. Aggregation: MongoDB provides a powerful aggregation framework that allows for complex data analysis and manipulation."
   ]
  },
  {
   "cell_type": "markdown",
   "id": "3cae48a3",
   "metadata": {},
   "source": [
    "### Q3. Write a code to connect MongoDB to Python. Also, create a database and a collection in MongoDB."
   ]
  },
  {
   "cell_type": "markdown",
   "id": "498a5a61",
   "metadata": {},
   "source": [
    "To connect MongoDB to Python, we first need to install the pymongo library. You can install it using the following command"
   ]
  },
  {
   "cell_type": "code",
   "execution_count": null,
   "id": "19ae8e47",
   "metadata": {},
   "outputs": [],
   "source": [
    "pip install pymongo"
   ]
  },
  {
   "cell_type": "code",
   "execution_count": null,
   "id": "8ccee747",
   "metadata": {},
   "outputs": [],
   "source": [
    "import pymongo\n",
    "\n",
    "# Establishing a connection to MongoDB\n",
    "client = pymongo.MongoClient(\"mongodb://localhost:27017/\")\n",
    "\n",
    "# Creating a database\n",
    "mydb = client[\"mydatabase\"]\n",
    "\n",
    "# Creating a collection\n",
    "mycol = mydb[\"customers\"]"
   ]
  },
  {
   "cell_type": "markdown",
   "id": "ae9bce89",
   "metadata": {},
   "source": [
    "In the above code, we first import the pymongo library. Then we establish a connection to MongoDB using the MongoClient() function. The connection URL specifies the host and port number of the MongoDB server."
   ]
  },
  {
   "cell_type": "markdown",
   "id": "ccbf9394",
   "metadata": {},
   "source": [
    "### Q4. Using the database and the collection created in question number 3, write a code to insert one record, and insert many records. Use the find() and find_one() methods to print the inserted record."
   ]
  },
  {
   "cell_type": "code",
   "execution_count": null,
   "id": "aa5539fb",
   "metadata": {},
   "outputs": [],
   "source": [
    "import pymongo\n",
    "\n",
    "# Connect to MongoDB server\n",
    "client = pymongo.MongoClient(\"mongodb://localhost:27017/\")\n",
    "\n",
    "# Create a database and a collection\n",
    "mydb = client[\"mydatabase\"]\n",
    "mycol = mydb[\"customers\"]\n",
    "\n",
    "# Insert one record\n",
    "record = {\"name\": \"John\", \"address\": \"Highway 37\"}\n",
    "x = mycol.insert_one(record)\n",
    "\n",
    "# Print the inserted record\n",
    "print(\"Inserted one record with ID:\", x.inserted_id)\n",
    "print(\"Inserted record:\")\n",
    "print(mycol.find_one())\n",
    "\n",
    "# Insert many records\n",
    "records = [\n",
    "    {\"name\": \"Amy\", \"address\": \"Apple st 652\"},\n",
    "    {\"name\": \"Hannah\", \"address\": \"Mountain 21\"},\n",
    "    {\"name\": \"Michael\", \"address\": \"Valley 345\"},\n",
    "]\n",
    "x = mycol.insert_many(records)\n",
    "\n",
    "# Print the inserted records\n",
    "print(\"Inserted many records with IDs:\", x.inserted_ids)\n",
    "print(\"Inserted records:\")\n",
    "for record in mycol.find():\n",
    "    print(record)"
   ]
  },
  {
   "cell_type": "markdown",
   "id": "8684d618",
   "metadata": {},
   "source": [
    "### Q5. Explain how you can use the find() method to query the MongoDB database. Write a simple code to demonstrate this."
   ]
  },
  {
   "cell_type": "markdown",
   "id": "ef7f4ae6",
   "metadata": {},
   "source": [
    "The find() method is used in MongoDB to query the database and retrieve documents that match certain criteria. It takes a query object as its argument and returns a cursor object that can be used to iterate through the matched documents.\n",
    "\n",
    "Here is a simple code to demonstrate how to use the find() method in MongoDB:"
   ]
  },
  {
   "cell_type": "code",
   "execution_count": null,
   "id": "9fb8d661",
   "metadata": {},
   "outputs": [],
   "source": [
    "import pymongo\n",
    "\n",
    "# establish a connection to the MongoDB server\n",
    "client = pymongo.MongoClient(\"mongodb://localhost:27017/\")\n",
    "\n",
    "# create a database and a collection\n",
    "mydb = client[\"mydatabase\"]\n",
    "mycol = mydb[\"customers\"]\n",
    "\n",
    "# insert some documents into the collection\n",
    "mycol.insert_many([\n",
    "    {\"name\": \"John\", \"address\": \"Highway 37\"},\n",
    "    {\"name\": \"Jane\", \"address\": \"Baker Street\"},\n",
    "    {\"name\": \"Bob\", \"address\": \"Main Street\"}\n",
    "])\n",
    "\n",
    "# query the collection for documents with the name \"John\"\n",
    "query = {\"name\": \"John\"}\n",
    "results = mycol.find(query)\n",
    "\n",
    "# iterate through the matched documents and print them\n",
    "for result in results:\n",
    "    print(result)"
   ]
  },
  {
   "cell_type": "markdown",
   "id": "c20705f9",
   "metadata": {},
   "source": [
    "### Q6. Explain the sort() method. Give an example to demonstrate sorting in MongoDB."
   ]
  },
  {
   "cell_type": "markdown",
   "id": "7fde0f9a",
   "metadata": {},
   "source": [
    "In MongoDB, the sort() method is used to sort the documents in the collection based on one or more fields. It takes one or more parameters that specify the field or fields to sort on and the direction of the sorting (ascending or descending).\n",
    "\n",
    "db.collection.find().sort({field: direction})\n",
    "\n",
    "{ \"_id\" : 1, \"name\" : \"John\", \"age\" : 25, \"salary\" : 50000 } { \"_id\" : 2, \"name\" : \"Jane\", \"age\" : 30, \"salary\" : 60000 } { \"_id\" : 3, \"name\" : \"Mary\", \"age\" : 28, \"salary\" : 55000 } { \"_id\" : 4, \"name\" : \"Bob\", \"age\" : 22, \"salary\" : 45000 }\n",
    "\n",
    "db.employees.find().sort({\"salary\": -1})\n",
    "\n",
    "Result { \"_id\" : 2, \"name\" : \"Jane\", \"age\" : 30, \"salary\" : 60000 } { \"_id\" : 3, \"name\" : \"Mary\", \"age\" : 28, \"salary\" : 55000 } { \"_id\" : 1, \"name\" : \"John\", \"age\" : 25, \"salary\" : 50000 } { \"_id\" : 4, \"name\" : \"Bob\", \"age\" : 22, \"salary\" : 45000 }"
   ]
  },
  {
   "cell_type": "markdown",
   "id": "69e821c1",
   "metadata": {},
   "source": [
    "### Q7. Explain why delete_one(), delete_many(), and drop() is used."
   ]
  },
  {
   "cell_type": "markdown",
   "id": "879b783e",
   "metadata": {},
   "source": [
    "In MongoDB, delete_one() method is used to delete the first document that matches the specified condition from a collection, while delete_many() method is used to delete all the documents that match the specified condition. Both methods return a DeleteResult object, which contains information about the operation such as the number of documents that were deleted.\n",
    "\n",
    "The drop() method is used to delete an entire collection from a database. This method does not take any parameters, and simply deletes the entire collection. It is a more drastic method of deleting data and should be used with caution. Once a collection is dropped, all the data it contained will be lost permanently.\n",
    "\n",
    "These methods are used to delete unwanted data from collections or entire collections itself."
   ]
  },
  {
   "cell_type": "code",
   "execution_count": null,
   "id": "68758afb",
   "metadata": {},
   "outputs": [],
   "source": []
  },
  {
   "cell_type": "code",
   "execution_count": null,
   "id": "73938908",
   "metadata": {},
   "outputs": [],
   "source": []
  },
  {
   "cell_type": "code",
   "execution_count": null,
   "id": "3a943b0b",
   "metadata": {},
   "outputs": [],
   "source": []
  },
  {
   "cell_type": "code",
   "execution_count": null,
   "id": "577745e3",
   "metadata": {},
   "outputs": [],
   "source": []
  },
  {
   "cell_type": "code",
   "execution_count": null,
   "id": "ee661430",
   "metadata": {},
   "outputs": [],
   "source": []
  },
  {
   "cell_type": "code",
   "execution_count": null,
   "id": "d3d6fba4",
   "metadata": {},
   "outputs": [],
   "source": []
  },
  {
   "cell_type": "code",
   "execution_count": null,
   "id": "3df1cd12",
   "metadata": {},
   "outputs": [],
   "source": []
  },
  {
   "cell_type": "code",
   "execution_count": null,
   "id": "85212359",
   "metadata": {},
   "outputs": [],
   "source": []
  }
 ],
 "metadata": {
  "kernelspec": {
   "display_name": "Python 3 (ipykernel)",
   "language": "python",
   "name": "python3"
  },
  "language_info": {
   "codemirror_mode": {
    "name": "ipython",
    "version": 3
   },
   "file_extension": ".py",
   "mimetype": "text/x-python",
   "name": "python",
   "nbconvert_exporter": "python",
   "pygments_lexer": "ipython3",
   "version": "3.10.8"
  }
 },
 "nbformat": 4,
 "nbformat_minor": 5
}
