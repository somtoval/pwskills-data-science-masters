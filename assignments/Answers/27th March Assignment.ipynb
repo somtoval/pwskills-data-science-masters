{
 "cells": [
  {
   "cell_type": "markdown",
   "id": "6dfb34d5",
   "metadata": {},
   "source": [
    "### Q1. Explain the concept of R-squared in linear regression models. How is it calculated, and what does it represent?"
   ]
  },
  {
   "cell_type": "markdown",
   "id": "d738acf2",
   "metadata": {},
   "source": [
    "R-square is a statistical measure that represents the proportion of variance in dependent variable that is explained by the independent variable in linear regression.\n",
    "\n",
    "In other words, R-squared measures the goodness-of-fit of the linear regression model, indicating how well the model fits the observed data. It ranges from 0 to 1, where 0 means that the model explains none of the variation in the dependent variable, and 1 means that the model explains all of the variation in the dependent variable.\n",
    "\n",
    "R² = 1 - (SS_res / SS_tot)\n",
    "\n",
    "where SS_res is the sum of squared residuals (i.e., the differences between the predicted values and the actual values of the dependent variable)\n",
    "\n",
    "SS_tot is the total sum of squared differences between the actual values and the mean of the dependent variable."
   ]
  },
  {
   "cell_type": "markdown",
   "id": "0304a7a8",
   "metadata": {},
   "source": [
    "### Q2. Define adjusted R-squared and explain how it differs from the regular R-squared. "
   ]
  },
  {
   "cell_type": "markdown",
   "id": "c4873512",
   "metadata": {},
   "source": [
    "Adjusted R-squared is a modified version of R-squared that takes into account the number of independent variables in the linear regression model. Unlike regular R-squared, which increases with the addition of any independent variable to the model, adjusted R-squared penalizes the addition of unnecessary variables that do not improve the fit of the model.\n",
    "\n",
    "Adjusted R-squared is calculated using the following formula:\n",
    "\n",
    "Adjusted R² = 1 - [(1 - R²) * (n - 1) / (n - k - 1)]\n",
    "\n",
    "where n is the number of observations, and k is the number of independent variables in the model.\n",
    "\n",
    "it helps to prevent overfitting."
   ]
  },
  {
   "cell_type": "markdown",
   "id": "3fab91af",
   "metadata": {},
   "source": [
    "### Q3. When is it more appropriate to use adjusted R-squared?"
   ]
  },
  {
   "cell_type": "markdown",
   "id": "17047d70",
   "metadata": {},
   "source": [
    "Adjusted R-squared is particularly useful when the sample size is small or when the number of predictors is substantial relative to the sample size. "
   ]
  },
  {
   "cell_type": "markdown",
   "id": "36982fbe",
   "metadata": {},
   "source": [
    "### Q4. What are RMSE, MSE, and MAE in the context of regression analysis? How are these metrics calculated, and what do they represent?"
   ]
  },
  {
   "cell_type": "markdown",
   "id": "68f1c613",
   "metadata": {},
   "source": [
    "In the context of regression analysis, RMSE, MSE, and MAE are all measures of the prediction error of a regression model, indicating how well the model fits the observed data and how accurate its predictions are.\n",
    "\n",
    "RMSE(Root Mean Square Error):\n",
    "- RMSE = sqrt[(1/n) * Σ(predicted - actual)^2]\n",
    "- RMSE is a popular metric because it penalizes large errors more than small errors, and its units are the same as that of the dependent variable.\n",
    "\n",
    "MSE(Mean Square Error):\n",
    "- MSE = (1/n) * Σ(predicted - actual)^2\n",
    "- MSE is also a useful metric because it is sensitive to large errors and provides a way to compare the performance of different models.\n",
    "\n",
    "MAE(Mean Absolute Error):\n",
    "- MAE = (1/n) * Σ|predicted - actual|\n",
    "- MAE is a useful metric because it is less sensitive to outliers than RMSE and MSE."
   ]
  },
  {
   "cell_type": "markdown",
   "id": "667afbb5",
   "metadata": {},
   "source": [
    "### Q5. Discuss the advantages and disadvantages of using RMSE, MSE, and MAE as evaluation metrics in regression analysis."
   ]
  },
  {
   "cell_type": "markdown",
   "id": "a1523df8",
   "metadata": {},
   "source": [
    "Advantages of RMSE:\n",
    "\n",
    "RMSE is sensitive to large errors, which means that it penalizes models that make large errors more heavily than models that make small errors. This is useful when the impact of large errors on the model's performance is significant. RMSE is expressed in the same units as the outcome variable, which makes it easier to interpret and compare across different models.\n",
    "\n",
    "Disadvantages of RMSE:\n",
    "\n",
    "RMSE can be influenced by outliers in the data, which may not necessarily reflect the overall performance of the model. RMSE is not as interpretable as other metrics, such as R-squared, which makes it difficult to understand the impact of the model's performance on the outcome variable.\n",
    "\n",
    "Advantages of MSE:\n",
    "\n",
    "MSE is similar to RMSE in that it is sensitive to large errors, but without the square root, which makes it easier to compute. Like RMSE, MSE is expressed in the same units as the outcome variable, which makes it easy to interpret and compare across different models.\n",
    "\n",
    "Disadvantages of MSE:\n",
    "\n",
    "MSE can be influenced by outliers in the data, which may not necessarily reflect the overall performance of the model. Like RMSE, MSE is not as interpretable as other metrics, such as R-squared, which makes it difficult to understand the impact of the model's performance on the outcome variable.\n",
    "\n",
    "Advantages of MAE:\n",
    "\n",
    "MAE is less sensitive to outliers than RMSE and MSE, which means that it is more robust to extreme values in the data. MAE is easier to interpret than RMSE and MSE, as it represents the average absolute difference between the predicted and actual values of the outcome variable.\n",
    "\n",
    "Disadvantages of MAE:\n",
    "\n",
    "MAE is not as sensitive to large errors as RMSE and MSE, which means that it may not penalize models that make large errors as heavily."
   ]
  },
  {
   "cell_type": "markdown",
   "id": "6afe5a17",
   "metadata": {},
   "source": [
    "### Q6. Explain the concept of Lasso regularization. How does it differ from Ridge regularization, and when is it more appropriate to use?"
   ]
  },
  {
   "cell_type": "markdown",
   "id": "e6eb7e12",
   "metadata": {},
   "source": [
    "Lasso regularization is a technique used in linear regression to reduce the impact of certain predictor variables on the model's output. It works by adding a penalty term to the model's cost function that is proportional to the absolute value of the coefficients of the predictor variables.\n",
    "\n",
    "Lasso regularization differs from Ridge regularization in the type of penalty term added to the cost function. Ridge regularization adds a penalty term that is proportional to the square of the coefficients of the predictor variables. This penalty term encourages the coefficients to be small, but not necessarily zero. This means that Ridge regularization is more suitable for situations where all predictor variables are expected to have some impact on the model's output, but some may be more important than others."
   ]
  },
  {
   "cell_type": "markdown",
   "id": "fbefe012",
   "metadata": {},
   "source": [
    "### Q7. How do regularized linear models help to prevent overfitting in machine learning? Provide an example to illustrate."
   ]
  },
  {
   "cell_type": "markdown",
   "id": "28aed2c2",
   "metadata": {},
   "source": [
    "Regularized is a tehcnique that reduce overfitting in model. Basically we have two types of regularized techniques that is ridge and lasso regularizations.\n",
    "\n",
    "Regularized linear models are a family of techniques used in machine learning to prevent overfitting. Overfitting occurs when a model is trained to fit the training data so closely that it captures noise or random variations in the data, rather than the underlying patterns that generalize well to new, unseen data. Regularized linear models add a penalty term to the model's cost function that discourages the coefficients of the predictor variables from taking on extreme values. This penalty term helps to balance the trade-off between fitting the training data well and generalizing to new data.\n",
    "\n",
    "Let's consider an example of fitting a linear regression model to predict housing prices. We have a dataset of 1000 houses with 10 predictor variables such as size, number of rooms, and location, and the target variable is the sale price of the house. We split the dataset into a training set of 700 houses and a test set of 300 houses. We fit a regularized linear regression model using Ridge regularization with an alpha parameter of 0.1. This means that the penalty term added to the cost function is proportional to the square of the coefficients of the predictor variables, with a weight of 0.1."
   ]
  },
  {
   "cell_type": "markdown",
   "id": "0f1909f3",
   "metadata": {},
   "source": [
    "### Q8. Discuss the limitations of regularized linear models and explain why they may not always be the best choice for regression analysis."
   ]
  },
  {
   "cell_type": "markdown",
   "id": "32691d9f",
   "metadata": {},
   "source": [
    "Linearity assumption: Regularized linear models assume that the relationship between the predictor variables and the target variable is linear. This may not be true in all cases, and non-linear relationships may require more complex models such as decision trees or neural networks.\n",
    "\n",
    "Feature selection: Regularized linear models can help with feature selection by reducing the importance of irrelevant or redundant predictor variables, but they may not always select the optimal subset of variables. In some cases, other feature selection techniques such as genetic algorithms or principal component analysis may be more effective.\n",
    "\n",
    "Interpretable models: Regularized linear models tend to produce models that are easy to interpret and explain, but this may not be desirable in all cases. In some applications such as image or speech recognition, the focus may be on accuracy rather than interpretability, and more complex models may be necessary.\n",
    "\n",
    "Outliers: Regularized linear models are sensitive to outliers, which can distort the regression line and lead to poor performance. Other techniques such as robust regression or decision trees may be more robust to outliers.\n",
    "\n",
    "High-dimensional data: Regularized linear models may not perform well on high-dimensional data, where the number of predictor variables is much larger than the number of observations. In such cases, other techniques such as random forests or support vector machines may be more appropriate.\n",
    "\n",
    "regularized linear models are a powerful tool for regression analysis, but they may not always be the best choice for every problem. It's important to carefully consider the assumptions and limitations of these models, and to explore other techniques if necessary to find the optimal solution."
   ]
  },
  {
   "cell_type": "markdown",
   "id": "f2b61ef6",
   "metadata": {},
   "source": [
    "### Q9. You are comparing the performance of two regression models using different evaluation metrics. Model A has an RMSE of 10, while Model B has an MAE of 8. Which model would you choose as the better performer, and why? Are there any limitations to your choice of metric?"
   ]
  },
  {
   "cell_type": "markdown",
   "id": "71baf49f",
   "metadata": {},
   "source": [
    "If we are interested in the overall magnitude of errors, then we might choose Model A, which has a lower Root Mean Squared Error (RMSE). The RMSE is a widely used metric for regression problems and is sensitive to large errors, as it takes the square of the errors before averaging them.\n",
    "\n",
    "However, if we are more interested in the direction of errors and want to penalize large errors less, then we might choose Model B, which has a lower Mean Absolute Error (MAE). The MAE is also a widely used metric for regression problems and is more robust to outliers than RMSE, as it only takes the absolute value of the errors before averaging them."
   ]
  },
  {
   "cell_type": "markdown",
   "id": "649c5beb",
   "metadata": {},
   "source": [
    "### Q10. You are comparing the performance of two regularized linear models using different types of regularization. Model A uses Ridge regularization with a regularization parameter of 0.1, while Model B uses Lasso regularization with a regularization parameter of 0.5. Which model would you choose as the better performer, and why? Are there any trade-offs or limitations to your choice of regularization method?"
   ]
  },
  {
   "cell_type": "markdown",
   "id": "c7d843ee",
   "metadata": {},
   "source": [
    "If we are interested in maintaining all the predictor variables in the model, we might choose Model A, which uses Ridge regularization. Ridge regularization shrinks the regression coefficients towards zero, but does not set any coefficients exactly to zero. Therefore, Ridge regularization is useful when we want to keep all the predictor variables in the model and reduce their impact on the response variable.\n",
    "\n",
    "However, if we want to select a subset of the most important predictor variables and discard the rest, we might choose Model B, which uses Lasso regularization. Lasso regularization not only shrinks the regression coefficients towards zero but also sets some coefficients exactly to zero. Therefore, Lasso regularization is useful when we want to perform feature selection and reduce the number of predictor variables in the model."
   ]
  },
  {
   "cell_type": "code",
   "execution_count": null,
   "id": "e3afa122",
   "metadata": {},
   "outputs": [],
   "source": []
  }
 ],
 "metadata": {
  "kernelspec": {
   "display_name": "Python 3 (ipykernel)",
   "language": "python",
   "name": "python3"
  },
  "language_info": {
   "codemirror_mode": {
    "name": "ipython",
    "version": 3
   },
   "file_extension": ".py",
   "mimetype": "text/x-python",
   "name": "python",
   "nbconvert_exporter": "python",
   "pygments_lexer": "ipython3",
   "version": "3.10.8"
  }
 },
 "nbformat": 4,
 "nbformat_minor": 5
}
